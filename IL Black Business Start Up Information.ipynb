{
 "cells": [
  {
   "cell_type": "code",
   "execution_count": 1,
   "id": "d9427699-74fa-4050-b5ab-3eec639a85e4",
   "metadata": {
    "tags": []
   },
   "outputs": [],
   "source": [
    "import seaborn as sns\n",
    "from sklearn.utils import shuffle\n",
    "from sklearn.linear_model import LinearRegression\n",
    "from sklearn.model_selection import train_test_split\n",
    "import matplotlib.pyplot as plt\n",
    "get_ipython().run_line_magic('matplotlib', 'inline')\n",
    "from sklearn import metrics\n",
    "import numpy as np\n",
    "import pandas as pd"
   ]
  },
  {
   "cell_type": "code",
   "execution_count": 2,
   "id": "2b59b707-5d4b-4310-8ad7-2a05db18fa6e",
   "metadata": {
    "tags": []
   },
   "outputs": [],
   "source": [
    "IL_Black_Business_Start_Up_Information = pd.read_csv(\"/Users/rachelhawkins/Desktop/Data-Science-Program/DS110-Final Project/IL Black Business Start-Up Information.csv\")"
   ]
  },
  {
   "cell_type": "code",
   "execution_count": 3,
   "id": "3b7d861c-d150-41e2-895e-f22a461b4dea",
   "metadata": {
    "tags": []
   },
   "outputs": [
    {
     "data": {
      "text/html": [
       "<div>\n",
       "<style scoped>\n",
       "    .dataframe tbody tr th:only-of-type {\n",
       "        vertical-align: middle;\n",
       "    }\n",
       "\n",
       "    .dataframe tbody tr th {\n",
       "        vertical-align: top;\n",
       "    }\n",
       "\n",
       "    .dataframe thead th {\n",
       "        text-align: right;\n",
       "    }\n",
       "</style>\n",
       "<table border=\"1\" class=\"dataframe\">\n",
       "  <thead>\n",
       "    <tr style=\"text-align: right;\">\n",
       "      <th></th>\n",
       "      <th>Unnamed: 0</th>\n",
       "      <th>Unnamed: 1</th>\n",
       "    </tr>\n",
       "  </thead>\n",
       "  <tbody>\n",
       "    <tr>\n",
       "      <th>0</th>\n",
       "      <td>I started the business by myself.</td>\n",
       "      <td>81.80%</td>\n",
       "    </tr>\n",
       "    <tr>\n",
       "      <th>1</th>\n",
       "      <td>I started the business with a partner(s).  ",
       "\\n</td>\n",
       "      <td>12.13%</td>\n",
       "    </tr>\n",
       "    <tr>\n",
       "      <th>2</th>\n",
       "      <td>I purchased a franchise.  ",
       "\\n</td>\n",
       "      <td>2.22%</td>\n",
       "    </tr>\n",
       "    <tr>\n",
       "      <th>3</th>\n",
       "      <td>I purchased the business from a non-family sou...</td>\n",
       "      <td>2.51%</td>\n",
       "    </tr>\n",
       "    <tr>\n",
       "      <th>4</th>\n",
       "      <td>I purchased the business from a family member....</td>\n",
       "      <td>0.59%</td>\n",
       "    </tr>\n",
       "  </tbody>\n",
       "</table>\n",
       "</div>"
      ],
      "text/plain": [
       "                                          Unnamed: 0 Unnamed: 1\n",
       "0                 I started the business by myself.      81.80%\n",
       "1      I started the business with a partner(s). \n",
       "\\n     12.13%\n",
       "2                       I purchased a franchise. \n",
       "\\n      2.22%\n",
       "3  I purchased the business from a non-family sou...      2.51%\n",
       "4  I purchased the business from a family member....      0.59%"
      ]
     },
     "execution_count": 3,
     "metadata": {},
     "output_type": "execute_result"
    }
   ],
   "source": [
    "IL_Black_Business_Start_Up_Information.head()"
   ]
  },
  {
   "cell_type": "code",
   "execution_count": 4,
   "id": "0225e20d-471a-44b1-a088-20b8b1ad24ed",
   "metadata": {
    "tags": []
   },
   "outputs": [],
   "source": [
    "IL_Black_Business_Start_Up_Information.rename(columns={'Unnamed: 0':'Status'}, inplace=True)"
   ]
  },
  {
   "cell_type": "code",
   "execution_count": 5,
   "id": "9e85b7e2-db20-458d-b820-d745f7cbdb23",
   "metadata": {
    "tags": []
   },
   "outputs": [],
   "source": [
    "IL_Black_Business_Start_Up_Information.rename(columns={'Unnamed: 1':'Percentage'}, inplace=True)"
   ]
  },
  {
   "cell_type": "code",
   "execution_count": 6,
   "id": "69adfe7c-ec56-47c4-b6e7-1dec9eb37ea9",
   "metadata": {
    "tags": []
   },
   "outputs": [
    {
     "data": {
      "text/html": [
       "<div>\n",
       "<style scoped>\n",
       "    .dataframe tbody tr th:only-of-type {\n",
       "        vertical-align: middle;\n",
       "    }\n",
       "\n",
       "    .dataframe tbody tr th {\n",
       "        vertical-align: top;\n",
       "    }\n",
       "\n",
       "    .dataframe thead th {\n",
       "        text-align: right;\n",
       "    }\n",
       "</style>\n",
       "<table border=\"1\" class=\"dataframe\">\n",
       "  <thead>\n",
       "    <tr style=\"text-align: right;\">\n",
       "      <th></th>\n",
       "      <th>Status</th>\n",
       "      <th>Percentage</th>\n",
       "    </tr>\n",
       "  </thead>\n",
       "  <tbody>\n",
       "    <tr>\n",
       "      <th>0</th>\n",
       "      <td>I started the business by myself.</td>\n",
       "      <td>81.80%</td>\n",
       "    </tr>\n",
       "    <tr>\n",
       "      <th>1</th>\n",
       "      <td>I started the business with a partner(s).  ",
       "\\n</td>\n",
       "      <td>12.13%</td>\n",
       "    </tr>\n",
       "    <tr>\n",
       "      <th>2</th>\n",
       "      <td>I purchased a franchise.  ",
       "\\n</td>\n",
       "      <td>2.22%</td>\n",
       "    </tr>\n",
       "    <tr>\n",
       "      <th>3</th>\n",
       "      <td>I purchased the business from a non-family sou...</td>\n",
       "      <td>2.51%</td>\n",
       "    </tr>\n",
       "    <tr>\n",
       "      <th>4</th>\n",
       "      <td>I purchased the business from a family member....</td>\n",
       "      <td>0.59%</td>\n",
       "    </tr>\n",
       "  </tbody>\n",
       "</table>\n",
       "</div>"
      ],
      "text/plain": [
       "                                              Status Percentage\n",
       "0                 I started the business by myself.      81.80%\n",
       "1      I started the business with a partner(s). \n",
       "\\n     12.13%\n",
       "2                       I purchased a franchise. \n",
       "\\n      2.22%\n",
       "3  I purchased the business from a non-family sou...      2.51%\n",
       "4  I purchased the business from a family member....      0.59%"
      ]
     },
     "execution_count": 6,
     "metadata": {},
     "output_type": "execute_result"
    }
   ],
   "source": [
    "IL_Black_Business_Start_Up_Information.head()"
   ]
  },
  {
   "cell_type": "code",
   "execution_count": null,
   "id": "21a8b15e-3170-46c7-bb3c-2967fc192280",
   "metadata": {},
   "outputs": [],
   "source": []
  }
 ],
 "metadata": {
  "kernelspec": {
   "display_name": "Python 3 (ipykernel)",
   "language": "python",
   "name": "python3"
  },
  "language_info": {
   "codemirror_mode": {
    "name": "ipython",
    "version": 3
   },
   "file_extension": ".py",
   "mimetype": "text/x-python",
   "name": "python",
   "nbconvert_exporter": "python",
   "pygments_lexer": "ipython3",
   "version": "3.11.4"
  }
 },
 "nbformat": 4,
 "nbformat_minor": 5
}
