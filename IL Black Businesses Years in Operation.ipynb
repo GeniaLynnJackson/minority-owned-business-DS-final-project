{
 "cells": [
  {
   "cell_type": "code",
   "execution_count": 1,
   "id": "d9863982-48b0-4f7a-b8c5-b7f6d2e1414b",
   "metadata": {
    "tags": []
   },
   "outputs": [],
   "source": [
    "import seaborn as sns\n",
    "from sklearn.utils import shuffle\n",
    "from sklearn.linear_model import LinearRegression\n",
    "from sklearn.model_selection import train_test_split\n",
    "import matplotlib.pyplot as plt\n",
    "get_ipython().run_line_magic('matplotlib', 'inline')\n",
    "from sklearn import metrics\n",
    "import numpy as np\n",
    "import pandas as pd"
   ]
  },
  {
   "cell_type": "code",
   "execution_count": 2,
   "id": "ace31fc9-3d75-4565-8632-93cfa34d1a9a",
   "metadata": {
    "tags": []
   },
   "outputs": [],
   "source": [
    "IL_Black_Businesses_Years_in_Operation = pd.read_csv(\"/Users/rachelhawkins/Desktop/Data-Science-Program/DS110-Final Project/Illinois/IL Black Businesses Years in Operation.csv\")"
   ]
  },
  {
   "cell_type": "code",
   "execution_count": 3,
   "id": "b6ca3bf7-d9d1-4a79-a910-64f6d658b17b",
   "metadata": {
    "tags": []
   },
   "outputs": [
    {
     "data": {
      "text/html": [
       "<div>\n",
       "<style scoped>\n",
       "    .dataframe tbody tr th:only-of-type {\n",
       "        vertical-align: middle;\n",
       "    }\n",
       "\n",
       "    .dataframe tbody tr th {\n",
       "        vertical-align: top;\n",
       "    }\n",
       "\n",
       "    .dataframe thead th {\n",
       "        text-align: right;\n",
       "    }\n",
       "</style>\n",
       "<table border=\"1\" class=\"dataframe\">\n",
       "  <thead>\n",
       "    <tr style=\"text-align: right;\">\n",
       "      <th></th>\n",
       "      <th>Unnamed: 0</th>\n",
       "      <th>Unnamed: 1</th>\n",
       "    </tr>\n",
       "  </thead>\n",
       "  <tbody>\n",
       "    <tr>\n",
       "      <th>0</th>\n",
       "      <td>- 1 year</td>\n",
       "      <td>10.62%</td>\n",
       "    </tr>\n",
       "    <tr>\n",
       "      <th>1</th>\n",
       "      <td>1-2 years</td>\n",
       "      <td>20.80%</td>\n",
       "    </tr>\n",
       "    <tr>\n",
       "      <th>2</th>\n",
       "      <td>3-4 years</td>\n",
       "      <td>17.70%</td>\n",
       "    </tr>\n",
       "    <tr>\n",
       "      <th>3</th>\n",
       "      <td>5-9 years</td>\n",
       "      <td>20.06%</td>\n",
       "    </tr>\n",
       "    <tr>\n",
       "      <th>4</th>\n",
       "      <td>10-14 years</td>\n",
       "      <td>10.03%</td>\n",
       "    </tr>\n",
       "  </tbody>\n",
       "</table>\n",
       "</div>"
      ],
      "text/plain": [
       "    Unnamed: 0 Unnamed: 1\n",
       "0     - 1 year     10.62%\n",
       "1    1-2 years     20.80%\n",
       "2    3-4 years     17.70%\n",
       "3    5-9 years     20.06%\n",
       "4  10-14 years     10.03%"
      ]
     },
     "execution_count": 3,
     "metadata": {},
     "output_type": "execute_result"
    }
   ],
   "source": [
    "IL_Black_Businesses_Years_in_Operation.head()"
   ]
  },
  {
   "cell_type": "code",
   "execution_count": 4,
   "id": "b2796241-bedb-4c8b-ba26-703e94898048",
   "metadata": {
    "tags": []
   },
   "outputs": [],
   "source": [
    "IL_Black_Businesses_Years_in_Operation.rename(columns={'Unnamed: 0':'Status'}, inplace=True)"
   ]
  },
  {
   "cell_type": "code",
   "execution_count": 5,
   "id": "8564ce3d-6c22-4995-a429-57eb3d476163",
   "metadata": {
    "tags": []
   },
   "outputs": [],
   "source": [
    "IL_Black_Businesses_Years_in_Operation.rename(columns={'Unnamed: 1':'Percentage'}, inplace=True)"
   ]
  },
  {
   "cell_type": "code",
   "execution_count": 6,
   "id": "f322f45b-a21c-44db-8203-20a2ffc5ca27",
   "metadata": {
    "tags": []
   },
   "outputs": [
    {
     "data": {
      "text/html": [
       "<div>\n",
       "<style scoped>\n",
       "    .dataframe tbody tr th:only-of-type {\n",
       "        vertical-align: middle;\n",
       "    }\n",
       "\n",
       "    .dataframe tbody tr th {\n",
       "        vertical-align: top;\n",
       "    }\n",
       "\n",
       "    .dataframe thead th {\n",
       "        text-align: right;\n",
       "    }\n",
       "</style>\n",
       "<table border=\"1\" class=\"dataframe\">\n",
       "  <thead>\n",
       "    <tr style=\"text-align: right;\">\n",
       "      <th></th>\n",
       "      <th>Status</th>\n",
       "      <th>Percentage</th>\n",
       "    </tr>\n",
       "  </thead>\n",
       "  <tbody>\n",
       "    <tr>\n",
       "      <th>0</th>\n",
       "      <td>- 1 year</td>\n",
       "      <td>10.62%</td>\n",
       "    </tr>\n",
       "    <tr>\n",
       "      <th>1</th>\n",
       "      <td>1-2 years</td>\n",
       "      <td>20.80%</td>\n",
       "    </tr>\n",
       "    <tr>\n",
       "      <th>2</th>\n",
       "      <td>3-4 years</td>\n",
       "      <td>17.70%</td>\n",
       "    </tr>\n",
       "    <tr>\n",
       "      <th>3</th>\n",
       "      <td>5-9 years</td>\n",
       "      <td>20.06%</td>\n",
       "    </tr>\n",
       "    <tr>\n",
       "      <th>4</th>\n",
       "      <td>10-14 years</td>\n",
       "      <td>10.03%</td>\n",
       "    </tr>\n",
       "  </tbody>\n",
       "</table>\n",
       "</div>"
      ],
      "text/plain": [
       "        Status Percentage\n",
       "0     - 1 year     10.62%\n",
       "1    1-2 years     20.80%\n",
       "2    3-4 years     17.70%\n",
       "3    5-9 years     20.06%\n",
       "4  10-14 years     10.03%"
      ]
     },
     "execution_count": 6,
     "metadata": {},
     "output_type": "execute_result"
    }
   ],
   "source": [
    "IL_Black_Businesses_Years_in_Operation.head()"
   ]
  },
  {
   "cell_type": "code",
   "execution_count": null,
   "id": "59aa0a7d-9eca-498d-8990-895da9309b83",
   "metadata": {},
   "outputs": [],
   "source": []
  }
 ],
 "metadata": {
  "kernelspec": {
   "display_name": "Python 3 (ipykernel)",
   "language": "python",
   "name": "python3"
  },
  "language_info": {
   "codemirror_mode": {
    "name": "ipython",
    "version": 3
   },
   "file_extension": ".py",
   "mimetype": "text/x-python",
   "name": "python",
   "nbconvert_exporter": "python",
   "pygments_lexer": "ipython3",
   "version": "3.11.4"
  }
 },
 "nbformat": 4,
 "nbformat_minor": 5
}
