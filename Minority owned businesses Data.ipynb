{
 "cells": [
  {
   "cell_type": "markdown",
   "id": "1c38c02d",
   "metadata": {},
   "source": [
    "# Import Packages"
   ]
  },
  {
   "cell_type": "code",
   "execution_count": 1,
   "id": "a3fd808f",
   "metadata": {},
   "outputs": [],
   "source": [
    "import seaborn as sns\n",
    "from sklearn.utils import shuffle\n",
    "from sklearn.linear_model import LinearRegression\n",
    "from sklearn.model_selection import train_test_split\n",
    "import matplotlib.pyplot as plt\n",
    "%matplotlib inline\n",
    "from sklearn import metrics\n",
    "import numpy as np\n",
    "import pandas as pd"
   ]
  },
  {
   "cell_type": "markdown",
   "id": "1ceef7f8",
   "metadata": {},
   "source": [
    "# Import Minority Owned Businesses Data"
   ]
  },
  {
   "cell_type": "code",
   "execution_count": 2,
   "id": "bbf3c23f",
   "metadata": {},
   "outputs": [],
   "source": [
    "Minority_owned_business = pd.read_csv('C:/Users/baby_/OneDrive/Desktop/Final Project/Minority.csv', encoding='latin-1')"
   ]
  },
  {
   "cell_type": "code",
   "execution_count": 3,
   "id": "3afb65d2",
   "metadata": {},
   "outputs": [
    {
     "data": {
      "text/html": [
       "<div>\n",
       "<style scoped>\n",
       "    .dataframe tbody tr th:only-of-type {\n",
       "        vertical-align: middle;\n",
       "    }\n",
       "\n",
       "    .dataframe tbody tr th {\n",
       "        vertical-align: top;\n",
       "    }\n",
       "\n",
       "    .dataframe thead th {\n",
       "        text-align: right;\n",
       "    }\n",
       "</style>\n",
       "<table border=\"1\" class=\"dataframe\">\n",
       "  <thead>\n",
       "    <tr style=\"text-align: right;\">\n",
       "      <th></th>\n",
       "      <th>Race/ethncity of owner</th>\n",
       "      <th>% of total of businesses</th>\n",
       "      <th>Average Revenue per employer ($1000)</th>\n",
       "      <th>Average employer per Business</th>\n",
       "      <th>Average Payroll per businesses ($1,000)</th>\n",
       "      <th>% Unable to maintain operations (Impact Covid-19)</th>\n",
       "      <th>% Able to maintain operations at or below cuurent levels (Impact Covid- 19)</th>\n",
       "      <th>% Able to maintain operations at or above levels (Impact Covid- 19)</th>\n",
       "    </tr>\n",
       "  </thead>\n",
       "  <tbody>\n",
       "    <tr>\n",
       "      <th>0</th>\n",
       "      <td>Black-owned</td>\n",
       "      <td>2</td>\n",
       "      <td>1,001</td>\n",
       "      <td>9</td>\n",
       "      <td>300</td>\n",
       "      <td>3.9</td>\n",
       "      <td>36.2</td>\n",
       "      <td>42.5</td>\n",
       "    </tr>\n",
       "    <tr>\n",
       "      <th>1</th>\n",
       "      <td>Hispanic-owned</td>\n",
       "      <td>7</td>\n",
       "      <td>1,259</td>\n",
       "      <td>8</td>\n",
       "      <td>281</td>\n",
       "      <td>8.0</td>\n",
       "      <td>23.0</td>\n",
       "      <td>5.0</td>\n",
       "    </tr>\n",
       "    <tr>\n",
       "      <th>2</th>\n",
       "      <td>Asian-owned</td>\n",
       "      <td>11</td>\n",
       "      <td>1,374</td>\n",
       "      <td>8</td>\n",
       "      <td>307</td>\n",
       "      <td>9.0</td>\n",
       "      <td>10.9</td>\n",
       "      <td>25.5</td>\n",
       "    </tr>\n",
       "    <tr>\n",
       "      <th>3</th>\n",
       "      <td>American Indian and Alaska Native-owned</td>\n",
       "      <td>1</td>\n",
       "      <td>221</td>\n",
       "      <td>8</td>\n",
       "      <td>109</td>\n",
       "      <td>83.0</td>\n",
       "      <td>8.9</td>\n",
       "      <td>0.0</td>\n",
       "    </tr>\n",
       "    <tr>\n",
       "      <th>4</th>\n",
       "      <td>Native Hawaiian and Other Pacific Islander-owned</td>\n",
       "      <td>0</td>\n",
       "      <td>55</td>\n",
       "      <td>8</td>\n",
       "      <td>45</td>\n",
       "      <td>NaN</td>\n",
       "      <td>4.9</td>\n",
       "      <td>0.0</td>\n",
       "    </tr>\n",
       "  </tbody>\n",
       "</table>\n",
       "</div>"
      ],
      "text/plain": [
       "                              Race/ethncity of owner  \\\n",
       "0                                        Black-owned   \n",
       "1                                     Hispanic-owned   \n",
       "2                                        Asian-owned   \n",
       "3            American Indian and Alaska Native-owned   \n",
       "4  Native Hawaiian and Other Pacific Islander-owned    \n",
       "\n",
       "   % of total of businesses Average Revenue per employer ($1000)  \\\n",
       "0                         2                                1,001   \n",
       "1                         7                                1,259   \n",
       "2                        11                                1,374   \n",
       "3                         1                                  221   \n",
       "4                         0                                   55   \n",
       "\n",
       "   Average employer per Business  Average Payroll per businesses ($1,000)  \\\n",
       "0                              9                                      300   \n",
       "1                              8                                      281   \n",
       "2                              8                                      307   \n",
       "3                              8                                      109   \n",
       "4                              8                                       45   \n",
       "\n",
       "   % Unable to maintain operations (Impact Covid-19)  \\\n",
       "0                                                3.9   \n",
       "1                                                8.0   \n",
       "2                                                9.0   \n",
       "3                                               83.0   \n",
       "4                                                NaN   \n",
       "\n",
       "   % Able to maintain operations at or below cuurent levels (Impact Covid- 19)  \\\n",
       "0                                               36.2                             \n",
       "1                                               23.0                             \n",
       "2                                               10.9                             \n",
       "3                                                8.9                             \n",
       "4                                                4.9                             \n",
       "\n",
       "   % Able to maintain operations at or above levels (Impact Covid- 19)  \n",
       "0                                               42.5                    \n",
       "1                                                5.0                    \n",
       "2                                               25.5                    \n",
       "3                                                0.0                    \n",
       "4                                                0.0                    "
      ]
     },
     "execution_count": 3,
     "metadata": {},
     "output_type": "execute_result"
    }
   ],
   "source": [
    "Minority_owned_business.head()"
   ]
  },
  {
   "cell_type": "markdown",
   "id": "868caa06",
   "metadata": {},
   "source": [
    "# Rename Columns"
   ]
  },
  {
   "cell_type": "markdown",
   "id": "699eb395",
   "metadata": {},
   "source": [
    "## Rename Columns 2,6,7 and 8"
   ]
  },
  {
   "cell_type": "code",
   "execution_count": 4,
   "id": "11090f4e",
   "metadata": {},
   "outputs": [],
   "source": [
    "Minority_owned_business.rename(columns={'% of total of businesses' : '% businesses total'}, inplace=True)"
   ]
  },
  {
   "cell_type": "code",
   "execution_count": 5,
   "id": "218f19b0",
   "metadata": {},
   "outputs": [
    {
     "data": {
      "text/html": [
       "<div>\n",
       "<style scoped>\n",
       "    .dataframe tbody tr th:only-of-type {\n",
       "        vertical-align: middle;\n",
       "    }\n",
       "\n",
       "    .dataframe tbody tr th {\n",
       "        vertical-align: top;\n",
       "    }\n",
       "\n",
       "    .dataframe thead th {\n",
       "        text-align: right;\n",
       "    }\n",
       "</style>\n",
       "<table border=\"1\" class=\"dataframe\">\n",
       "  <thead>\n",
       "    <tr style=\"text-align: right;\">\n",
       "      <th></th>\n",
       "      <th>Race/ethncity of owner</th>\n",
       "      <th>% businesses total</th>\n",
       "      <th>Average Revenue per employer ($1000)</th>\n",
       "      <th>Average employer per Business</th>\n",
       "      <th>Average Payroll per businesses ($1,000)</th>\n",
       "      <th>% Unable to maintain operations (Impact Covid-19)</th>\n",
       "      <th>% Able to maintain operations at or below cuurent levels (Impact Covid- 19)</th>\n",
       "      <th>% Able to maintain operations at or above levels (Impact Covid- 19)</th>\n",
       "    </tr>\n",
       "  </thead>\n",
       "  <tbody>\n",
       "    <tr>\n",
       "      <th>0</th>\n",
       "      <td>Black-owned</td>\n",
       "      <td>2</td>\n",
       "      <td>1,001</td>\n",
       "      <td>9</td>\n",
       "      <td>300</td>\n",
       "      <td>3.9</td>\n",
       "      <td>36.2</td>\n",
       "      <td>42.5</td>\n",
       "    </tr>\n",
       "    <tr>\n",
       "      <th>1</th>\n",
       "      <td>Hispanic-owned</td>\n",
       "      <td>7</td>\n",
       "      <td>1,259</td>\n",
       "      <td>8</td>\n",
       "      <td>281</td>\n",
       "      <td>8.0</td>\n",
       "      <td>23.0</td>\n",
       "      <td>5.0</td>\n",
       "    </tr>\n",
       "    <tr>\n",
       "      <th>2</th>\n",
       "      <td>Asian-owned</td>\n",
       "      <td>11</td>\n",
       "      <td>1,374</td>\n",
       "      <td>8</td>\n",
       "      <td>307</td>\n",
       "      <td>9.0</td>\n",
       "      <td>10.9</td>\n",
       "      <td>25.5</td>\n",
       "    </tr>\n",
       "    <tr>\n",
       "      <th>3</th>\n",
       "      <td>American Indian and Alaska Native-owned</td>\n",
       "      <td>1</td>\n",
       "      <td>221</td>\n",
       "      <td>8</td>\n",
       "      <td>109</td>\n",
       "      <td>83.0</td>\n",
       "      <td>8.9</td>\n",
       "      <td>0.0</td>\n",
       "    </tr>\n",
       "    <tr>\n",
       "      <th>4</th>\n",
       "      <td>Native Hawaiian and Other Pacific Islander-owned</td>\n",
       "      <td>0</td>\n",
       "      <td>55</td>\n",
       "      <td>8</td>\n",
       "      <td>45</td>\n",
       "      <td>NaN</td>\n",
       "      <td>4.9</td>\n",
       "      <td>0.0</td>\n",
       "    </tr>\n",
       "  </tbody>\n",
       "</table>\n",
       "</div>"
      ],
      "text/plain": [
       "                              Race/ethncity of owner  % businesses total  \\\n",
       "0                                        Black-owned                   2   \n",
       "1                                     Hispanic-owned                   7   \n",
       "2                                        Asian-owned                  11   \n",
       "3            American Indian and Alaska Native-owned                   1   \n",
       "4  Native Hawaiian and Other Pacific Islander-owned                    0   \n",
       "\n",
       "  Average Revenue per employer ($1000)  Average employer per Business  \\\n",
       "0                                1,001                              9   \n",
       "1                                1,259                              8   \n",
       "2                                1,374                              8   \n",
       "3                                  221                              8   \n",
       "4                                   55                              8   \n",
       "\n",
       "   Average Payroll per businesses ($1,000)  \\\n",
       "0                                      300   \n",
       "1                                      281   \n",
       "2                                      307   \n",
       "3                                      109   \n",
       "4                                       45   \n",
       "\n",
       "   % Unable to maintain operations (Impact Covid-19)  \\\n",
       "0                                                3.9   \n",
       "1                                                8.0   \n",
       "2                                                9.0   \n",
       "3                                               83.0   \n",
       "4                                                NaN   \n",
       "\n",
       "   % Able to maintain operations at or below cuurent levels (Impact Covid- 19)  \\\n",
       "0                                               36.2                             \n",
       "1                                               23.0                             \n",
       "2                                               10.9                             \n",
       "3                                                8.9                             \n",
       "4                                                4.9                             \n",
       "\n",
       "   % Able to maintain operations at or above levels (Impact Covid- 19)  \n",
       "0                                               42.5                    \n",
       "1                                                5.0                    \n",
       "2                                               25.5                    \n",
       "3                                                0.0                    \n",
       "4                                                0.0                    "
      ]
     },
     "execution_count": 5,
     "metadata": {},
     "output_type": "execute_result"
    }
   ],
   "source": [
    "Minority_owned_business.head()"
   ]
  },
  {
   "cell_type": "code",
   "execution_count": 6,
   "id": "6fb3650a",
   "metadata": {},
   "outputs": [],
   "source": [
    "Minority_owned_business.rename(columns={'% Unable to maintain operations (Impact Covid-19)' : 'Covid Loss'}, inplace=True)"
   ]
  },
  {
   "cell_type": "code",
   "execution_count": 7,
   "id": "db5a0854",
   "metadata": {},
   "outputs": [
    {
     "data": {
      "text/html": [
       "<div>\n",
       "<style scoped>\n",
       "    .dataframe tbody tr th:only-of-type {\n",
       "        vertical-align: middle;\n",
       "    }\n",
       "\n",
       "    .dataframe tbody tr th {\n",
       "        vertical-align: top;\n",
       "    }\n",
       "\n",
       "    .dataframe thead th {\n",
       "        text-align: right;\n",
       "    }\n",
       "</style>\n",
       "<table border=\"1\" class=\"dataframe\">\n",
       "  <thead>\n",
       "    <tr style=\"text-align: right;\">\n",
       "      <th></th>\n",
       "      <th>Race/ethncity of owner</th>\n",
       "      <th>% businesses total</th>\n",
       "      <th>Average Revenue per employer ($1000)</th>\n",
       "      <th>Average employer per Business</th>\n",
       "      <th>Average Payroll per businesses ($1,000)</th>\n",
       "      <th>Covid Loss</th>\n",
       "      <th>% Able to maintain operations at or below cuurent levels (Impact Covid- 19)</th>\n",
       "      <th>% Able to maintain operations at or above levels (Impact Covid- 19)</th>\n",
       "    </tr>\n",
       "  </thead>\n",
       "  <tbody>\n",
       "    <tr>\n",
       "      <th>0</th>\n",
       "      <td>Black-owned</td>\n",
       "      <td>2</td>\n",
       "      <td>1,001</td>\n",
       "      <td>9</td>\n",
       "      <td>300</td>\n",
       "      <td>3.9</td>\n",
       "      <td>36.2</td>\n",
       "      <td>42.5</td>\n",
       "    </tr>\n",
       "    <tr>\n",
       "      <th>1</th>\n",
       "      <td>Hispanic-owned</td>\n",
       "      <td>7</td>\n",
       "      <td>1,259</td>\n",
       "      <td>8</td>\n",
       "      <td>281</td>\n",
       "      <td>8.0</td>\n",
       "      <td>23.0</td>\n",
       "      <td>5.0</td>\n",
       "    </tr>\n",
       "    <tr>\n",
       "      <th>2</th>\n",
       "      <td>Asian-owned</td>\n",
       "      <td>11</td>\n",
       "      <td>1,374</td>\n",
       "      <td>8</td>\n",
       "      <td>307</td>\n",
       "      <td>9.0</td>\n",
       "      <td>10.9</td>\n",
       "      <td>25.5</td>\n",
       "    </tr>\n",
       "    <tr>\n",
       "      <th>3</th>\n",
       "      <td>American Indian and Alaska Native-owned</td>\n",
       "      <td>1</td>\n",
       "      <td>221</td>\n",
       "      <td>8</td>\n",
       "      <td>109</td>\n",
       "      <td>83.0</td>\n",
       "      <td>8.9</td>\n",
       "      <td>0.0</td>\n",
       "    </tr>\n",
       "    <tr>\n",
       "      <th>4</th>\n",
       "      <td>Native Hawaiian and Other Pacific Islander-owned</td>\n",
       "      <td>0</td>\n",
       "      <td>55</td>\n",
       "      <td>8</td>\n",
       "      <td>45</td>\n",
       "      <td>NaN</td>\n",
       "      <td>4.9</td>\n",
       "      <td>0.0</td>\n",
       "    </tr>\n",
       "  </tbody>\n",
       "</table>\n",
       "</div>"
      ],
      "text/plain": [
       "                              Race/ethncity of owner  % businesses total  \\\n",
       "0                                        Black-owned                   2   \n",
       "1                                     Hispanic-owned                   7   \n",
       "2                                        Asian-owned                  11   \n",
       "3            American Indian and Alaska Native-owned                   1   \n",
       "4  Native Hawaiian and Other Pacific Islander-owned                    0   \n",
       "\n",
       "  Average Revenue per employer ($1000)  Average employer per Business  \\\n",
       "0                                1,001                              9   \n",
       "1                                1,259                              8   \n",
       "2                                1,374                              8   \n",
       "3                                  221                              8   \n",
       "4                                   55                              8   \n",
       "\n",
       "   Average Payroll per businesses ($1,000)  Covid Loss  \\\n",
       "0                                      300         3.9   \n",
       "1                                      281         8.0   \n",
       "2                                      307         9.0   \n",
       "3                                      109        83.0   \n",
       "4                                       45         NaN   \n",
       "\n",
       "   % Able to maintain operations at or below cuurent levels (Impact Covid- 19)  \\\n",
       "0                                               36.2                             \n",
       "1                                               23.0                             \n",
       "2                                               10.9                             \n",
       "3                                                8.9                             \n",
       "4                                                4.9                             \n",
       "\n",
       "   % Able to maintain operations at or above levels (Impact Covid- 19)  \n",
       "0                                               42.5                    \n",
       "1                                                5.0                    \n",
       "2                                               25.5                    \n",
       "3                                                0.0                    \n",
       "4                                                0.0                    "
      ]
     },
     "execution_count": 7,
     "metadata": {},
     "output_type": "execute_result"
    }
   ],
   "source": [
    "Minority_owned_business.head()"
   ]
  },
  {
   "cell_type": "code",
   "execution_count": 8,
   "id": "69f1145b",
   "metadata": {},
   "outputs": [],
   "source": [
    "Minority_owned_business.rename(columns={'% Able to maintain operations at or below cuurent levels (Impact Covid- 19)' : 'Covid Survived'}, inplace=True)"
   ]
  },
  {
   "cell_type": "code",
   "execution_count": 9,
   "id": "4183e527",
   "metadata": {},
   "outputs": [
    {
     "data": {
      "text/html": [
       "<div>\n",
       "<style scoped>\n",
       "    .dataframe tbody tr th:only-of-type {\n",
       "        vertical-align: middle;\n",
       "    }\n",
       "\n",
       "    .dataframe tbody tr th {\n",
       "        vertical-align: top;\n",
       "    }\n",
       "\n",
       "    .dataframe thead th {\n",
       "        text-align: right;\n",
       "    }\n",
       "</style>\n",
       "<table border=\"1\" class=\"dataframe\">\n",
       "  <thead>\n",
       "    <tr style=\"text-align: right;\">\n",
       "      <th></th>\n",
       "      <th>Race/ethncity of owner</th>\n",
       "      <th>% businesses total</th>\n",
       "      <th>Average Revenue per employer ($1000)</th>\n",
       "      <th>Average employer per Business</th>\n",
       "      <th>Average Payroll per businesses ($1,000)</th>\n",
       "      <th>Covid Loss</th>\n",
       "      <th>Covid Survived</th>\n",
       "      <th>% Able to maintain operations at or above levels (Impact Covid- 19)</th>\n",
       "    </tr>\n",
       "  </thead>\n",
       "  <tbody>\n",
       "    <tr>\n",
       "      <th>0</th>\n",
       "      <td>Black-owned</td>\n",
       "      <td>2</td>\n",
       "      <td>1,001</td>\n",
       "      <td>9</td>\n",
       "      <td>300</td>\n",
       "      <td>3.9</td>\n",
       "      <td>36.2</td>\n",
       "      <td>42.5</td>\n",
       "    </tr>\n",
       "    <tr>\n",
       "      <th>1</th>\n",
       "      <td>Hispanic-owned</td>\n",
       "      <td>7</td>\n",
       "      <td>1,259</td>\n",
       "      <td>8</td>\n",
       "      <td>281</td>\n",
       "      <td>8.0</td>\n",
       "      <td>23.0</td>\n",
       "      <td>5.0</td>\n",
       "    </tr>\n",
       "    <tr>\n",
       "      <th>2</th>\n",
       "      <td>Asian-owned</td>\n",
       "      <td>11</td>\n",
       "      <td>1,374</td>\n",
       "      <td>8</td>\n",
       "      <td>307</td>\n",
       "      <td>9.0</td>\n",
       "      <td>10.9</td>\n",
       "      <td>25.5</td>\n",
       "    </tr>\n",
       "    <tr>\n",
       "      <th>3</th>\n",
       "      <td>American Indian and Alaska Native-owned</td>\n",
       "      <td>1</td>\n",
       "      <td>221</td>\n",
       "      <td>8</td>\n",
       "      <td>109</td>\n",
       "      <td>83.0</td>\n",
       "      <td>8.9</td>\n",
       "      <td>0.0</td>\n",
       "    </tr>\n",
       "    <tr>\n",
       "      <th>4</th>\n",
       "      <td>Native Hawaiian and Other Pacific Islander-owned</td>\n",
       "      <td>0</td>\n",
       "      <td>55</td>\n",
       "      <td>8</td>\n",
       "      <td>45</td>\n",
       "      <td>NaN</td>\n",
       "      <td>4.9</td>\n",
       "      <td>0.0</td>\n",
       "    </tr>\n",
       "  </tbody>\n",
       "</table>\n",
       "</div>"
      ],
      "text/plain": [
       "                              Race/ethncity of owner  % businesses total  \\\n",
       "0                                        Black-owned                   2   \n",
       "1                                     Hispanic-owned                   7   \n",
       "2                                        Asian-owned                  11   \n",
       "3            American Indian and Alaska Native-owned                   1   \n",
       "4  Native Hawaiian and Other Pacific Islander-owned                    0   \n",
       "\n",
       "  Average Revenue per employer ($1000)  Average employer per Business  \\\n",
       "0                                1,001                              9   \n",
       "1                                1,259                              8   \n",
       "2                                1,374                              8   \n",
       "3                                  221                              8   \n",
       "4                                   55                              8   \n",
       "\n",
       "   Average Payroll per businesses ($1,000)  Covid Loss  Covid Survived  \\\n",
       "0                                      300         3.9            36.2   \n",
       "1                                      281         8.0            23.0   \n",
       "2                                      307         9.0            10.9   \n",
       "3                                      109        83.0             8.9   \n",
       "4                                       45         NaN             4.9   \n",
       "\n",
       "   % Able to maintain operations at or above levels (Impact Covid- 19)  \n",
       "0                                               42.5                    \n",
       "1                                                5.0                    \n",
       "2                                               25.5                    \n",
       "3                                                0.0                    \n",
       "4                                                0.0                    "
      ]
     },
     "execution_count": 9,
     "metadata": {},
     "output_type": "execute_result"
    }
   ],
   "source": [
    "Minority_owned_business.head()"
   ]
  },
  {
   "cell_type": "code",
   "execution_count": 10,
   "id": "9a252d5b",
   "metadata": {},
   "outputs": [],
   "source": [
    "Minority_owned_business.rename(columns={'% Able to maintain operations at or above levels (Impact Covid- 19)' : 'Covid Thrived'}, inplace=True)"
   ]
  },
  {
   "cell_type": "code",
   "execution_count": 11,
   "id": "0d2078f6",
   "metadata": {},
   "outputs": [
    {
     "data": {
      "text/html": [
       "<div>\n",
       "<style scoped>\n",
       "    .dataframe tbody tr th:only-of-type {\n",
       "        vertical-align: middle;\n",
       "    }\n",
       "\n",
       "    .dataframe tbody tr th {\n",
       "        vertical-align: top;\n",
       "    }\n",
       "\n",
       "    .dataframe thead th {\n",
       "        text-align: right;\n",
       "    }\n",
       "</style>\n",
       "<table border=\"1\" class=\"dataframe\">\n",
       "  <thead>\n",
       "    <tr style=\"text-align: right;\">\n",
       "      <th></th>\n",
       "      <th>Race/ethncity of owner</th>\n",
       "      <th>% businesses total</th>\n",
       "      <th>Average Revenue per employer ($1000)</th>\n",
       "      <th>Average employer per Business</th>\n",
       "      <th>Average Payroll per businesses ($1,000)</th>\n",
       "      <th>Covid Loss</th>\n",
       "      <th>Covid Survived</th>\n",
       "      <th>Covid Thrived</th>\n",
       "    </tr>\n",
       "  </thead>\n",
       "  <tbody>\n",
       "    <tr>\n",
       "      <th>0</th>\n",
       "      <td>Black-owned</td>\n",
       "      <td>2</td>\n",
       "      <td>1,001</td>\n",
       "      <td>9</td>\n",
       "      <td>300</td>\n",
       "      <td>3.9</td>\n",
       "      <td>36.2</td>\n",
       "      <td>42.5</td>\n",
       "    </tr>\n",
       "    <tr>\n",
       "      <th>1</th>\n",
       "      <td>Hispanic-owned</td>\n",
       "      <td>7</td>\n",
       "      <td>1,259</td>\n",
       "      <td>8</td>\n",
       "      <td>281</td>\n",
       "      <td>8.0</td>\n",
       "      <td>23.0</td>\n",
       "      <td>5.0</td>\n",
       "    </tr>\n",
       "    <tr>\n",
       "      <th>2</th>\n",
       "      <td>Asian-owned</td>\n",
       "      <td>11</td>\n",
       "      <td>1,374</td>\n",
       "      <td>8</td>\n",
       "      <td>307</td>\n",
       "      <td>9.0</td>\n",
       "      <td>10.9</td>\n",
       "      <td>25.5</td>\n",
       "    </tr>\n",
       "    <tr>\n",
       "      <th>3</th>\n",
       "      <td>American Indian and Alaska Native-owned</td>\n",
       "      <td>1</td>\n",
       "      <td>221</td>\n",
       "      <td>8</td>\n",
       "      <td>109</td>\n",
       "      <td>83.0</td>\n",
       "      <td>8.9</td>\n",
       "      <td>0.0</td>\n",
       "    </tr>\n",
       "    <tr>\n",
       "      <th>4</th>\n",
       "      <td>Native Hawaiian and Other Pacific Islander-owned</td>\n",
       "      <td>0</td>\n",
       "      <td>55</td>\n",
       "      <td>8</td>\n",
       "      <td>45</td>\n",
       "      <td>NaN</td>\n",
       "      <td>4.9</td>\n",
       "      <td>0.0</td>\n",
       "    </tr>\n",
       "  </tbody>\n",
       "</table>\n",
       "</div>"
      ],
      "text/plain": [
       "                              Race/ethncity of owner  % businesses total  \\\n",
       "0                                        Black-owned                   2   \n",
       "1                                     Hispanic-owned                   7   \n",
       "2                                        Asian-owned                  11   \n",
       "3            American Indian and Alaska Native-owned                   1   \n",
       "4  Native Hawaiian and Other Pacific Islander-owned                    0   \n",
       "\n",
       "  Average Revenue per employer ($1000)  Average employer per Business  \\\n",
       "0                                1,001                              9   \n",
       "1                                1,259                              8   \n",
       "2                                1,374                              8   \n",
       "3                                  221                              8   \n",
       "4                                   55                              8   \n",
       "\n",
       "   Average Payroll per businesses ($1,000)  Covid Loss  Covid Survived  \\\n",
       "0                                      300         3.9            36.2   \n",
       "1                                      281         8.0            23.0   \n",
       "2                                      307         9.0            10.9   \n",
       "3                                      109        83.0             8.9   \n",
       "4                                       45         NaN             4.9   \n",
       "\n",
       "   Covid Thrived  \n",
       "0           42.5  \n",
       "1            5.0  \n",
       "2           25.5  \n",
       "3            0.0  \n",
       "4            0.0  "
      ]
     },
     "execution_count": 11,
     "metadata": {},
     "output_type": "execute_result"
    }
   ],
   "source": [
    "Minority_owned_business.head()"
   ]
  },
  {
   "cell_type": "markdown",
   "id": "6d4d9281",
   "metadata": {},
   "source": [
    "# Drop Columns"
   ]
  },
  {
   "cell_type": "markdown",
   "id": "e4fd0d47",
   "metadata": {},
   "source": [
    "## Drop Columns 3 and 4"
   ]
  },
  {
   "cell_type": "code",
   "execution_count": 12,
   "id": "3a6e2420",
   "metadata": {},
   "outputs": [
    {
     "data": {
      "text/html": [
       "<div>\n",
       "<style scoped>\n",
       "    .dataframe tbody tr th:only-of-type {\n",
       "        vertical-align: middle;\n",
       "    }\n",
       "\n",
       "    .dataframe tbody tr th {\n",
       "        vertical-align: top;\n",
       "    }\n",
       "\n",
       "    .dataframe thead th {\n",
       "        text-align: right;\n",
       "    }\n",
       "</style>\n",
       "<table border=\"1\" class=\"dataframe\">\n",
       "  <thead>\n",
       "    <tr style=\"text-align: right;\">\n",
       "      <th></th>\n",
       "      <th>Race/ethncity of owner</th>\n",
       "      <th>% businesses total</th>\n",
       "      <th>Average Revenue per employer ($1000)</th>\n",
       "      <th>Average Payroll per businesses ($1,000)</th>\n",
       "      <th>Covid Loss</th>\n",
       "      <th>Covid Survived</th>\n",
       "      <th>Covid Thrived</th>\n",
       "    </tr>\n",
       "  </thead>\n",
       "  <tbody>\n",
       "    <tr>\n",
       "      <th>0</th>\n",
       "      <td>Black-owned</td>\n",
       "      <td>2</td>\n",
       "      <td>1,001</td>\n",
       "      <td>300</td>\n",
       "      <td>3.9</td>\n",
       "      <td>36.2</td>\n",
       "      <td>42.5</td>\n",
       "    </tr>\n",
       "    <tr>\n",
       "      <th>1</th>\n",
       "      <td>Hispanic-owned</td>\n",
       "      <td>7</td>\n",
       "      <td>1,259</td>\n",
       "      <td>281</td>\n",
       "      <td>8.0</td>\n",
       "      <td>23.0</td>\n",
       "      <td>5.0</td>\n",
       "    </tr>\n",
       "    <tr>\n",
       "      <th>2</th>\n",
       "      <td>Asian-owned</td>\n",
       "      <td>11</td>\n",
       "      <td>1,374</td>\n",
       "      <td>307</td>\n",
       "      <td>9.0</td>\n",
       "      <td>10.9</td>\n",
       "      <td>25.5</td>\n",
       "    </tr>\n",
       "    <tr>\n",
       "      <th>3</th>\n",
       "      <td>American Indian and Alaska Native-owned</td>\n",
       "      <td>1</td>\n",
       "      <td>221</td>\n",
       "      <td>109</td>\n",
       "      <td>83.0</td>\n",
       "      <td>8.9</td>\n",
       "      <td>0.0</td>\n",
       "    </tr>\n",
       "    <tr>\n",
       "      <th>4</th>\n",
       "      <td>Native Hawaiian and Other Pacific Islander-owned</td>\n",
       "      <td>0</td>\n",
       "      <td>55</td>\n",
       "      <td>45</td>\n",
       "      <td>NaN</td>\n",
       "      <td>4.9</td>\n",
       "      <td>0.0</td>\n",
       "    </tr>\n",
       "  </tbody>\n",
       "</table>\n",
       "</div>"
      ],
      "text/plain": [
       "                              Race/ethncity of owner  % businesses total  \\\n",
       "0                                        Black-owned                   2   \n",
       "1                                     Hispanic-owned                   7   \n",
       "2                                        Asian-owned                  11   \n",
       "3            American Indian and Alaska Native-owned                   1   \n",
       "4  Native Hawaiian and Other Pacific Islander-owned                    0   \n",
       "\n",
       "  Average Revenue per employer ($1000)  \\\n",
       "0                                1,001   \n",
       "1                                1,259   \n",
       "2                                1,374   \n",
       "3                                  221   \n",
       "4                                   55   \n",
       "\n",
       "   Average Payroll per businesses ($1,000)  Covid Loss  Covid Survived  \\\n",
       "0                                      300         3.9            36.2   \n",
       "1                                      281         8.0            23.0   \n",
       "2                                      307         9.0            10.9   \n",
       "3                                      109        83.0             8.9   \n",
       "4                                       45         NaN             4.9   \n",
       "\n",
       "   Covid Thrived  \n",
       "0           42.5  \n",
       "1            5.0  \n",
       "2           25.5  \n",
       "3            0.0  \n",
       "4            0.0  "
      ]
     },
     "execution_count": 12,
     "metadata": {},
     "output_type": "execute_result"
    }
   ],
   "source": [
    "Minority_owned_business.drop(['Average employer per Business'], axis=1)"
   ]
  },
  {
   "cell_type": "code",
   "execution_count": 13,
   "id": "b197f668",
   "metadata": {
    "scrolled": true
   },
   "outputs": [
    {
     "data": {
      "text/html": [
       "<div>\n",
       "<style scoped>\n",
       "    .dataframe tbody tr th:only-of-type {\n",
       "        vertical-align: middle;\n",
       "    }\n",
       "\n",
       "    .dataframe tbody tr th {\n",
       "        vertical-align: top;\n",
       "    }\n",
       "\n",
       "    .dataframe thead th {\n",
       "        text-align: right;\n",
       "    }\n",
       "</style>\n",
       "<table border=\"1\" class=\"dataframe\">\n",
       "  <thead>\n",
       "    <tr style=\"text-align: right;\">\n",
       "      <th></th>\n",
       "      <th>Race/ethncity of owner</th>\n",
       "      <th>% businesses total</th>\n",
       "      <th>Average Revenue per employer ($1000)</th>\n",
       "      <th>Average employer per Business</th>\n",
       "      <th>Covid Loss</th>\n",
       "      <th>Covid Survived</th>\n",
       "      <th>Covid Thrived</th>\n",
       "    </tr>\n",
       "  </thead>\n",
       "  <tbody>\n",
       "    <tr>\n",
       "      <th>0</th>\n",
       "      <td>Black-owned</td>\n",
       "      <td>2</td>\n",
       "      <td>1,001</td>\n",
       "      <td>9</td>\n",
       "      <td>3.9</td>\n",
       "      <td>36.2</td>\n",
       "      <td>42.5</td>\n",
       "    </tr>\n",
       "    <tr>\n",
       "      <th>1</th>\n",
       "      <td>Hispanic-owned</td>\n",
       "      <td>7</td>\n",
       "      <td>1,259</td>\n",
       "      <td>8</td>\n",
       "      <td>8.0</td>\n",
       "      <td>23.0</td>\n",
       "      <td>5.0</td>\n",
       "    </tr>\n",
       "    <tr>\n",
       "      <th>2</th>\n",
       "      <td>Asian-owned</td>\n",
       "      <td>11</td>\n",
       "      <td>1,374</td>\n",
       "      <td>8</td>\n",
       "      <td>9.0</td>\n",
       "      <td>10.9</td>\n",
       "      <td>25.5</td>\n",
       "    </tr>\n",
       "    <tr>\n",
       "      <th>3</th>\n",
       "      <td>American Indian and Alaska Native-owned</td>\n",
       "      <td>1</td>\n",
       "      <td>221</td>\n",
       "      <td>8</td>\n",
       "      <td>83.0</td>\n",
       "      <td>8.9</td>\n",
       "      <td>0.0</td>\n",
       "    </tr>\n",
       "    <tr>\n",
       "      <th>4</th>\n",
       "      <td>Native Hawaiian and Other Pacific Islander-owned</td>\n",
       "      <td>0</td>\n",
       "      <td>55</td>\n",
       "      <td>8</td>\n",
       "      <td>NaN</td>\n",
       "      <td>4.9</td>\n",
       "      <td>0.0</td>\n",
       "    </tr>\n",
       "  </tbody>\n",
       "</table>\n",
       "</div>"
      ],
      "text/plain": [
       "                              Race/ethncity of owner  % businesses total  \\\n",
       "0                                        Black-owned                   2   \n",
       "1                                     Hispanic-owned                   7   \n",
       "2                                        Asian-owned                  11   \n",
       "3            American Indian and Alaska Native-owned                   1   \n",
       "4  Native Hawaiian and Other Pacific Islander-owned                    0   \n",
       "\n",
       "  Average Revenue per employer ($1000)  Average employer per Business  \\\n",
       "0                                1,001                              9   \n",
       "1                                1,259                              8   \n",
       "2                                1,374                              8   \n",
       "3                                  221                              8   \n",
       "4                                   55                              8   \n",
       "\n",
       "   Covid Loss  Covid Survived  Covid Thrived  \n",
       "0         3.9            36.2           42.5  \n",
       "1         8.0            23.0            5.0  \n",
       "2         9.0            10.9           25.5  \n",
       "3        83.0             8.9            0.0  \n",
       "4         NaN             4.9            0.0  "
      ]
     },
     "execution_count": 13,
     "metadata": {},
     "output_type": "execute_result"
    }
   ],
   "source": [
    "Minority_owned_business.drop(['Average Payroll per businesses ($1,000)'], axis=1)"
   ]
  },
  {
   "cell_type": "markdown",
   "id": "7b7979ba",
   "metadata": {},
   "source": [
    "# Import Minority- owned Businesses census 2017 Data"
   ]
  },
  {
   "cell_type": "code",
   "execution_count": 14,
   "id": "5801761e",
   "metadata": {},
   "outputs": [],
   "source": [
    "Census_2017= pd.read_csv('C:/Users/baby_/OneDrive/Desktop/Final Project/Minority- owned businesses census 2017.csv', encoding='latin-1')"
   ]
  },
  {
   "cell_type": "code",
   "execution_count": 15,
   "id": "66ab1d39",
   "metadata": {},
   "outputs": [
    {
     "data": {
      "text/html": [
       "<div>\n",
       "<style scoped>\n",
       "    .dataframe tbody tr th:only-of-type {\n",
       "        vertical-align: middle;\n",
       "    }\n",
       "\n",
       "    .dataframe tbody tr th {\n",
       "        vertical-align: top;\n",
       "    }\n",
       "\n",
       "    .dataframe thead th {\n",
       "        text-align: right;\n",
       "    }\n",
       "</style>\n",
       "<table border=\"1\" class=\"dataframe\">\n",
       "  <thead>\n",
       "    <tr style=\"text-align: right;\">\n",
       "      <th></th>\n",
       "      <th>Minority -Owned Business</th>\n",
       "      <th>Estimated Businesses</th>\n",
       "      <th>Estimated Annual Receipts</th>\n",
       "      <th>Estimated Annual Payroll</th>\n",
       "      <th>Number of employees</th>\n",
       "      <th>Growth from 2017 (Percentage)</th>\n",
       "    </tr>\n",
       "  </thead>\n",
       "  <tbody>\n",
       "    <tr>\n",
       "      <th>0</th>\n",
       "      <td>Hispanic-Owned</td>\n",
       "      <td>4 million</td>\n",
       "      <td>$130.9 billion</td>\n",
       "      <td>$35.8 billion</td>\n",
       "      <td>1.2 million</td>\n",
       "      <td>3.0</td>\n",
       "    </tr>\n",
       "    <tr>\n",
       "      <th>1</th>\n",
       "      <td>Asian Owned</td>\n",
       "      <td>555,638</td>\n",
       "      <td>814.8 billion</td>\n",
       "      <td>185.8 billion</td>\n",
       "      <td>5.2 million</td>\n",
       "      <td>4.6</td>\n",
       "    </tr>\n",
       "    <tr>\n",
       "      <th>2</th>\n",
       "      <td>African American-Owned</td>\n",
       "      <td>124,004</td>\n",
       "      <td>1.03 million</td>\n",
       "      <td>40.5 billion</td>\n",
       "      <td>975,000</td>\n",
       "      <td>5.6</td>\n",
       "    </tr>\n",
       "    <tr>\n",
       "      <th>3</th>\n",
       "      <td>American Indian and Alaska Native- Owned</td>\n",
       "      <td>26,064</td>\n",
       "      <td>NaN</td>\n",
       "      <td>NaN</td>\n",
       "      <td>NaN</td>\n",
       "      <td>2.3</td>\n",
       "    </tr>\n",
       "    <tr>\n",
       "      <th>4</th>\n",
       "      <td>Native Hawaiian and Other Pacific Islander-Owned</td>\n",
       "      <td>54,749</td>\n",
       "      <td>8.5 billion</td>\n",
       "      <td>NaN</td>\n",
       "      <td>NaN</td>\n",
       "      <td>13.0</td>\n",
       "    </tr>\n",
       "  </tbody>\n",
       "</table>\n",
       "</div>"
      ],
      "text/plain": [
       "                           Minority -Owned Business Estimated Businesses  \\\n",
       "0                                   Hispanic-Owned             4 million   \n",
       "1                                       Asian Owned              555,638   \n",
       "2                            African American-Owned              124,004   \n",
       "3         American Indian and Alaska Native- Owned                26,064   \n",
       "4  Native Hawaiian and Other Pacific Islander-Owned               54,749   \n",
       "\n",
       "  Estimated Annual Receipts Estimated Annual Payroll Number of employees  \\\n",
       "0            $130.9 billion            $35.8 billion         1.2 million   \n",
       "1             814.8 billion            185.8 billion         5.2 million   \n",
       "2              1.03 million             40.5 billion             975,000   \n",
       "3                       NaN                      NaN                 NaN   \n",
       "4               8.5 billion                      NaN                 NaN   \n",
       "\n",
       "   Growth from 2017 (Percentage)  \n",
       "0                            3.0  \n",
       "1                            4.6  \n",
       "2                            5.6  \n",
       "3                            2.3  \n",
       "4                           13.0  "
      ]
     },
     "execution_count": 15,
     "metadata": {},
     "output_type": "execute_result"
    }
   ],
   "source": [
    "Census_2017.head()"
   ]
  },
  {
   "cell_type": "markdown",
   "id": "33446a17",
   "metadata": {},
   "source": [
    "# Rename Columns"
   ]
  },
  {
   "cell_type": "markdown",
   "id": "604d4125",
   "metadata": {},
   "source": [
    "## Rename Columns 2 and 3"
   ]
  },
  {
   "cell_type": "markdown",
   "id": "4780601e",
   "metadata": {},
   "source": [
    "### Rename Coulmn 2 Estimated Businesses(2017)"
   ]
  },
  {
   "cell_type": "code",
   "execution_count": 16,
   "id": "f2757df5",
   "metadata": {},
   "outputs": [],
   "source": [
    "Census_2017.rename(columns={'Estimated Businesses' : 'Estimated Businesses(2017)'}, inplace=True)"
   ]
  },
  {
   "cell_type": "code",
   "execution_count": 17,
   "id": "623c8eb4",
   "metadata": {
    "scrolled": true
   },
   "outputs": [
    {
     "data": {
      "text/html": [
       "<div>\n",
       "<style scoped>\n",
       "    .dataframe tbody tr th:only-of-type {\n",
       "        vertical-align: middle;\n",
       "    }\n",
       "\n",
       "    .dataframe tbody tr th {\n",
       "        vertical-align: top;\n",
       "    }\n",
       "\n",
       "    .dataframe thead th {\n",
       "        text-align: right;\n",
       "    }\n",
       "</style>\n",
       "<table border=\"1\" class=\"dataframe\">\n",
       "  <thead>\n",
       "    <tr style=\"text-align: right;\">\n",
       "      <th></th>\n",
       "      <th>Minority -Owned Business</th>\n",
       "      <th>Estimated Businesses(2017)</th>\n",
       "      <th>Estimated Annual Receipts</th>\n",
       "      <th>Estimated Annual Payroll</th>\n",
       "      <th>Number of employees</th>\n",
       "      <th>Growth from 2017 (Percentage)</th>\n",
       "    </tr>\n",
       "  </thead>\n",
       "  <tbody>\n",
       "    <tr>\n",
       "      <th>0</th>\n",
       "      <td>Hispanic-Owned</td>\n",
       "      <td>4 million</td>\n",
       "      <td>$130.9 billion</td>\n",
       "      <td>$35.8 billion</td>\n",
       "      <td>1.2 million</td>\n",
       "      <td>3.0</td>\n",
       "    </tr>\n",
       "    <tr>\n",
       "      <th>1</th>\n",
       "      <td>Asian Owned</td>\n",
       "      <td>555,638</td>\n",
       "      <td>814.8 billion</td>\n",
       "      <td>185.8 billion</td>\n",
       "      <td>5.2 million</td>\n",
       "      <td>4.6</td>\n",
       "    </tr>\n",
       "    <tr>\n",
       "      <th>2</th>\n",
       "      <td>African American-Owned</td>\n",
       "      <td>124,004</td>\n",
       "      <td>1.03 million</td>\n",
       "      <td>40.5 billion</td>\n",
       "      <td>975,000</td>\n",
       "      <td>5.6</td>\n",
       "    </tr>\n",
       "    <tr>\n",
       "      <th>3</th>\n",
       "      <td>American Indian and Alaska Native- Owned</td>\n",
       "      <td>26,064</td>\n",
       "      <td>NaN</td>\n",
       "      <td>NaN</td>\n",
       "      <td>NaN</td>\n",
       "      <td>2.3</td>\n",
       "    </tr>\n",
       "    <tr>\n",
       "      <th>4</th>\n",
       "      <td>Native Hawaiian and Other Pacific Islander-Owned</td>\n",
       "      <td>54,749</td>\n",
       "      <td>8.5 billion</td>\n",
       "      <td>NaN</td>\n",
       "      <td>NaN</td>\n",
       "      <td>13.0</td>\n",
       "    </tr>\n",
       "  </tbody>\n",
       "</table>\n",
       "</div>"
      ],
      "text/plain": [
       "                           Minority -Owned Business  \\\n",
       "0                                   Hispanic-Owned    \n",
       "1                                       Asian Owned   \n",
       "2                            African American-Owned   \n",
       "3         American Indian and Alaska Native- Owned    \n",
       "4  Native Hawaiian and Other Pacific Islander-Owned   \n",
       "\n",
       "  Estimated Businesses(2017) Estimated Annual Receipts  \\\n",
       "0                  4 million            $130.9 billion   \n",
       "1                    555,638             814.8 billion   \n",
       "2                    124,004              1.03 million   \n",
       "3                     26,064                       NaN   \n",
       "4                     54,749               8.5 billion   \n",
       "\n",
       "  Estimated Annual Payroll Number of employees  Growth from 2017 (Percentage)  \n",
       "0            $35.8 billion         1.2 million                            3.0  \n",
       "1            185.8 billion         5.2 million                            4.6  \n",
       "2             40.5 billion             975,000                            5.6  \n",
       "3                      NaN                 NaN                            2.3  \n",
       "4                      NaN                 NaN                           13.0  "
      ]
     },
     "execution_count": 17,
     "metadata": {},
     "output_type": "execute_result"
    }
   ],
   "source": [
    "Census_2017.head()"
   ]
  },
  {
   "cell_type": "markdown",
   "id": "3656ad5d",
   "metadata": {},
   "source": [
    "### Rename Column 3 Estimated Annual Receipts(2017)"
   ]
  },
  {
   "cell_type": "code",
   "execution_count": 18,
   "id": "01bf1b53",
   "metadata": {},
   "outputs": [],
   "source": [
    "Census_2017.rename(columns={'Estimated Annual Receipts' : 'Estimated Annual Receipts(2017)'}, inplace=True)"
   ]
  },
  {
   "cell_type": "code",
   "execution_count": 19,
   "id": "d1cfc214",
   "metadata": {
    "scrolled": false
   },
   "outputs": [
    {
     "data": {
      "text/html": [
       "<div>\n",
       "<style scoped>\n",
       "    .dataframe tbody tr th:only-of-type {\n",
       "        vertical-align: middle;\n",
       "    }\n",
       "\n",
       "    .dataframe tbody tr th {\n",
       "        vertical-align: top;\n",
       "    }\n",
       "\n",
       "    .dataframe thead th {\n",
       "        text-align: right;\n",
       "    }\n",
       "</style>\n",
       "<table border=\"1\" class=\"dataframe\">\n",
       "  <thead>\n",
       "    <tr style=\"text-align: right;\">\n",
       "      <th></th>\n",
       "      <th>Minority -Owned Business</th>\n",
       "      <th>Estimated Businesses(2017)</th>\n",
       "      <th>Estimated Annual Receipts(2017)</th>\n",
       "      <th>Estimated Annual Payroll</th>\n",
       "      <th>Number of employees</th>\n",
       "      <th>Growth from 2017 (Percentage)</th>\n",
       "    </tr>\n",
       "  </thead>\n",
       "  <tbody>\n",
       "    <tr>\n",
       "      <th>0</th>\n",
       "      <td>Hispanic-Owned</td>\n",
       "      <td>4 million</td>\n",
       "      <td>$130.9 billion</td>\n",
       "      <td>$35.8 billion</td>\n",
       "      <td>1.2 million</td>\n",
       "      <td>3.0</td>\n",
       "    </tr>\n",
       "    <tr>\n",
       "      <th>1</th>\n",
       "      <td>Asian Owned</td>\n",
       "      <td>555,638</td>\n",
       "      <td>814.8 billion</td>\n",
       "      <td>185.8 billion</td>\n",
       "      <td>5.2 million</td>\n",
       "      <td>4.6</td>\n",
       "    </tr>\n",
       "    <tr>\n",
       "      <th>2</th>\n",
       "      <td>African American-Owned</td>\n",
       "      <td>124,004</td>\n",
       "      <td>1.03 million</td>\n",
       "      <td>40.5 billion</td>\n",
       "      <td>975,000</td>\n",
       "      <td>5.6</td>\n",
       "    </tr>\n",
       "    <tr>\n",
       "      <th>3</th>\n",
       "      <td>American Indian and Alaska Native- Owned</td>\n",
       "      <td>26,064</td>\n",
       "      <td>NaN</td>\n",
       "      <td>NaN</td>\n",
       "      <td>NaN</td>\n",
       "      <td>2.3</td>\n",
       "    </tr>\n",
       "    <tr>\n",
       "      <th>4</th>\n",
       "      <td>Native Hawaiian and Other Pacific Islander-Owned</td>\n",
       "      <td>54,749</td>\n",
       "      <td>8.5 billion</td>\n",
       "      <td>NaN</td>\n",
       "      <td>NaN</td>\n",
       "      <td>13.0</td>\n",
       "    </tr>\n",
       "  </tbody>\n",
       "</table>\n",
       "</div>"
      ],
      "text/plain": [
       "                           Minority -Owned Business  \\\n",
       "0                                   Hispanic-Owned    \n",
       "1                                       Asian Owned   \n",
       "2                            African American-Owned   \n",
       "3         American Indian and Alaska Native- Owned    \n",
       "4  Native Hawaiian and Other Pacific Islander-Owned   \n",
       "\n",
       "  Estimated Businesses(2017) Estimated Annual Receipts(2017)  \\\n",
       "0                  4 million                  $130.9 billion   \n",
       "1                    555,638                   814.8 billion   \n",
       "2                    124,004                    1.03 million   \n",
       "3                     26,064                             NaN   \n",
       "4                     54,749                     8.5 billion   \n",
       "\n",
       "  Estimated Annual Payroll Number of employees  Growth from 2017 (Percentage)  \n",
       "0            $35.8 billion         1.2 million                            3.0  \n",
       "1            185.8 billion         5.2 million                            4.6  \n",
       "2             40.5 billion             975,000                            5.6  \n",
       "3                      NaN                 NaN                            2.3  \n",
       "4                      NaN                 NaN                           13.0  "
      ]
     },
     "execution_count": 19,
     "metadata": {},
     "output_type": "execute_result"
    }
   ],
   "source": [
    "Census_2017.head()"
   ]
  },
  {
   "cell_type": "markdown",
   "id": "b58603d1",
   "metadata": {},
   "source": [
    "## Separate Estimated Businesses(2017) Column from Census Data and Rename it"
   ]
  },
  {
   "cell_type": "code",
   "execution_count": 20,
   "id": "5879f048",
   "metadata": {},
   "outputs": [],
   "source": [
    "Census_2017A = Census_2017['Estimated Businesses(2017)'].str.split('/', expand=True)"
   ]
  },
  {
   "cell_type": "code",
   "execution_count": 21,
   "id": "05a7d763",
   "metadata": {
    "scrolled": true
   },
   "outputs": [
    {
     "data": {
      "text/html": [
       "<div>\n",
       "<style scoped>\n",
       "    .dataframe tbody tr th:only-of-type {\n",
       "        vertical-align: middle;\n",
       "    }\n",
       "\n",
       "    .dataframe tbody tr th {\n",
       "        vertical-align: top;\n",
       "    }\n",
       "\n",
       "    .dataframe thead th {\n",
       "        text-align: right;\n",
       "    }\n",
       "</style>\n",
       "<table border=\"1\" class=\"dataframe\">\n",
       "  <thead>\n",
       "    <tr style=\"text-align: right;\">\n",
       "      <th></th>\n",
       "      <th>0</th>\n",
       "    </tr>\n",
       "  </thead>\n",
       "  <tbody>\n",
       "    <tr>\n",
       "      <th>0</th>\n",
       "      <td>4 million</td>\n",
       "    </tr>\n",
       "    <tr>\n",
       "      <th>1</th>\n",
       "      <td>555,638</td>\n",
       "    </tr>\n",
       "    <tr>\n",
       "      <th>2</th>\n",
       "      <td>124,004</td>\n",
       "    </tr>\n",
       "    <tr>\n",
       "      <th>3</th>\n",
       "      <td>26,064</td>\n",
       "    </tr>\n",
       "    <tr>\n",
       "      <th>4</th>\n",
       "      <td>54,749</td>\n",
       "    </tr>\n",
       "  </tbody>\n",
       "</table>\n",
       "</div>"
      ],
      "text/plain": [
       "           0\n",
       "0  4 million\n",
       "1    555,638\n",
       "2    124,004\n",
       "3     26,064\n",
       "4     54,749"
      ]
     },
     "execution_count": 21,
     "metadata": {},
     "output_type": "execute_result"
    }
   ],
   "source": [
    "Census_2017A.head()"
   ]
  },
  {
   "cell_type": "markdown",
   "id": "d43ea061",
   "metadata": {},
   "source": [
    "## Rename New Column"
   ]
  },
  {
   "cell_type": "code",
   "execution_count": 22,
   "id": "9030fb14",
   "metadata": {},
   "outputs": [],
   "source": [
    "Census_2017A = Census_2017['Estimated Businesses(2017)'].str.split('/', expand=True).rename(columns = lambda x: \"Estimated Businesses(2017)\")"
   ]
  },
  {
   "cell_type": "code",
   "execution_count": 23,
   "id": "adbbc1b9",
   "metadata": {},
   "outputs": [
    {
     "data": {
      "text/html": [
       "<div>\n",
       "<style scoped>\n",
       "    .dataframe tbody tr th:only-of-type {\n",
       "        vertical-align: middle;\n",
       "    }\n",
       "\n",
       "    .dataframe tbody tr th {\n",
       "        vertical-align: top;\n",
       "    }\n",
       "\n",
       "    .dataframe thead th {\n",
       "        text-align: right;\n",
       "    }\n",
       "</style>\n",
       "<table border=\"1\" class=\"dataframe\">\n",
       "  <thead>\n",
       "    <tr style=\"text-align: right;\">\n",
       "      <th></th>\n",
       "      <th>Estimated Businesses(2017)</th>\n",
       "    </tr>\n",
       "  </thead>\n",
       "  <tbody>\n",
       "    <tr>\n",
       "      <th>0</th>\n",
       "      <td>4 million</td>\n",
       "    </tr>\n",
       "    <tr>\n",
       "      <th>1</th>\n",
       "      <td>555,638</td>\n",
       "    </tr>\n",
       "    <tr>\n",
       "      <th>2</th>\n",
       "      <td>124,004</td>\n",
       "    </tr>\n",
       "    <tr>\n",
       "      <th>3</th>\n",
       "      <td>26,064</td>\n",
       "    </tr>\n",
       "    <tr>\n",
       "      <th>4</th>\n",
       "      <td>54,749</td>\n",
       "    </tr>\n",
       "  </tbody>\n",
       "</table>\n",
       "</div>"
      ],
      "text/plain": [
       "  Estimated Businesses(2017)\n",
       "0                  4 million\n",
       "1                    555,638\n",
       "2                    124,004\n",
       "3                     26,064\n",
       "4                     54,749"
      ]
     },
     "execution_count": 23,
     "metadata": {},
     "output_type": "execute_result"
    }
   ],
   "source": [
    "Census_2017A.head()"
   ]
  },
  {
   "cell_type": "markdown",
   "id": "30a65d12",
   "metadata": {},
   "source": [
    "## Add New Column to Minority_owned_business and rename Data"
   ]
  },
  {
   "cell_type": "code",
   "execution_count": 24,
   "id": "e23bc888",
   "metadata": {},
   "outputs": [],
   "source": [
    "Minority_owned_business2 = pd.concat([Minority_owned_business, Census_2017A], axis=1)"
   ]
  },
  {
   "cell_type": "code",
   "execution_count": 25,
   "id": "d334f8f2",
   "metadata": {
    "scrolled": true
   },
   "outputs": [
    {
     "data": {
      "text/html": [
       "<div>\n",
       "<style scoped>\n",
       "    .dataframe tbody tr th:only-of-type {\n",
       "        vertical-align: middle;\n",
       "    }\n",
       "\n",
       "    .dataframe tbody tr th {\n",
       "        vertical-align: top;\n",
       "    }\n",
       "\n",
       "    .dataframe thead th {\n",
       "        text-align: right;\n",
       "    }\n",
       "</style>\n",
       "<table border=\"1\" class=\"dataframe\">\n",
       "  <thead>\n",
       "    <tr style=\"text-align: right;\">\n",
       "      <th></th>\n",
       "      <th>Race/ethncity of owner</th>\n",
       "      <th>% businesses total</th>\n",
       "      <th>Average Revenue per employer ($1000)</th>\n",
       "      <th>Average employer per Business</th>\n",
       "      <th>Average Payroll per businesses ($1,000)</th>\n",
       "      <th>Covid Loss</th>\n",
       "      <th>Covid Survived</th>\n",
       "      <th>Covid Thrived</th>\n",
       "      <th>Estimated Businesses(2017)</th>\n",
       "    </tr>\n",
       "  </thead>\n",
       "  <tbody>\n",
       "    <tr>\n",
       "      <th>0</th>\n",
       "      <td>Black-owned</td>\n",
       "      <td>2</td>\n",
       "      <td>1,001</td>\n",
       "      <td>9</td>\n",
       "      <td>300</td>\n",
       "      <td>3.9</td>\n",
       "      <td>36.2</td>\n",
       "      <td>42.5</td>\n",
       "      <td>4 million</td>\n",
       "    </tr>\n",
       "    <tr>\n",
       "      <th>1</th>\n",
       "      <td>Hispanic-owned</td>\n",
       "      <td>7</td>\n",
       "      <td>1,259</td>\n",
       "      <td>8</td>\n",
       "      <td>281</td>\n",
       "      <td>8.0</td>\n",
       "      <td>23.0</td>\n",
       "      <td>5.0</td>\n",
       "      <td>555,638</td>\n",
       "    </tr>\n",
       "    <tr>\n",
       "      <th>2</th>\n",
       "      <td>Asian-owned</td>\n",
       "      <td>11</td>\n",
       "      <td>1,374</td>\n",
       "      <td>8</td>\n",
       "      <td>307</td>\n",
       "      <td>9.0</td>\n",
       "      <td>10.9</td>\n",
       "      <td>25.5</td>\n",
       "      <td>124,004</td>\n",
       "    </tr>\n",
       "    <tr>\n",
       "      <th>3</th>\n",
       "      <td>American Indian and Alaska Native-owned</td>\n",
       "      <td>1</td>\n",
       "      <td>221</td>\n",
       "      <td>8</td>\n",
       "      <td>109</td>\n",
       "      <td>83.0</td>\n",
       "      <td>8.9</td>\n",
       "      <td>0.0</td>\n",
       "      <td>26,064</td>\n",
       "    </tr>\n",
       "    <tr>\n",
       "      <th>4</th>\n",
       "      <td>Native Hawaiian and Other Pacific Islander-owned</td>\n",
       "      <td>0</td>\n",
       "      <td>55</td>\n",
       "      <td>8</td>\n",
       "      <td>45</td>\n",
       "      <td>NaN</td>\n",
       "      <td>4.9</td>\n",
       "      <td>0.0</td>\n",
       "      <td>54,749</td>\n",
       "    </tr>\n",
       "  </tbody>\n",
       "</table>\n",
       "</div>"
      ],
      "text/plain": [
       "                              Race/ethncity of owner  % businesses total  \\\n",
       "0                                        Black-owned                   2   \n",
       "1                                     Hispanic-owned                   7   \n",
       "2                                        Asian-owned                  11   \n",
       "3            American Indian and Alaska Native-owned                   1   \n",
       "4  Native Hawaiian and Other Pacific Islander-owned                    0   \n",
       "\n",
       "  Average Revenue per employer ($1000)  Average employer per Business  \\\n",
       "0                                1,001                              9   \n",
       "1                                1,259                              8   \n",
       "2                                1,374                              8   \n",
       "3                                  221                              8   \n",
       "4                                   55                              8   \n",
       "\n",
       "   Average Payroll per businesses ($1,000)  Covid Loss  Covid Survived  \\\n",
       "0                                      300         3.9            36.2   \n",
       "1                                      281         8.0            23.0   \n",
       "2                                      307         9.0            10.9   \n",
       "3                                      109        83.0             8.9   \n",
       "4                                       45         NaN             4.9   \n",
       "\n",
       "   Covid Thrived Estimated Businesses(2017)  \n",
       "0           42.5                  4 million  \n",
       "1            5.0                    555,638  \n",
       "2           25.5                    124,004  \n",
       "3            0.0                     26,064  \n",
       "4            0.0                     54,749  "
      ]
     },
     "execution_count": 25,
     "metadata": {},
     "output_type": "execute_result"
    }
   ],
   "source": [
    "Minority_owned_business2.head()"
   ]
  },
  {
   "cell_type": "markdown",
   "id": "43da0ae1",
   "metadata": {},
   "source": [
    "## Now Separate Estimated Annual Receipts(2017) From Census Data"
   ]
  },
  {
   "cell_type": "code",
   "execution_count": 26,
   "id": "afb9ecb0",
   "metadata": {},
   "outputs": [
    {
     "data": {
      "text/html": [
       "<div>\n",
       "<style scoped>\n",
       "    .dataframe tbody tr th:only-of-type {\n",
       "        vertical-align: middle;\n",
       "    }\n",
       "\n",
       "    .dataframe tbody tr th {\n",
       "        vertical-align: top;\n",
       "    }\n",
       "\n",
       "    .dataframe thead th {\n",
       "        text-align: right;\n",
       "    }\n",
       "</style>\n",
       "<table border=\"1\" class=\"dataframe\">\n",
       "  <thead>\n",
       "    <tr style=\"text-align: right;\">\n",
       "      <th></th>\n",
       "      <th>Minority -Owned Business</th>\n",
       "      <th>Estimated Businesses(2017)</th>\n",
       "      <th>Estimated Annual Receipts(2017)</th>\n",
       "      <th>Estimated Annual Payroll</th>\n",
       "      <th>Number of employees</th>\n",
       "      <th>Growth from 2017 (Percentage)</th>\n",
       "    </tr>\n",
       "  </thead>\n",
       "  <tbody>\n",
       "    <tr>\n",
       "      <th>0</th>\n",
       "      <td>Hispanic-Owned</td>\n",
       "      <td>4 million</td>\n",
       "      <td>$130.9 billion</td>\n",
       "      <td>$35.8 billion</td>\n",
       "      <td>1.2 million</td>\n",
       "      <td>3.0</td>\n",
       "    </tr>\n",
       "    <tr>\n",
       "      <th>1</th>\n",
       "      <td>Asian Owned</td>\n",
       "      <td>555,638</td>\n",
       "      <td>814.8 billion</td>\n",
       "      <td>185.8 billion</td>\n",
       "      <td>5.2 million</td>\n",
       "      <td>4.6</td>\n",
       "    </tr>\n",
       "    <tr>\n",
       "      <th>2</th>\n",
       "      <td>African American-Owned</td>\n",
       "      <td>124,004</td>\n",
       "      <td>1.03 million</td>\n",
       "      <td>40.5 billion</td>\n",
       "      <td>975,000</td>\n",
       "      <td>5.6</td>\n",
       "    </tr>\n",
       "    <tr>\n",
       "      <th>3</th>\n",
       "      <td>American Indian and Alaska Native- Owned</td>\n",
       "      <td>26,064</td>\n",
       "      <td>NaN</td>\n",
       "      <td>NaN</td>\n",
       "      <td>NaN</td>\n",
       "      <td>2.3</td>\n",
       "    </tr>\n",
       "    <tr>\n",
       "      <th>4</th>\n",
       "      <td>Native Hawaiian and Other Pacific Islander-Owned</td>\n",
       "      <td>54,749</td>\n",
       "      <td>8.5 billion</td>\n",
       "      <td>NaN</td>\n",
       "      <td>NaN</td>\n",
       "      <td>13.0</td>\n",
       "    </tr>\n",
       "  </tbody>\n",
       "</table>\n",
       "</div>"
      ],
      "text/plain": [
       "                           Minority -Owned Business  \\\n",
       "0                                   Hispanic-Owned    \n",
       "1                                       Asian Owned   \n",
       "2                            African American-Owned   \n",
       "3         American Indian and Alaska Native- Owned    \n",
       "4  Native Hawaiian and Other Pacific Islander-Owned   \n",
       "\n",
       "  Estimated Businesses(2017) Estimated Annual Receipts(2017)  \\\n",
       "0                  4 million                  $130.9 billion   \n",
       "1                    555,638                   814.8 billion   \n",
       "2                    124,004                    1.03 million   \n",
       "3                     26,064                             NaN   \n",
       "4                     54,749                     8.5 billion   \n",
       "\n",
       "  Estimated Annual Payroll Number of employees  Growth from 2017 (Percentage)  \n",
       "0            $35.8 billion         1.2 million                            3.0  \n",
       "1            185.8 billion         5.2 million                            4.6  \n",
       "2             40.5 billion             975,000                            5.6  \n",
       "3                      NaN                 NaN                            2.3  \n",
       "4                      NaN                 NaN                           13.0  "
      ]
     },
     "execution_count": 26,
     "metadata": {},
     "output_type": "execute_result"
    }
   ],
   "source": [
    "Census_2017.head()"
   ]
  },
  {
   "cell_type": "code",
   "execution_count": 27,
   "id": "68442948",
   "metadata": {},
   "outputs": [],
   "source": [
    "Census_2017B = Census_2017['Estimated Annual Receipts(2017)'].str.split('/', expand=True)"
   ]
  },
  {
   "cell_type": "code",
   "execution_count": 28,
   "id": "2aceafe4",
   "metadata": {},
   "outputs": [
    {
     "data": {
      "text/html": [
       "<div>\n",
       "<style scoped>\n",
       "    .dataframe tbody tr th:only-of-type {\n",
       "        vertical-align: middle;\n",
       "    }\n",
       "\n",
       "    .dataframe tbody tr th {\n",
       "        vertical-align: top;\n",
       "    }\n",
       "\n",
       "    .dataframe thead th {\n",
       "        text-align: right;\n",
       "    }\n",
       "</style>\n",
       "<table border=\"1\" class=\"dataframe\">\n",
       "  <thead>\n",
       "    <tr style=\"text-align: right;\">\n",
       "      <th></th>\n",
       "      <th>0</th>\n",
       "    </tr>\n",
       "  </thead>\n",
       "  <tbody>\n",
       "    <tr>\n",
       "      <th>0</th>\n",
       "      <td>$130.9 billion</td>\n",
       "    </tr>\n",
       "    <tr>\n",
       "      <th>1</th>\n",
       "      <td>814.8 billion</td>\n",
       "    </tr>\n",
       "    <tr>\n",
       "      <th>2</th>\n",
       "      <td>1.03 million</td>\n",
       "    </tr>\n",
       "    <tr>\n",
       "      <th>3</th>\n",
       "      <td>NaN</td>\n",
       "    </tr>\n",
       "    <tr>\n",
       "      <th>4</th>\n",
       "      <td>8.5 billion</td>\n",
       "    </tr>\n",
       "  </tbody>\n",
       "</table>\n",
       "</div>"
      ],
      "text/plain": [
       "                0\n",
       "0  $130.9 billion\n",
       "1   814.8 billion\n",
       "2    1.03 million\n",
       "3             NaN\n",
       "4     8.5 billion"
      ]
     },
     "execution_count": 28,
     "metadata": {},
     "output_type": "execute_result"
    }
   ],
   "source": [
    "Census_2017B.head()"
   ]
  },
  {
   "cell_type": "markdown",
   "id": "b991c4aa",
   "metadata": {},
   "source": [
    "## Rename New Column"
   ]
  },
  {
   "cell_type": "code",
   "execution_count": 29,
   "id": "ca7e9ca9",
   "metadata": {},
   "outputs": [],
   "source": [
    "Census_2017B = Census_2017['Estimated Annual Receipts(2017)'].str.split('/', expand=True).rename(columns = lambda x: \"Estimated Annual Receipts(2017)\")"
   ]
  },
  {
   "cell_type": "code",
   "execution_count": 30,
   "id": "af33130d",
   "metadata": {},
   "outputs": [
    {
     "data": {
      "text/html": [
       "<div>\n",
       "<style scoped>\n",
       "    .dataframe tbody tr th:only-of-type {\n",
       "        vertical-align: middle;\n",
       "    }\n",
       "\n",
       "    .dataframe tbody tr th {\n",
       "        vertical-align: top;\n",
       "    }\n",
       "\n",
       "    .dataframe thead th {\n",
       "        text-align: right;\n",
       "    }\n",
       "</style>\n",
       "<table border=\"1\" class=\"dataframe\">\n",
       "  <thead>\n",
       "    <tr style=\"text-align: right;\">\n",
       "      <th></th>\n",
       "      <th>Estimated Annual Receipts(2017)</th>\n",
       "    </tr>\n",
       "  </thead>\n",
       "  <tbody>\n",
       "    <tr>\n",
       "      <th>0</th>\n",
       "      <td>$130.9 billion</td>\n",
       "    </tr>\n",
       "    <tr>\n",
       "      <th>1</th>\n",
       "      <td>814.8 billion</td>\n",
       "    </tr>\n",
       "    <tr>\n",
       "      <th>2</th>\n",
       "      <td>1.03 million</td>\n",
       "    </tr>\n",
       "    <tr>\n",
       "      <th>3</th>\n",
       "      <td>NaN</td>\n",
       "    </tr>\n",
       "    <tr>\n",
       "      <th>4</th>\n",
       "      <td>8.5 billion</td>\n",
       "    </tr>\n",
       "  </tbody>\n",
       "</table>\n",
       "</div>"
      ],
      "text/plain": [
       "  Estimated Annual Receipts(2017)\n",
       "0                  $130.9 billion\n",
       "1                   814.8 billion\n",
       "2                    1.03 million\n",
       "3                             NaN\n",
       "4                     8.5 billion"
      ]
     },
     "execution_count": 30,
     "metadata": {},
     "output_type": "execute_result"
    }
   ],
   "source": [
    "Census_2017B.head()"
   ]
  },
  {
   "cell_type": "markdown",
   "id": "bc41919f",
   "metadata": {},
   "source": [
    "## Add New Column to Minority_Owned_Businesses Data"
   ]
  },
  {
   "cell_type": "code",
   "execution_count": 31,
   "id": "6e202f0b",
   "metadata": {},
   "outputs": [],
   "source": [
    "Minority_owned_business3 = pd.concat([Minority_owned_business2, Census_2017B], axis=1)"
   ]
  },
  {
   "cell_type": "code",
   "execution_count": 32,
   "id": "86bfc283",
   "metadata": {},
   "outputs": [
    {
     "data": {
      "text/html": [
       "<div>\n",
       "<style scoped>\n",
       "    .dataframe tbody tr th:only-of-type {\n",
       "        vertical-align: middle;\n",
       "    }\n",
       "\n",
       "    .dataframe tbody tr th {\n",
       "        vertical-align: top;\n",
       "    }\n",
       "\n",
       "    .dataframe thead th {\n",
       "        text-align: right;\n",
       "    }\n",
       "</style>\n",
       "<table border=\"1\" class=\"dataframe\">\n",
       "  <thead>\n",
       "    <tr style=\"text-align: right;\">\n",
       "      <th></th>\n",
       "      <th>Race/ethncity of owner</th>\n",
       "      <th>% businesses total</th>\n",
       "      <th>Average Revenue per employer ($1000)</th>\n",
       "      <th>Average employer per Business</th>\n",
       "      <th>Average Payroll per businesses ($1,000)</th>\n",
       "      <th>Covid Loss</th>\n",
       "      <th>Covid Survived</th>\n",
       "      <th>Covid Thrived</th>\n",
       "      <th>Estimated Businesses(2017)</th>\n",
       "      <th>Estimated Annual Receipts(2017)</th>\n",
       "    </tr>\n",
       "  </thead>\n",
       "  <tbody>\n",
       "    <tr>\n",
       "      <th>0</th>\n",
       "      <td>Black-owned</td>\n",
       "      <td>2</td>\n",
       "      <td>1,001</td>\n",
       "      <td>9</td>\n",
       "      <td>300</td>\n",
       "      <td>3.9</td>\n",
       "      <td>36.2</td>\n",
       "      <td>42.5</td>\n",
       "      <td>4 million</td>\n",
       "      <td>$130.9 billion</td>\n",
       "    </tr>\n",
       "    <tr>\n",
       "      <th>1</th>\n",
       "      <td>Hispanic-owned</td>\n",
       "      <td>7</td>\n",
       "      <td>1,259</td>\n",
       "      <td>8</td>\n",
       "      <td>281</td>\n",
       "      <td>8.0</td>\n",
       "      <td>23.0</td>\n",
       "      <td>5.0</td>\n",
       "      <td>555,638</td>\n",
       "      <td>814.8 billion</td>\n",
       "    </tr>\n",
       "    <tr>\n",
       "      <th>2</th>\n",
       "      <td>Asian-owned</td>\n",
       "      <td>11</td>\n",
       "      <td>1,374</td>\n",
       "      <td>8</td>\n",
       "      <td>307</td>\n",
       "      <td>9.0</td>\n",
       "      <td>10.9</td>\n",
       "      <td>25.5</td>\n",
       "      <td>124,004</td>\n",
       "      <td>1.03 million</td>\n",
       "    </tr>\n",
       "    <tr>\n",
       "      <th>3</th>\n",
       "      <td>American Indian and Alaska Native-owned</td>\n",
       "      <td>1</td>\n",
       "      <td>221</td>\n",
       "      <td>8</td>\n",
       "      <td>109</td>\n",
       "      <td>83.0</td>\n",
       "      <td>8.9</td>\n",
       "      <td>0.0</td>\n",
       "      <td>26,064</td>\n",
       "      <td>NaN</td>\n",
       "    </tr>\n",
       "    <tr>\n",
       "      <th>4</th>\n",
       "      <td>Native Hawaiian and Other Pacific Islander-owned</td>\n",
       "      <td>0</td>\n",
       "      <td>55</td>\n",
       "      <td>8</td>\n",
       "      <td>45</td>\n",
       "      <td>NaN</td>\n",
       "      <td>4.9</td>\n",
       "      <td>0.0</td>\n",
       "      <td>54,749</td>\n",
       "      <td>8.5 billion</td>\n",
       "    </tr>\n",
       "  </tbody>\n",
       "</table>\n",
       "</div>"
      ],
      "text/plain": [
       "                              Race/ethncity of owner  % businesses total  \\\n",
       "0                                        Black-owned                   2   \n",
       "1                                     Hispanic-owned                   7   \n",
       "2                                        Asian-owned                  11   \n",
       "3            American Indian and Alaska Native-owned                   1   \n",
       "4  Native Hawaiian and Other Pacific Islander-owned                    0   \n",
       "\n",
       "  Average Revenue per employer ($1000)  Average employer per Business  \\\n",
       "0                                1,001                              9   \n",
       "1                                1,259                              8   \n",
       "2                                1,374                              8   \n",
       "3                                  221                              8   \n",
       "4                                   55                              8   \n",
       "\n",
       "   Average Payroll per businesses ($1,000)  Covid Loss  Covid Survived  \\\n",
       "0                                      300         3.9            36.2   \n",
       "1                                      281         8.0            23.0   \n",
       "2                                      307         9.0            10.9   \n",
       "3                                      109        83.0             8.9   \n",
       "4                                       45         NaN             4.9   \n",
       "\n",
       "   Covid Thrived Estimated Businesses(2017) Estimated Annual Receipts(2017)  \n",
       "0           42.5                  4 million                  $130.9 billion  \n",
       "1            5.0                    555,638                   814.8 billion  \n",
       "2           25.5                    124,004                    1.03 million  \n",
       "3            0.0                     26,064                             NaN  \n",
       "4            0.0                     54,749                     8.5 billion  "
      ]
     },
     "execution_count": 32,
     "metadata": {},
     "output_type": "execute_result"
    }
   ],
   "source": [
    "Minority_owned_business3.head()"
   ]
  },
  {
   "cell_type": "markdown",
   "id": "a3beab82",
   "metadata": {},
   "source": [
    "# Import Minority- Owned Businesses Cenus 2019-2021 Data"
   ]
  },
  {
   "cell_type": "code",
   "execution_count": 33,
   "id": "24e3907b",
   "metadata": {},
   "outputs": [],
   "source": [
    "Census_2019_2021 = pd.read_csv('C:/Users/baby_/OneDrive/Desktop/Final Project/Minority Owned Businesses Cenus Data.csv', encoding='latin-1')"
   ]
  },
  {
   "cell_type": "code",
   "execution_count": 34,
   "id": "c64c29a3",
   "metadata": {},
   "outputs": [
    {
     "data": {
      "text/html": [
       "<div>\n",
       "<style scoped>\n",
       "    .dataframe tbody tr th:only-of-type {\n",
       "        vertical-align: middle;\n",
       "    }\n",
       "\n",
       "    .dataframe tbody tr th {\n",
       "        vertical-align: top;\n",
       "    }\n",
       "\n",
       "    .dataframe thead th {\n",
       "        text-align: right;\n",
       "    }\n",
       "</style>\n",
       "<table border=\"1\" class=\"dataframe\">\n",
       "  <thead>\n",
       "    <tr style=\"text-align: right;\">\n",
       "      <th></th>\n",
       "      <th>Minority- Owned Business</th>\n",
       "      <th>Estimated Businesses</th>\n",
       "      <th>Estimated Annual Receipts</th>\n",
       "      <th>Estimated Annual Payroll</th>\n",
       "      <th>Number of employees</th>\n",
       "      <th>Growth from 2019 (Percentage)</th>\n",
       "      <th>Growth from 2021 (Percentage)</th>\n",
       "    </tr>\n",
       "  </thead>\n",
       "  <tbody>\n",
       "    <tr>\n",
       "      <th>0</th>\n",
       "      <td>Hispanic-Owned Businesses</td>\n",
       "      <td>346,836</td>\n",
       "      <td>$463.3 billion</td>\n",
       "      <td>$108.4 billion</td>\n",
       "      <td>3 million</td>\n",
       "      <td>34%</td>\n",
       "      <td>19%</td>\n",
       "    </tr>\n",
       "    <tr>\n",
       "      <th>1</th>\n",
       "      <td>Asian-Owned Businesses</td>\n",
       "      <td>581,200</td>\n",
       "      <td>$874.6 billion</td>\n",
       "      <td>$815 billion</td>\n",
       "      <td>556,000</td>\n",
       "      <td>4.60%</td>\n",
       "      <td>5.00%</td>\n",
       "    </tr>\n",
       "    <tr>\n",
       "      <th>2</th>\n",
       "      <td>African American-Owned Businesses</td>\n",
       "      <td>134,567</td>\n",
       "      <td>$133.7 billion</td>\n",
       "      <td>$40.5 billion</td>\n",
       "      <td>1.3 million</td>\n",
       "      <td>8%</td>\n",
       "      <td>28%</td>\n",
       "    </tr>\n",
       "    <tr>\n",
       "      <th>3</th>\n",
       "      <td>American Indian and Alaska Native- Owned Busin...</td>\n",
       "      <td>26,064</td>\n",
       "      <td>$35.8 billion</td>\n",
       "      <td>$8.7 billion</td>\n",
       "      <td>215,049</td>\n",
       "      <td>NaN</td>\n",
       "      <td>NaN</td>\n",
       "    </tr>\n",
       "    <tr>\n",
       "      <th>4</th>\n",
       "      <td>Native Hawaiian and Other Pacific Islander-Own...</td>\n",
       "      <td>7,331</td>\n",
       "      <td>$8.5 billion</td>\n",
       "      <td>$1.9 billion</td>\n",
       "      <td>51,869</td>\n",
       "      <td>31.10%</td>\n",
       "      <td>-14.60%</td>\n",
       "    </tr>\n",
       "  </tbody>\n",
       "</table>\n",
       "</div>"
      ],
      "text/plain": [
       "                            Minority- Owned Business Estimated Businesses  \\\n",
       "0                          Hispanic-Owned Businesses              346,836   \n",
       "1                             Asian-Owned Businesses              581,200   \n",
       "2                  African American-Owned Businesses              134,567   \n",
       "3  American Indian and Alaska Native- Owned Busin...               26,064   \n",
       "4  Native Hawaiian and Other Pacific Islander-Own...                7,331   \n",
       "\n",
       "  Estimated Annual Receipts Estimated Annual Payroll Number of employees  \\\n",
       "0            $463.3 billion           $108.4 billion           3 million   \n",
       "1            $874.6 billion             $815 billion             556,000   \n",
       "2            $133.7 billion            $40.5 billion         1.3 million   \n",
       "3             $35.8 billion             $8.7 billion             215,049   \n",
       "4              $8.5 billion             $1.9 billion              51,869   \n",
       "\n",
       "  Growth from 2019 (Percentage) Growth from 2021 (Percentage)  \n",
       "0                           34%                           19%  \n",
       "1                         4.60%                         5.00%  \n",
       "2                            8%                           28%  \n",
       "3                           NaN                           NaN  \n",
       "4                        31.10%                       -14.60%  "
      ]
     },
     "execution_count": 34,
     "metadata": {},
     "output_type": "execute_result"
    }
   ],
   "source": [
    "Census_2019_2021.head()"
   ]
  },
  {
   "cell_type": "markdown",
   "id": "12f53319",
   "metadata": {},
   "source": [
    "## Rename Columns 2 and 3"
   ]
  },
  {
   "cell_type": "markdown",
   "id": "62525e9d",
   "metadata": {},
   "source": [
    "## Rename Column 2 Estimated Businesses(2019-2021)"
   ]
  },
  {
   "cell_type": "code",
   "execution_count": 35,
   "id": "ab759987",
   "metadata": {},
   "outputs": [],
   "source": [
    "Census_2019_2021.rename(columns={'Estimated Businesses' : 'Estimated Businesses(2019-2021)'}, inplace=True)"
   ]
  },
  {
   "cell_type": "code",
   "execution_count": 36,
   "id": "d3792bc6",
   "metadata": {},
   "outputs": [
    {
     "data": {
      "text/html": [
       "<div>\n",
       "<style scoped>\n",
       "    .dataframe tbody tr th:only-of-type {\n",
       "        vertical-align: middle;\n",
       "    }\n",
       "\n",
       "    .dataframe tbody tr th {\n",
       "        vertical-align: top;\n",
       "    }\n",
       "\n",
       "    .dataframe thead th {\n",
       "        text-align: right;\n",
       "    }\n",
       "</style>\n",
       "<table border=\"1\" class=\"dataframe\">\n",
       "  <thead>\n",
       "    <tr style=\"text-align: right;\">\n",
       "      <th></th>\n",
       "      <th>Minority- Owned Business</th>\n",
       "      <th>Estimated Businesses(2019-2021)</th>\n",
       "      <th>Estimated Annual Receipts</th>\n",
       "      <th>Estimated Annual Payroll</th>\n",
       "      <th>Number of employees</th>\n",
       "      <th>Growth from 2019 (Percentage)</th>\n",
       "      <th>Growth from 2021 (Percentage)</th>\n",
       "    </tr>\n",
       "  </thead>\n",
       "  <tbody>\n",
       "    <tr>\n",
       "      <th>0</th>\n",
       "      <td>Hispanic-Owned Businesses</td>\n",
       "      <td>346,836</td>\n",
       "      <td>$463.3 billion</td>\n",
       "      <td>$108.4 billion</td>\n",
       "      <td>3 million</td>\n",
       "      <td>34%</td>\n",
       "      <td>19%</td>\n",
       "    </tr>\n",
       "    <tr>\n",
       "      <th>1</th>\n",
       "      <td>Asian-Owned Businesses</td>\n",
       "      <td>581,200</td>\n",
       "      <td>$874.6 billion</td>\n",
       "      <td>$815 billion</td>\n",
       "      <td>556,000</td>\n",
       "      <td>4.60%</td>\n",
       "      <td>5.00%</td>\n",
       "    </tr>\n",
       "    <tr>\n",
       "      <th>2</th>\n",
       "      <td>African American-Owned Businesses</td>\n",
       "      <td>134,567</td>\n",
       "      <td>$133.7 billion</td>\n",
       "      <td>$40.5 billion</td>\n",
       "      <td>1.3 million</td>\n",
       "      <td>8%</td>\n",
       "      <td>28%</td>\n",
       "    </tr>\n",
       "    <tr>\n",
       "      <th>3</th>\n",
       "      <td>American Indian and Alaska Native- Owned Busin...</td>\n",
       "      <td>26,064</td>\n",
       "      <td>$35.8 billion</td>\n",
       "      <td>$8.7 billion</td>\n",
       "      <td>215,049</td>\n",
       "      <td>NaN</td>\n",
       "      <td>NaN</td>\n",
       "    </tr>\n",
       "    <tr>\n",
       "      <th>4</th>\n",
       "      <td>Native Hawaiian and Other Pacific Islander-Own...</td>\n",
       "      <td>7,331</td>\n",
       "      <td>$8.5 billion</td>\n",
       "      <td>$1.9 billion</td>\n",
       "      <td>51,869</td>\n",
       "      <td>31.10%</td>\n",
       "      <td>-14.60%</td>\n",
       "    </tr>\n",
       "  </tbody>\n",
       "</table>\n",
       "</div>"
      ],
      "text/plain": [
       "                            Minority- Owned Business  \\\n",
       "0                          Hispanic-Owned Businesses   \n",
       "1                             Asian-Owned Businesses   \n",
       "2                  African American-Owned Businesses   \n",
       "3  American Indian and Alaska Native- Owned Busin...   \n",
       "4  Native Hawaiian and Other Pacific Islander-Own...   \n",
       "\n",
       "  Estimated Businesses(2019-2021) Estimated Annual Receipts  \\\n",
       "0                         346,836            $463.3 billion   \n",
       "1                         581,200            $874.6 billion   \n",
       "2                         134,567            $133.7 billion   \n",
       "3                          26,064             $35.8 billion   \n",
       "4                           7,331              $8.5 billion   \n",
       "\n",
       "  Estimated Annual Payroll Number of employees Growth from 2019 (Percentage)  \\\n",
       "0           $108.4 billion           3 million                           34%   \n",
       "1             $815 billion             556,000                         4.60%   \n",
       "2            $40.5 billion         1.3 million                            8%   \n",
       "3             $8.7 billion             215,049                           NaN   \n",
       "4             $1.9 billion              51,869                        31.10%   \n",
       "\n",
       "  Growth from 2021 (Percentage)  \n",
       "0                           19%  \n",
       "1                         5.00%  \n",
       "2                           28%  \n",
       "3                           NaN  \n",
       "4                       -14.60%  "
      ]
     },
     "execution_count": 36,
     "metadata": {},
     "output_type": "execute_result"
    }
   ],
   "source": [
    "Census_2019_2021.head()"
   ]
  },
  {
   "cell_type": "markdown",
   "id": "20d70601",
   "metadata": {},
   "source": [
    "### Rename Cloumn 3 Estimated Annual Receipts(2019-2021)"
   ]
  },
  {
   "cell_type": "code",
   "execution_count": 37,
   "id": "f6c9a219",
   "metadata": {},
   "outputs": [],
   "source": [
    "Census_2019_2021.rename(columns={'Estimated Annual Receipts' : 'Estimated Annual Receipts(2019-2021)'}, inplace=True)"
   ]
  },
  {
   "cell_type": "code",
   "execution_count": 38,
   "id": "0a95a49a",
   "metadata": {},
   "outputs": [
    {
     "data": {
      "text/html": [
       "<div>\n",
       "<style scoped>\n",
       "    .dataframe tbody tr th:only-of-type {\n",
       "        vertical-align: middle;\n",
       "    }\n",
       "\n",
       "    .dataframe tbody tr th {\n",
       "        vertical-align: top;\n",
       "    }\n",
       "\n",
       "    .dataframe thead th {\n",
       "        text-align: right;\n",
       "    }\n",
       "</style>\n",
       "<table border=\"1\" class=\"dataframe\">\n",
       "  <thead>\n",
       "    <tr style=\"text-align: right;\">\n",
       "      <th></th>\n",
       "      <th>Minority- Owned Business</th>\n",
       "      <th>Estimated Businesses(2019-2021)</th>\n",
       "      <th>Estimated Annual Receipts(2019-2021)</th>\n",
       "      <th>Estimated Annual Payroll</th>\n",
       "      <th>Number of employees</th>\n",
       "      <th>Growth from 2019 (Percentage)</th>\n",
       "      <th>Growth from 2021 (Percentage)</th>\n",
       "    </tr>\n",
       "  </thead>\n",
       "  <tbody>\n",
       "    <tr>\n",
       "      <th>0</th>\n",
       "      <td>Hispanic-Owned Businesses</td>\n",
       "      <td>346,836</td>\n",
       "      <td>$463.3 billion</td>\n",
       "      <td>$108.4 billion</td>\n",
       "      <td>3 million</td>\n",
       "      <td>34%</td>\n",
       "      <td>19%</td>\n",
       "    </tr>\n",
       "    <tr>\n",
       "      <th>1</th>\n",
       "      <td>Asian-Owned Businesses</td>\n",
       "      <td>581,200</td>\n",
       "      <td>$874.6 billion</td>\n",
       "      <td>$815 billion</td>\n",
       "      <td>556,000</td>\n",
       "      <td>4.60%</td>\n",
       "      <td>5.00%</td>\n",
       "    </tr>\n",
       "    <tr>\n",
       "      <th>2</th>\n",
       "      <td>African American-Owned Businesses</td>\n",
       "      <td>134,567</td>\n",
       "      <td>$133.7 billion</td>\n",
       "      <td>$40.5 billion</td>\n",
       "      <td>1.3 million</td>\n",
       "      <td>8%</td>\n",
       "      <td>28%</td>\n",
       "    </tr>\n",
       "    <tr>\n",
       "      <th>3</th>\n",
       "      <td>American Indian and Alaska Native- Owned Busin...</td>\n",
       "      <td>26,064</td>\n",
       "      <td>$35.8 billion</td>\n",
       "      <td>$8.7 billion</td>\n",
       "      <td>215,049</td>\n",
       "      <td>NaN</td>\n",
       "      <td>NaN</td>\n",
       "    </tr>\n",
       "    <tr>\n",
       "      <th>4</th>\n",
       "      <td>Native Hawaiian and Other Pacific Islander-Own...</td>\n",
       "      <td>7,331</td>\n",
       "      <td>$8.5 billion</td>\n",
       "      <td>$1.9 billion</td>\n",
       "      <td>51,869</td>\n",
       "      <td>31.10%</td>\n",
       "      <td>-14.60%</td>\n",
       "    </tr>\n",
       "  </tbody>\n",
       "</table>\n",
       "</div>"
      ],
      "text/plain": [
       "                            Minority- Owned Business  \\\n",
       "0                          Hispanic-Owned Businesses   \n",
       "1                             Asian-Owned Businesses   \n",
       "2                  African American-Owned Businesses   \n",
       "3  American Indian and Alaska Native- Owned Busin...   \n",
       "4  Native Hawaiian and Other Pacific Islander-Own...   \n",
       "\n",
       "  Estimated Businesses(2019-2021) Estimated Annual Receipts(2019-2021)  \\\n",
       "0                         346,836                       $463.3 billion   \n",
       "1                         581,200                       $874.6 billion   \n",
       "2                         134,567                       $133.7 billion   \n",
       "3                          26,064                        $35.8 billion   \n",
       "4                           7,331                         $8.5 billion   \n",
       "\n",
       "  Estimated Annual Payroll Number of employees Growth from 2019 (Percentage)  \\\n",
       "0           $108.4 billion           3 million                           34%   \n",
       "1             $815 billion             556,000                         4.60%   \n",
       "2            $40.5 billion         1.3 million                            8%   \n",
       "3             $8.7 billion             215,049                           NaN   \n",
       "4             $1.9 billion              51,869                        31.10%   \n",
       "\n",
       "  Growth from 2021 (Percentage)  \n",
       "0                           19%  \n",
       "1                         5.00%  \n",
       "2                           28%  \n",
       "3                           NaN  \n",
       "4                       -14.60%  "
      ]
     },
     "execution_count": 38,
     "metadata": {},
     "output_type": "execute_result"
    }
   ],
   "source": [
    "Census_2019_2021.head()"
   ]
  },
  {
   "cell_type": "markdown",
   "id": "f28a5eaf",
   "metadata": {},
   "source": [
    "## Separate Estimated Businesses(2019-2021) Column from Census Data and Rename it"
   ]
  },
  {
   "cell_type": "code",
   "execution_count": 39,
   "id": "699344ee",
   "metadata": {},
   "outputs": [],
   "source": [
    "Census_2019_2021A = Census_2019_2021['Estimated Businesses(2019-2021)'].str.split('/', expand=True)"
   ]
  },
  {
   "cell_type": "code",
   "execution_count": 40,
   "id": "6cc19384",
   "metadata": {},
   "outputs": [
    {
     "data": {
      "text/html": [
       "<div>\n",
       "<style scoped>\n",
       "    .dataframe tbody tr th:only-of-type {\n",
       "        vertical-align: middle;\n",
       "    }\n",
       "\n",
       "    .dataframe tbody tr th {\n",
       "        vertical-align: top;\n",
       "    }\n",
       "\n",
       "    .dataframe thead th {\n",
       "        text-align: right;\n",
       "    }\n",
       "</style>\n",
       "<table border=\"1\" class=\"dataframe\">\n",
       "  <thead>\n",
       "    <tr style=\"text-align: right;\">\n",
       "      <th></th>\n",
       "      <th>0</th>\n",
       "    </tr>\n",
       "  </thead>\n",
       "  <tbody>\n",
       "    <tr>\n",
       "      <th>0</th>\n",
       "      <td>346,836</td>\n",
       "    </tr>\n",
       "    <tr>\n",
       "      <th>1</th>\n",
       "      <td>581,200</td>\n",
       "    </tr>\n",
       "    <tr>\n",
       "      <th>2</th>\n",
       "      <td>134,567</td>\n",
       "    </tr>\n",
       "    <tr>\n",
       "      <th>3</th>\n",
       "      <td>26,064</td>\n",
       "    </tr>\n",
       "    <tr>\n",
       "      <th>4</th>\n",
       "      <td>7,331</td>\n",
       "    </tr>\n",
       "  </tbody>\n",
       "</table>\n",
       "</div>"
      ],
      "text/plain": [
       "         0\n",
       "0  346,836\n",
       "1  581,200\n",
       "2  134,567\n",
       "3   26,064\n",
       "4    7,331"
      ]
     },
     "execution_count": 40,
     "metadata": {},
     "output_type": "execute_result"
    }
   ],
   "source": [
    "Census_2019_2021A"
   ]
  },
  {
   "cell_type": "markdown",
   "id": "e474284a",
   "metadata": {},
   "source": [
    "### Rename New Column Estimated Businesses(2019-2021)"
   ]
  },
  {
   "cell_type": "code",
   "execution_count": 41,
   "id": "e0200e8c",
   "metadata": {},
   "outputs": [],
   "source": [
    "Census_2019_2021A = Census_2019_2021['Estimated Businesses(2019-2021)'].str.split('/', expand=True).rename(columns = lambda x: \"Estimated Businesses(2019-2021)\")"
   ]
  },
  {
   "cell_type": "code",
   "execution_count": 42,
   "id": "423f5b8d",
   "metadata": {},
   "outputs": [
    {
     "data": {
      "text/html": [
       "<div>\n",
       "<style scoped>\n",
       "    .dataframe tbody tr th:only-of-type {\n",
       "        vertical-align: middle;\n",
       "    }\n",
       "\n",
       "    .dataframe tbody tr th {\n",
       "        vertical-align: top;\n",
       "    }\n",
       "\n",
       "    .dataframe thead th {\n",
       "        text-align: right;\n",
       "    }\n",
       "</style>\n",
       "<table border=\"1\" class=\"dataframe\">\n",
       "  <thead>\n",
       "    <tr style=\"text-align: right;\">\n",
       "      <th></th>\n",
       "      <th>Estimated Businesses(2019-2021)</th>\n",
       "    </tr>\n",
       "  </thead>\n",
       "  <tbody>\n",
       "    <tr>\n",
       "      <th>0</th>\n",
       "      <td>346,836</td>\n",
       "    </tr>\n",
       "    <tr>\n",
       "      <th>1</th>\n",
       "      <td>581,200</td>\n",
       "    </tr>\n",
       "    <tr>\n",
       "      <th>2</th>\n",
       "      <td>134,567</td>\n",
       "    </tr>\n",
       "    <tr>\n",
       "      <th>3</th>\n",
       "      <td>26,064</td>\n",
       "    </tr>\n",
       "    <tr>\n",
       "      <th>4</th>\n",
       "      <td>7,331</td>\n",
       "    </tr>\n",
       "  </tbody>\n",
       "</table>\n",
       "</div>"
      ],
      "text/plain": [
       "  Estimated Businesses(2019-2021)\n",
       "0                         346,836\n",
       "1                         581,200\n",
       "2                         134,567\n",
       "3                          26,064\n",
       "4                           7,331"
      ]
     },
     "execution_count": 42,
     "metadata": {},
     "output_type": "execute_result"
    }
   ],
   "source": [
    "Census_2019_2021A.head()"
   ]
  },
  {
   "cell_type": "markdown",
   "id": "d375e527",
   "metadata": {},
   "source": [
    "### Add New Column to Minority_owned_business and rename Data"
   ]
  },
  {
   "cell_type": "code",
   "execution_count": 43,
   "id": "0b0b3e64",
   "metadata": {},
   "outputs": [],
   "source": [
    "Minority_owned_business4 = pd.concat([Minority_owned_business3, Census_2019_2021A], axis=1)"
   ]
  },
  {
   "cell_type": "code",
   "execution_count": 44,
   "id": "f62f73f5",
   "metadata": {},
   "outputs": [
    {
     "data": {
      "text/html": [
       "<div>\n",
       "<style scoped>\n",
       "    .dataframe tbody tr th:only-of-type {\n",
       "        vertical-align: middle;\n",
       "    }\n",
       "\n",
       "    .dataframe tbody tr th {\n",
       "        vertical-align: top;\n",
       "    }\n",
       "\n",
       "    .dataframe thead th {\n",
       "        text-align: right;\n",
       "    }\n",
       "</style>\n",
       "<table border=\"1\" class=\"dataframe\">\n",
       "  <thead>\n",
       "    <tr style=\"text-align: right;\">\n",
       "      <th></th>\n",
       "      <th>Race/ethncity of owner</th>\n",
       "      <th>% businesses total</th>\n",
       "      <th>Average Revenue per employer ($1000)</th>\n",
       "      <th>Average employer per Business</th>\n",
       "      <th>Average Payroll per businesses ($1,000)</th>\n",
       "      <th>Covid Loss</th>\n",
       "      <th>Covid Survived</th>\n",
       "      <th>Covid Thrived</th>\n",
       "      <th>Estimated Businesses(2017)</th>\n",
       "      <th>Estimated Annual Receipts(2017)</th>\n",
       "      <th>Estimated Businesses(2019-2021)</th>\n",
       "    </tr>\n",
       "  </thead>\n",
       "  <tbody>\n",
       "    <tr>\n",
       "      <th>0</th>\n",
       "      <td>Black-owned</td>\n",
       "      <td>2</td>\n",
       "      <td>1,001</td>\n",
       "      <td>9</td>\n",
       "      <td>300</td>\n",
       "      <td>3.9</td>\n",
       "      <td>36.2</td>\n",
       "      <td>42.5</td>\n",
       "      <td>4 million</td>\n",
       "      <td>$130.9 billion</td>\n",
       "      <td>346,836</td>\n",
       "    </tr>\n",
       "    <tr>\n",
       "      <th>1</th>\n",
       "      <td>Hispanic-owned</td>\n",
       "      <td>7</td>\n",
       "      <td>1,259</td>\n",
       "      <td>8</td>\n",
       "      <td>281</td>\n",
       "      <td>8.0</td>\n",
       "      <td>23.0</td>\n",
       "      <td>5.0</td>\n",
       "      <td>555,638</td>\n",
       "      <td>814.8 billion</td>\n",
       "      <td>581,200</td>\n",
       "    </tr>\n",
       "    <tr>\n",
       "      <th>2</th>\n",
       "      <td>Asian-owned</td>\n",
       "      <td>11</td>\n",
       "      <td>1,374</td>\n",
       "      <td>8</td>\n",
       "      <td>307</td>\n",
       "      <td>9.0</td>\n",
       "      <td>10.9</td>\n",
       "      <td>25.5</td>\n",
       "      <td>124,004</td>\n",
       "      <td>1.03 million</td>\n",
       "      <td>134,567</td>\n",
       "    </tr>\n",
       "    <tr>\n",
       "      <th>3</th>\n",
       "      <td>American Indian and Alaska Native-owned</td>\n",
       "      <td>1</td>\n",
       "      <td>221</td>\n",
       "      <td>8</td>\n",
       "      <td>109</td>\n",
       "      <td>83.0</td>\n",
       "      <td>8.9</td>\n",
       "      <td>0.0</td>\n",
       "      <td>26,064</td>\n",
       "      <td>NaN</td>\n",
       "      <td>26,064</td>\n",
       "    </tr>\n",
       "    <tr>\n",
       "      <th>4</th>\n",
       "      <td>Native Hawaiian and Other Pacific Islander-owned</td>\n",
       "      <td>0</td>\n",
       "      <td>55</td>\n",
       "      <td>8</td>\n",
       "      <td>45</td>\n",
       "      <td>NaN</td>\n",
       "      <td>4.9</td>\n",
       "      <td>0.0</td>\n",
       "      <td>54,749</td>\n",
       "      <td>8.5 billion</td>\n",
       "      <td>7,331</td>\n",
       "    </tr>\n",
       "  </tbody>\n",
       "</table>\n",
       "</div>"
      ],
      "text/plain": [
       "                              Race/ethncity of owner  % businesses total  \\\n",
       "0                                        Black-owned                   2   \n",
       "1                                     Hispanic-owned                   7   \n",
       "2                                        Asian-owned                  11   \n",
       "3            American Indian and Alaska Native-owned                   1   \n",
       "4  Native Hawaiian and Other Pacific Islander-owned                    0   \n",
       "\n",
       "  Average Revenue per employer ($1000)  Average employer per Business  \\\n",
       "0                                1,001                              9   \n",
       "1                                1,259                              8   \n",
       "2                                1,374                              8   \n",
       "3                                  221                              8   \n",
       "4                                   55                              8   \n",
       "\n",
       "   Average Payroll per businesses ($1,000)  Covid Loss  Covid Survived  \\\n",
       "0                                      300         3.9            36.2   \n",
       "1                                      281         8.0            23.0   \n",
       "2                                      307         9.0            10.9   \n",
       "3                                      109        83.0             8.9   \n",
       "4                                       45         NaN             4.9   \n",
       "\n",
       "   Covid Thrived Estimated Businesses(2017) Estimated Annual Receipts(2017)  \\\n",
       "0           42.5                  4 million                  $130.9 billion   \n",
       "1            5.0                    555,638                   814.8 billion   \n",
       "2           25.5                    124,004                    1.03 million   \n",
       "3            0.0                     26,064                             NaN   \n",
       "4            0.0                     54,749                     8.5 billion   \n",
       "\n",
       "  Estimated Businesses(2019-2021)  \n",
       "0                         346,836  \n",
       "1                         581,200  \n",
       "2                         134,567  \n",
       "3                          26,064  \n",
       "4                           7,331  "
      ]
     },
     "execution_count": 44,
     "metadata": {},
     "output_type": "execute_result"
    }
   ],
   "source": [
    "Minority_owned_business4.head()"
   ]
  },
  {
   "cell_type": "markdown",
   "id": "a9a014a9",
   "metadata": {},
   "source": [
    "## Separate Estimated Annual Receipts(2019-2021) Column from Census Data and Rename it"
   ]
  },
  {
   "cell_type": "code",
   "execution_count": 45,
   "id": "73cb31fb",
   "metadata": {},
   "outputs": [],
   "source": [
    "Census_2019_2021B = Census_2019_2021['Estimated Annual Receipts(2019-2021)'].str.split('/', expand=True)"
   ]
  },
  {
   "cell_type": "code",
   "execution_count": 46,
   "id": "e7bd0c60",
   "metadata": {},
   "outputs": [
    {
     "data": {
      "text/html": [
       "<div>\n",
       "<style scoped>\n",
       "    .dataframe tbody tr th:only-of-type {\n",
       "        vertical-align: middle;\n",
       "    }\n",
       "\n",
       "    .dataframe tbody tr th {\n",
       "        vertical-align: top;\n",
       "    }\n",
       "\n",
       "    .dataframe thead th {\n",
       "        text-align: right;\n",
       "    }\n",
       "</style>\n",
       "<table border=\"1\" class=\"dataframe\">\n",
       "  <thead>\n",
       "    <tr style=\"text-align: right;\">\n",
       "      <th></th>\n",
       "      <th>0</th>\n",
       "    </tr>\n",
       "  </thead>\n",
       "  <tbody>\n",
       "    <tr>\n",
       "      <th>0</th>\n",
       "      <td>$463.3 billion</td>\n",
       "    </tr>\n",
       "    <tr>\n",
       "      <th>1</th>\n",
       "      <td>$874.6 billion</td>\n",
       "    </tr>\n",
       "    <tr>\n",
       "      <th>2</th>\n",
       "      <td>$133.7 billion</td>\n",
       "    </tr>\n",
       "    <tr>\n",
       "      <th>3</th>\n",
       "      <td>$35.8 billion</td>\n",
       "    </tr>\n",
       "    <tr>\n",
       "      <th>4</th>\n",
       "      <td>$8.5 billion</td>\n",
       "    </tr>\n",
       "  </tbody>\n",
       "</table>\n",
       "</div>"
      ],
      "text/plain": [
       "                0\n",
       "0  $463.3 billion\n",
       "1  $874.6 billion\n",
       "2  $133.7 billion\n",
       "3   $35.8 billion\n",
       "4    $8.5 billion"
      ]
     },
     "execution_count": 46,
     "metadata": {},
     "output_type": "execute_result"
    }
   ],
   "source": [
    "Census_2019_2021B.head()"
   ]
  },
  {
   "cell_type": "markdown",
   "id": "fe4d701e",
   "metadata": {},
   "source": [
    "### Rename New Coulmn"
   ]
  },
  {
   "cell_type": "code",
   "execution_count": 47,
   "id": "8cd10c36",
   "metadata": {},
   "outputs": [],
   "source": [
    "Census_2019_2021B = Census_2019_2021['Estimated Annual Receipts(2019-2021)'].str.split('/', expand=True).rename(columns = lambda x: \"Estimated Annual Receipts(2019-2021)\")"
   ]
  },
  {
   "cell_type": "code",
   "execution_count": 48,
   "id": "d9bf9aaf",
   "metadata": {},
   "outputs": [
    {
     "data": {
      "text/html": [
       "<div>\n",
       "<style scoped>\n",
       "    .dataframe tbody tr th:only-of-type {\n",
       "        vertical-align: middle;\n",
       "    }\n",
       "\n",
       "    .dataframe tbody tr th {\n",
       "        vertical-align: top;\n",
       "    }\n",
       "\n",
       "    .dataframe thead th {\n",
       "        text-align: right;\n",
       "    }\n",
       "</style>\n",
       "<table border=\"1\" class=\"dataframe\">\n",
       "  <thead>\n",
       "    <tr style=\"text-align: right;\">\n",
       "      <th></th>\n",
       "      <th>Estimated Annual Receipts(2019-2021)</th>\n",
       "    </tr>\n",
       "  </thead>\n",
       "  <tbody>\n",
       "    <tr>\n",
       "      <th>0</th>\n",
       "      <td>$463.3 billion</td>\n",
       "    </tr>\n",
       "    <tr>\n",
       "      <th>1</th>\n",
       "      <td>$874.6 billion</td>\n",
       "    </tr>\n",
       "    <tr>\n",
       "      <th>2</th>\n",
       "      <td>$133.7 billion</td>\n",
       "    </tr>\n",
       "    <tr>\n",
       "      <th>3</th>\n",
       "      <td>$35.8 billion</td>\n",
       "    </tr>\n",
       "    <tr>\n",
       "      <th>4</th>\n",
       "      <td>$8.5 billion</td>\n",
       "    </tr>\n",
       "  </tbody>\n",
       "</table>\n",
       "</div>"
      ],
      "text/plain": [
       "  Estimated Annual Receipts(2019-2021)\n",
       "0                       $463.3 billion\n",
       "1                       $874.6 billion\n",
       "2                       $133.7 billion\n",
       "3                        $35.8 billion\n",
       "4                         $8.5 billion"
      ]
     },
     "execution_count": 48,
     "metadata": {},
     "output_type": "execute_result"
    }
   ],
   "source": [
    "Census_2019_2021B.head()"
   ]
  },
  {
   "cell_type": "markdown",
   "id": "717addbc",
   "metadata": {},
   "source": [
    "### Add New Column to Minority_owned_business and rename Data"
   ]
  },
  {
   "cell_type": "code",
   "execution_count": 49,
   "id": "c0105a9f",
   "metadata": {},
   "outputs": [],
   "source": [
    "Minority_owned_businesses = pd.concat([Minority_owned_business4, Census_2019_2021B], axis=1)"
   ]
  },
  {
   "cell_type": "code",
   "execution_count": 50,
   "id": "b799ff42",
   "metadata": {},
   "outputs": [
    {
     "data": {
      "text/html": [
       "<div>\n",
       "<style scoped>\n",
       "    .dataframe tbody tr th:only-of-type {\n",
       "        vertical-align: middle;\n",
       "    }\n",
       "\n",
       "    .dataframe tbody tr th {\n",
       "        vertical-align: top;\n",
       "    }\n",
       "\n",
       "    .dataframe thead th {\n",
       "        text-align: right;\n",
       "    }\n",
       "</style>\n",
       "<table border=\"1\" class=\"dataframe\">\n",
       "  <thead>\n",
       "    <tr style=\"text-align: right;\">\n",
       "      <th></th>\n",
       "      <th>Race/ethncity of owner</th>\n",
       "      <th>% businesses total</th>\n",
       "      <th>Average Revenue per employer ($1000)</th>\n",
       "      <th>Average employer per Business</th>\n",
       "      <th>Average Payroll per businesses ($1,000)</th>\n",
       "      <th>Covid Loss</th>\n",
       "      <th>Covid Survived</th>\n",
       "      <th>Covid Thrived</th>\n",
       "      <th>Estimated Businesses(2017)</th>\n",
       "      <th>Estimated Annual Receipts(2017)</th>\n",
       "      <th>Estimated Businesses(2019-2021)</th>\n",
       "      <th>Estimated Annual Receipts(2019-2021)</th>\n",
       "    </tr>\n",
       "  </thead>\n",
       "  <tbody>\n",
       "    <tr>\n",
       "      <th>0</th>\n",
       "      <td>Black-owned</td>\n",
       "      <td>2</td>\n",
       "      <td>1,001</td>\n",
       "      <td>9</td>\n",
       "      <td>300</td>\n",
       "      <td>3.9</td>\n",
       "      <td>36.2</td>\n",
       "      <td>42.5</td>\n",
       "      <td>4 million</td>\n",
       "      <td>$130.9 billion</td>\n",
       "      <td>346,836</td>\n",
       "      <td>$463.3 billion</td>\n",
       "    </tr>\n",
       "    <tr>\n",
       "      <th>1</th>\n",
       "      <td>Hispanic-owned</td>\n",
       "      <td>7</td>\n",
       "      <td>1,259</td>\n",
       "      <td>8</td>\n",
       "      <td>281</td>\n",
       "      <td>8.0</td>\n",
       "      <td>23.0</td>\n",
       "      <td>5.0</td>\n",
       "      <td>555,638</td>\n",
       "      <td>814.8 billion</td>\n",
       "      <td>581,200</td>\n",
       "      <td>$874.6 billion</td>\n",
       "    </tr>\n",
       "    <tr>\n",
       "      <th>2</th>\n",
       "      <td>Asian-owned</td>\n",
       "      <td>11</td>\n",
       "      <td>1,374</td>\n",
       "      <td>8</td>\n",
       "      <td>307</td>\n",
       "      <td>9.0</td>\n",
       "      <td>10.9</td>\n",
       "      <td>25.5</td>\n",
       "      <td>124,004</td>\n",
       "      <td>1.03 million</td>\n",
       "      <td>134,567</td>\n",
       "      <td>$133.7 billion</td>\n",
       "    </tr>\n",
       "    <tr>\n",
       "      <th>3</th>\n",
       "      <td>American Indian and Alaska Native-owned</td>\n",
       "      <td>1</td>\n",
       "      <td>221</td>\n",
       "      <td>8</td>\n",
       "      <td>109</td>\n",
       "      <td>83.0</td>\n",
       "      <td>8.9</td>\n",
       "      <td>0.0</td>\n",
       "      <td>26,064</td>\n",
       "      <td>NaN</td>\n",
       "      <td>26,064</td>\n",
       "      <td>$35.8 billion</td>\n",
       "    </tr>\n",
       "    <tr>\n",
       "      <th>4</th>\n",
       "      <td>Native Hawaiian and Other Pacific Islander-owned</td>\n",
       "      <td>0</td>\n",
       "      <td>55</td>\n",
       "      <td>8</td>\n",
       "      <td>45</td>\n",
       "      <td>NaN</td>\n",
       "      <td>4.9</td>\n",
       "      <td>0.0</td>\n",
       "      <td>54,749</td>\n",
       "      <td>8.5 billion</td>\n",
       "      <td>7,331</td>\n",
       "      <td>$8.5 billion</td>\n",
       "    </tr>\n",
       "  </tbody>\n",
       "</table>\n",
       "</div>"
      ],
      "text/plain": [
       "                              Race/ethncity of owner  % businesses total  \\\n",
       "0                                        Black-owned                   2   \n",
       "1                                     Hispanic-owned                   7   \n",
       "2                                        Asian-owned                  11   \n",
       "3            American Indian and Alaska Native-owned                   1   \n",
       "4  Native Hawaiian and Other Pacific Islander-owned                    0   \n",
       "\n",
       "  Average Revenue per employer ($1000)  Average employer per Business  \\\n",
       "0                                1,001                              9   \n",
       "1                                1,259                              8   \n",
       "2                                1,374                              8   \n",
       "3                                  221                              8   \n",
       "4                                   55                              8   \n",
       "\n",
       "   Average Payroll per businesses ($1,000)  Covid Loss  Covid Survived  \\\n",
       "0                                      300         3.9            36.2   \n",
       "1                                      281         8.0            23.0   \n",
       "2                                      307         9.0            10.9   \n",
       "3                                      109        83.0             8.9   \n",
       "4                                       45         NaN             4.9   \n",
       "\n",
       "   Covid Thrived Estimated Businesses(2017) Estimated Annual Receipts(2017)  \\\n",
       "0           42.5                  4 million                  $130.9 billion   \n",
       "1            5.0                    555,638                   814.8 billion   \n",
       "2           25.5                    124,004                    1.03 million   \n",
       "3            0.0                     26,064                             NaN   \n",
       "4            0.0                     54,749                     8.5 billion   \n",
       "\n",
       "  Estimated Businesses(2019-2021) Estimated Annual Receipts(2019-2021)  \n",
       "0                         346,836                       $463.3 billion  \n",
       "1                         581,200                       $874.6 billion  \n",
       "2                         134,567                       $133.7 billion  \n",
       "3                          26,064                        $35.8 billion  \n",
       "4                           7,331                         $8.5 billion  "
      ]
     },
     "execution_count": 50,
     "metadata": {},
     "output_type": "execute_result"
    }
   ],
   "source": [
    "Minority_owned_businesses.head()"
   ]
  },
  {
   "cell_type": "markdown",
   "id": "b6c4b250",
   "metadata": {},
   "source": [
    "## Drop Columns Average employer per Business, Average Payroll per businesses ($1,000) and Covid Loss"
   ]
  },
  {
   "cell_type": "code",
   "execution_count": 51,
   "id": "84490dd2",
   "metadata": {},
   "outputs": [],
   "source": [
    "Minority_owned_businesses.drop(['Average employer per Business','Average Payroll per businesses ($1,000)','Covid Loss' ], axis=1, inplace=True)\n"
   ]
  },
  {
   "cell_type": "code",
   "execution_count": 52,
   "id": "2ea4169f",
   "metadata": {},
   "outputs": [
    {
     "data": {
      "text/html": [
       "<div>\n",
       "<style scoped>\n",
       "    .dataframe tbody tr th:only-of-type {\n",
       "        vertical-align: middle;\n",
       "    }\n",
       "\n",
       "    .dataframe tbody tr th {\n",
       "        vertical-align: top;\n",
       "    }\n",
       "\n",
       "    .dataframe thead th {\n",
       "        text-align: right;\n",
       "    }\n",
       "</style>\n",
       "<table border=\"1\" class=\"dataframe\">\n",
       "  <thead>\n",
       "    <tr style=\"text-align: right;\">\n",
       "      <th></th>\n",
       "      <th>Race/ethncity of owner</th>\n",
       "      <th>% businesses total</th>\n",
       "      <th>Average Revenue per employer ($1000)</th>\n",
       "      <th>Covid Survived</th>\n",
       "      <th>Covid Thrived</th>\n",
       "      <th>Estimated Businesses(2017)</th>\n",
       "      <th>Estimated Annual Receipts(2017)</th>\n",
       "      <th>Estimated Businesses(2019-2021)</th>\n",
       "      <th>Estimated Annual Receipts(2019-2021)</th>\n",
       "    </tr>\n",
       "  </thead>\n",
       "  <tbody>\n",
       "    <tr>\n",
       "      <th>0</th>\n",
       "      <td>Black-owned</td>\n",
       "      <td>2</td>\n",
       "      <td>1,001</td>\n",
       "      <td>36.2</td>\n",
       "      <td>42.5</td>\n",
       "      <td>4 million</td>\n",
       "      <td>$130.9 billion</td>\n",
       "      <td>346,836</td>\n",
       "      <td>$463.3 billion</td>\n",
       "    </tr>\n",
       "    <tr>\n",
       "      <th>1</th>\n",
       "      <td>Hispanic-owned</td>\n",
       "      <td>7</td>\n",
       "      <td>1,259</td>\n",
       "      <td>23.0</td>\n",
       "      <td>5.0</td>\n",
       "      <td>555,638</td>\n",
       "      <td>814.8 billion</td>\n",
       "      <td>581,200</td>\n",
       "      <td>$874.6 billion</td>\n",
       "    </tr>\n",
       "    <tr>\n",
       "      <th>2</th>\n",
       "      <td>Asian-owned</td>\n",
       "      <td>11</td>\n",
       "      <td>1,374</td>\n",
       "      <td>10.9</td>\n",
       "      <td>25.5</td>\n",
       "      <td>124,004</td>\n",
       "      <td>1.03 million</td>\n",
       "      <td>134,567</td>\n",
       "      <td>$133.7 billion</td>\n",
       "    </tr>\n",
       "    <tr>\n",
       "      <th>3</th>\n",
       "      <td>American Indian and Alaska Native-owned</td>\n",
       "      <td>1</td>\n",
       "      <td>221</td>\n",
       "      <td>8.9</td>\n",
       "      <td>0.0</td>\n",
       "      <td>26,064</td>\n",
       "      <td>NaN</td>\n",
       "      <td>26,064</td>\n",
       "      <td>$35.8 billion</td>\n",
       "    </tr>\n",
       "    <tr>\n",
       "      <th>4</th>\n",
       "      <td>Native Hawaiian and Other Pacific Islander-owned</td>\n",
       "      <td>0</td>\n",
       "      <td>55</td>\n",
       "      <td>4.9</td>\n",
       "      <td>0.0</td>\n",
       "      <td>54,749</td>\n",
       "      <td>8.5 billion</td>\n",
       "      <td>7,331</td>\n",
       "      <td>$8.5 billion</td>\n",
       "    </tr>\n",
       "  </tbody>\n",
       "</table>\n",
       "</div>"
      ],
      "text/plain": [
       "                              Race/ethncity of owner  % businesses total  \\\n",
       "0                                        Black-owned                   2   \n",
       "1                                     Hispanic-owned                   7   \n",
       "2                                        Asian-owned                  11   \n",
       "3            American Indian and Alaska Native-owned                   1   \n",
       "4  Native Hawaiian and Other Pacific Islander-owned                    0   \n",
       "\n",
       "  Average Revenue per employer ($1000)  Covid Survived  Covid Thrived  \\\n",
       "0                                1,001            36.2           42.5   \n",
       "1                                1,259            23.0            5.0   \n",
       "2                                1,374            10.9           25.5   \n",
       "3                                  221             8.9            0.0   \n",
       "4                                   55             4.9            0.0   \n",
       "\n",
       "  Estimated Businesses(2017) Estimated Annual Receipts(2017)  \\\n",
       "0                  4 million                  $130.9 billion   \n",
       "1                    555,638                   814.8 billion   \n",
       "2                    124,004                    1.03 million   \n",
       "3                     26,064                             NaN   \n",
       "4                     54,749                     8.5 billion   \n",
       "\n",
       "  Estimated Businesses(2019-2021) Estimated Annual Receipts(2019-2021)  \n",
       "0                         346,836                       $463.3 billion  \n",
       "1                         581,200                       $874.6 billion  \n",
       "2                         134,567                       $133.7 billion  \n",
       "3                          26,064                        $35.8 billion  \n",
       "4                           7,331                         $8.5 billion  "
      ]
     },
     "execution_count": 52,
     "metadata": {},
     "output_type": "execute_result"
    }
   ],
   "source": [
    "Minority_owned_businesses.head()"
   ]
  },
  {
   "cell_type": "markdown",
   "id": "30659e70",
   "metadata": {},
   "source": [
    "# Creating Histograms"
   ]
  },
  {
   "cell_type": "code",
   "execution_count": 53,
   "id": "6ee505d3",
   "metadata": {
    "scrolled": true
   },
   "outputs": [
    {
     "data": {
      "text/html": [
       "<div>\n",
       "<style scoped>\n",
       "    .dataframe tbody tr th:only-of-type {\n",
       "        vertical-align: middle;\n",
       "    }\n",
       "\n",
       "    .dataframe tbody tr th {\n",
       "        vertical-align: top;\n",
       "    }\n",
       "\n",
       "    .dataframe thead th {\n",
       "        text-align: right;\n",
       "    }\n",
       "</style>\n",
       "<table border=\"1\" class=\"dataframe\">\n",
       "  <thead>\n",
       "    <tr style=\"text-align: right;\">\n",
       "      <th></th>\n",
       "      <th>Race/ethncity of owner</th>\n",
       "      <th>% businesses total</th>\n",
       "      <th>Average Revenue per employer ($1000)</th>\n",
       "      <th>Covid Survived</th>\n",
       "      <th>Covid Thrived</th>\n",
       "      <th>Estimated Businesses(2017)</th>\n",
       "      <th>Estimated Annual Receipts(2017)</th>\n",
       "      <th>Estimated Businesses(2019-2021)</th>\n",
       "      <th>Estimated Annual Receipts(2019-2021)</th>\n",
       "    </tr>\n",
       "  </thead>\n",
       "  <tbody>\n",
       "    <tr>\n",
       "      <th>0</th>\n",
       "      <td>Black-owned</td>\n",
       "      <td>2</td>\n",
       "      <td>1,001</td>\n",
       "      <td>36.2</td>\n",
       "      <td>42.5</td>\n",
       "      <td>4 million</td>\n",
       "      <td>$130.9 billion</td>\n",
       "      <td>346,836</td>\n",
       "      <td>$463.3 billion</td>\n",
       "    </tr>\n",
       "    <tr>\n",
       "      <th>1</th>\n",
       "      <td>Hispanic-owned</td>\n",
       "      <td>7</td>\n",
       "      <td>1,259</td>\n",
       "      <td>23.0</td>\n",
       "      <td>5.0</td>\n",
       "      <td>555,638</td>\n",
       "      <td>814.8 billion</td>\n",
       "      <td>581,200</td>\n",
       "      <td>$874.6 billion</td>\n",
       "    </tr>\n",
       "    <tr>\n",
       "      <th>2</th>\n",
       "      <td>Asian-owned</td>\n",
       "      <td>11</td>\n",
       "      <td>1,374</td>\n",
       "      <td>10.9</td>\n",
       "      <td>25.5</td>\n",
       "      <td>124,004</td>\n",
       "      <td>1.03 million</td>\n",
       "      <td>134,567</td>\n",
       "      <td>$133.7 billion</td>\n",
       "    </tr>\n",
       "    <tr>\n",
       "      <th>3</th>\n",
       "      <td>American Indian and Alaska Native-owned</td>\n",
       "      <td>1</td>\n",
       "      <td>221</td>\n",
       "      <td>8.9</td>\n",
       "      <td>0.0</td>\n",
       "      <td>26,064</td>\n",
       "      <td>NaN</td>\n",
       "      <td>26,064</td>\n",
       "      <td>$35.8 billion</td>\n",
       "    </tr>\n",
       "    <tr>\n",
       "      <th>4</th>\n",
       "      <td>Native Hawaiian and Other Pacific Islander-owned</td>\n",
       "      <td>0</td>\n",
       "      <td>55</td>\n",
       "      <td>4.9</td>\n",
       "      <td>0.0</td>\n",
       "      <td>54,749</td>\n",
       "      <td>8.5 billion</td>\n",
       "      <td>7,331</td>\n",
       "      <td>$8.5 billion</td>\n",
       "    </tr>\n",
       "  </tbody>\n",
       "</table>\n",
       "</div>"
      ],
      "text/plain": [
       "                              Race/ethncity of owner  % businesses total  \\\n",
       "0                                        Black-owned                   2   \n",
       "1                                     Hispanic-owned                   7   \n",
       "2                                        Asian-owned                  11   \n",
       "3            American Indian and Alaska Native-owned                   1   \n",
       "4  Native Hawaiian and Other Pacific Islander-owned                    0   \n",
       "\n",
       "  Average Revenue per employer ($1000)  Covid Survived  Covid Thrived  \\\n",
       "0                                1,001            36.2           42.5   \n",
       "1                                1,259            23.0            5.0   \n",
       "2                                1,374            10.9           25.5   \n",
       "3                                  221             8.9            0.0   \n",
       "4                                   55             4.9            0.0   \n",
       "\n",
       "  Estimated Businesses(2017) Estimated Annual Receipts(2017)  \\\n",
       "0                  4 million                  $130.9 billion   \n",
       "1                    555,638                   814.8 billion   \n",
       "2                    124,004                    1.03 million   \n",
       "3                     26,064                             NaN   \n",
       "4                     54,749                     8.5 billion   \n",
       "\n",
       "  Estimated Businesses(2019-2021) Estimated Annual Receipts(2019-2021)  \n",
       "0                         346,836                       $463.3 billion  \n",
       "1                         581,200                       $874.6 billion  \n",
       "2                         134,567                       $133.7 billion  \n",
       "3                          26,064                        $35.8 billion  \n",
       "4                           7,331                         $8.5 billion  "
      ]
     },
     "execution_count": 53,
     "metadata": {},
     "output_type": "execute_result"
    }
   ],
   "source": [
    "Minority_owned_businesses.head()"
   ]
  },
  {
   "cell_type": "code",
   "execution_count": 59,
   "id": "7d73a02c",
   "metadata": {},
   "outputs": [
    {
     "data": {
      "text/plain": [
       "array([[<AxesSubplot:title={'center':'% businesses total'}>,\n",
       "        <AxesSubplot:title={'center':'Average Revenue per employer ($1000)'}>],\n",
       "       [<AxesSubplot:title={'center':'Covid Survived'}>,\n",
       "        <AxesSubplot:title={'center':'Covid Thrived'}>]], dtype=object)"
      ]
     },
     "execution_count": 59,
     "metadata": {},
     "output_type": "execute_result"
    },
    {
     "data": {
      "image/png": "[encoded data removed]",
      "text/plain": [
       "<Figure size 432x288 with 4 Axes>"
      ]
     },
     "metadata": {
      "needs_background": "light"
     },
     "output_type": "display_data"
    }
   ],
   "source": [
    "Minority_owned_businesses.hist()"
   ]
  },
  {
   "cell_type": "markdown",
   "id": "92a588d4",
   "metadata": {},
   "source": [
    "# Create Single Histograms"
   ]
  },
  {
   "cell_type": "code",
   "execution_count": 60,
   "id": "a6311d5c",
   "metadata": {},
   "outputs": [
    {
     "name": "stderr",
     "output_type": "stream",
     "text": [
      "C:\\Python3\\lib\\site-packages\\seaborn\\distributions.py:2619: FutureWarning: `distplot` is a deprecated function and will be removed in a future version. Please adapt your code to use either `displot` (a figure-level function with similar flexibility) or `histplot` (an axes-level function for histograms).\n",
      "  warnings.warn(msg, FutureWarning)\n"
     ]
    },
    {
     "data": {
      "text/plain": [
       "<AxesSubplot:xlabel='% businesses total', ylabel='Density'>"
      ]
     },
     "execution_count": 60,
     "metadata": {},
     "output_type": "execute_result"
    },
    {
     "data": {
      "image/png": "[encoded data removed]",
      "text/plain": [
       "<Figure size 432x288 with 1 Axes>"
      ]
     },
     "metadata": {
      "needs_background": "light"
     },
     "output_type": "display_data"
    }
   ],
   "source": [
    "sns.distplot(Minority_owned_businesses['% businesses total'])"
   ]
  },
  {
   "cell_type": "code",
   "execution_count": 61,
   "id": "44f26f50",
   "metadata": {},
   "outputs": [
    {
     "name": "stderr",
     "output_type": "stream",
     "text": [
      "C:\\Python3\\lib\\site-packages\\seaborn\\distributions.py:2619: FutureWarning: `distplot` is a deprecated function and will be removed in a future version. Please adapt your code to use either `displot` (a figure-level function with similar flexibility) or `histplot` (an axes-level function for histograms).\n",
      "  warnings.warn(msg, FutureWarning)\n"
     ]
    },
    {
     "data": {
      "text/plain": [
       "<AxesSubplot:xlabel='Covid Survived', ylabel='Density'>"
      ]
     },
     "execution_count": 61,
     "metadata": {},
     "output_type": "execute_result"
    },
    {
     "data": {
      "image/png": "[encoded data removed]",
      "text/plain": [
       "<Figure size 432x288 with 1 Axes>"
      ]
     },
     "metadata": {
      "needs_background": "light"
     },
     "output_type": "display_data"
    }
   ],
   "source": [
    "sns.distplot(Minority_owned_businesses['Covid Survived'])"
   ]
  },
  {
   "cell_type": "markdown",
   "id": "1cada08a",
   "metadata": {},
   "source": [
    "## Recode Average Revenue per employer ($1000) and create Histogram"
   ]
  },
  {
   "cell_type": "code",
   "execution_count": 62,
   "id": "f33d026a",
   "metadata": {},
   "outputs": [],
   "source": [
    "Minority_owned_businesses['Average Revenue per employer ($1000)'] = pd.to_numeric(Minority_owned_businesses['Average Revenue per employer ($1000)'].replace({',': ''}, regex=True), errors='coerce')"
   ]
  },
  {
   "cell_type": "code",
   "execution_count": 63,
   "id": "c057e114",
   "metadata": {},
   "outputs": [
    {
     "name": "stderr",
     "output_type": "stream",
     "text": [
      "C:\\Python3\\lib\\site-packages\\seaborn\\distributions.py:2619: FutureWarning: `distplot` is a deprecated function and will be removed in a future version. Please adapt your code to use either `displot` (a figure-level function with similar flexibility) or `histplot` (an axes-level function for histograms).\n",
      "  warnings.warn(msg, FutureWarning)\n"
     ]
    },
    {
     "data": {
      "text/plain": [
       "<AxesSubplot:xlabel='Average Revenue per employer ($1000)', ylabel='Density'>"
      ]
     },
     "execution_count": 63,
     "metadata": {},
     "output_type": "execute_result"
    },
    {
     "data": {
      "image/png": "[encoded data removed]",
      "text/plain": [
       "<Figure size 432x288 with 1 Axes>"
      ]
     },
     "metadata": {
      "needs_background": "light"
     },
     "output_type": "display_data"
    }
   ],
   "source": [
    "sns.distplot(Minority_owned_businesses['Average Revenue per employer ($1000)'])"
   ]
  },
  {
   "cell_type": "markdown",
   "id": "6f9c68ec",
   "metadata": {},
   "source": [
    "## Recode Estimated Businesses(2017) and Create Histogram"
   ]
  },
  {
   "cell_type": "markdown",
   "id": "cb4fb575",
   "metadata": {},
   "source": [
    "## Check for missing values"
   ]
  },
  {
   "cell_type": "code",
   "execution_count": 64,
   "id": "c907978b",
   "metadata": {},
   "outputs": [
    {
     "data": {
      "text/plain": [
       "0"
      ]
     },
     "execution_count": 64,
     "metadata": {},
     "output_type": "execute_result"
    }
   ],
   "source": [
    "Minority_owned_businesses['Estimated Businesses(2017)'].isnull().sum()"
   ]
  },
  {
   "cell_type": "markdown",
   "id": "55fcb131",
   "metadata": {},
   "source": [
    "## Check for uniques values"
   ]
  },
  {
   "cell_type": "code",
   "execution_count": 65,
   "id": "cabb65ba",
   "metadata": {},
   "outputs": [
    {
     "data": {
      "text/plain": [
       "array(['4 million', '555,638', '124,004', '26,064', '54,749'],\n",
       "      dtype=object)"
      ]
     },
     "execution_count": 65,
     "metadata": {},
     "output_type": "execute_result"
    }
   ],
   "source": [
    "Minority_owned_businesses['Estimated Businesses(2017)'].unique()\n"
   ]
  },
  {
   "cell_type": "markdown",
   "id": "bf781bd7",
   "metadata": {},
   "source": [
    "## Change Million to Values that can be use in a histogram"
   ]
  },
  {
   "cell_type": "code",
   "execution_count": 66,
   "id": "8ba0db3b",
   "metadata": {},
   "outputs": [],
   "source": [
    "Minority_owned_businesses['Estimated Businesses(2017)'] = pd.to_numeric(Minority_owned_businesses['Estimated Businesses(2017)'].replace({',': '', ' million': 'e6'}, regex=True), errors='coerce')"
   ]
  },
  {
   "cell_type": "code",
   "execution_count": 67,
   "id": "b5c2d3dc",
   "metadata": {},
   "outputs": [],
   "source": [
    "Minority_owned_businesses['Estimated Businesses(2017)'] = Minority_owned_businesses['Estimated Businesses(2017)'].replace({',': ''}, regex=True).astype(float)"
   ]
  },
  {
   "cell_type": "code",
   "execution_count": 68,
   "id": "54bf1e5a",
   "metadata": {},
   "outputs": [
    {
     "data": {
      "text/html": [
       "<div>\n",
       "<style scoped>\n",
       "    .dataframe tbody tr th:only-of-type {\n",
       "        vertical-align: middle;\n",
       "    }\n",
       "\n",
       "    .dataframe tbody tr th {\n",
       "        vertical-align: top;\n",
       "    }\n",
       "\n",
       "    .dataframe thead th {\n",
       "        text-align: right;\n",
       "    }\n",
       "</style>\n",
       "<table border=\"1\" class=\"dataframe\">\n",
       "  <thead>\n",
       "    <tr style=\"text-align: right;\">\n",
       "      <th></th>\n",
       "      <th>Race/ethncity of owner</th>\n",
       "      <th>% businesses total</th>\n",
       "      <th>Average Revenue per employer ($1000)</th>\n",
       "      <th>Covid Survived</th>\n",
       "      <th>Covid Thrived</th>\n",
       "      <th>Estimated Businesses(2017)</th>\n",
       "      <th>Estimated Annual Receipts(2017)</th>\n",
       "      <th>Estimated Businesses(2019-2021)</th>\n",
       "      <th>Estimated Annual Receipts(2019-2021)</th>\n",
       "    </tr>\n",
       "  </thead>\n",
       "  <tbody>\n",
       "    <tr>\n",
       "      <th>0</th>\n",
       "      <td>Black-owned</td>\n",
       "      <td>2</td>\n",
       "      <td>1001</td>\n",
       "      <td>36.2</td>\n",
       "      <td>42.5</td>\n",
       "      <td>4000000.0</td>\n",
       "      <td>$130.9 billion</td>\n",
       "      <td>346,836</td>\n",
       "      <td>$463.3 billion</td>\n",
       "    </tr>\n",
       "    <tr>\n",
       "      <th>1</th>\n",
       "      <td>Hispanic-owned</td>\n",
       "      <td>7</td>\n",
       "      <td>1259</td>\n",
       "      <td>23.0</td>\n",
       "      <td>5.0</td>\n",
       "      <td>555638.0</td>\n",
       "      <td>814.8 billion</td>\n",
       "      <td>581,200</td>\n",
       "      <td>$874.6 billion</td>\n",
       "    </tr>\n",
       "    <tr>\n",
       "      <th>2</th>\n",
       "      <td>Asian-owned</td>\n",
       "      <td>11</td>\n",
       "      <td>1374</td>\n",
       "      <td>10.9</td>\n",
       "      <td>25.5</td>\n",
       "      <td>124004.0</td>\n",
       "      <td>1.03 million</td>\n",
       "      <td>134,567</td>\n",
       "      <td>$133.7 billion</td>\n",
       "    </tr>\n",
       "    <tr>\n",
       "      <th>3</th>\n",
       "      <td>American Indian and Alaska Native-owned</td>\n",
       "      <td>1</td>\n",
       "      <td>221</td>\n",
       "      <td>8.9</td>\n",
       "      <td>0.0</td>\n",
       "      <td>26064.0</td>\n",
       "      <td>NaN</td>\n",
       "      <td>26,064</td>\n",
       "      <td>$35.8 billion</td>\n",
       "    </tr>\n",
       "    <tr>\n",
       "      <th>4</th>\n",
       "      <td>Native Hawaiian and Other Pacific Islander-owned</td>\n",
       "      <td>0</td>\n",
       "      <td>55</td>\n",
       "      <td>4.9</td>\n",
       "      <td>0.0</td>\n",
       "      <td>54749.0</td>\n",
       "      <td>8.5 billion</td>\n",
       "      <td>7,331</td>\n",
       "      <td>$8.5 billion</td>\n",
       "    </tr>\n",
       "  </tbody>\n",
       "</table>\n",
       "</div>"
      ],
      "text/plain": [
       "                              Race/ethncity of owner  % businesses total  \\\n",
       "0                                        Black-owned                   2   \n",
       "1                                     Hispanic-owned                   7   \n",
       "2                                        Asian-owned                  11   \n",
       "3            American Indian and Alaska Native-owned                   1   \n",
       "4  Native Hawaiian and Other Pacific Islander-owned                    0   \n",
       "\n",
       "   Average Revenue per employer ($1000)  Covid Survived  Covid Thrived  \\\n",
       "0                                  1001            36.2           42.5   \n",
       "1                                  1259            23.0            5.0   \n",
       "2                                  1374            10.9           25.5   \n",
       "3                                   221             8.9            0.0   \n",
       "4                                    55             4.9            0.0   \n",
       "\n",
       "   Estimated Businesses(2017) Estimated Annual Receipts(2017)  \\\n",
       "0                   4000000.0                  $130.9 billion   \n",
       "1                    555638.0                   814.8 billion   \n",
       "2                    124004.0                    1.03 million   \n",
       "3                     26064.0                             NaN   \n",
       "4                     54749.0                     8.5 billion   \n",
       "\n",
       "  Estimated Businesses(2019-2021) Estimated Annual Receipts(2019-2021)  \n",
       "0                         346,836                       $463.3 billion  \n",
       "1                         581,200                       $874.6 billion  \n",
       "2                         134,567                       $133.7 billion  \n",
       "3                          26,064                        $35.8 billion  \n",
       "4                           7,331                         $8.5 billion  "
      ]
     },
     "execution_count": 68,
     "metadata": {},
     "output_type": "execute_result"
    }
   ],
   "source": [
    "Minority_owned_businesses.head()"
   ]
  },
  {
   "cell_type": "code",
   "execution_count": 69,
   "id": "993d0664",
   "metadata": {
    "scrolled": true
   },
   "outputs": [
    {
     "name": "stderr",
     "output_type": "stream",
     "text": [
      "C:\\Python3\\lib\\site-packages\\seaborn\\distributions.py:2619: FutureWarning: `distplot` is a deprecated function and will be removed in a future version. Please adapt your code to use either `displot` (a figure-level function with similar flexibility) or `histplot` (an axes-level function for histograms).\n",
      "  warnings.warn(msg, FutureWarning)\n"
     ]
    },
    {
     "data": {
      "text/plain": [
       "<AxesSubplot:xlabel='Estimated Businesses(2017)', ylabel='Density'>"
      ]
     },
     "execution_count": 69,
     "metadata": {},
     "output_type": "execute_result"
    },
    {
     "data": {
      "image/png": "[encoded data removed]",
      "text/plain": [
       "<Figure size 432x288 with 1 Axes>"
      ]
     },
     "metadata": {
      "needs_background": "light"
     },
     "output_type": "display_data"
    }
   ],
   "source": [
    "sns.distplot(Minority_owned_businesses['Estimated Businesses(2017)'])"
   ]
  },
  {
   "cell_type": "markdown",
   "id": "aedd4369",
   "metadata": {},
   "source": [
    "## Recode Estimated Annual Receipts(2017) and Create Histogram"
   ]
  },
  {
   "cell_type": "code",
   "execution_count": 70,
   "id": "356db604",
   "metadata": {},
   "outputs": [
    {
     "data": {
      "text/html": [
       "<div>\n",
       "<style scoped>\n",
       "    .dataframe tbody tr th:only-of-type {\n",
       "        vertical-align: middle;\n",
       "    }\n",
       "\n",
       "    .dataframe tbody tr th {\n",
       "        vertical-align: top;\n",
       "    }\n",
       "\n",
       "    .dataframe thead th {\n",
       "        text-align: right;\n",
       "    }\n",
       "</style>\n",
       "<table border=\"1\" class=\"dataframe\">\n",
       "  <thead>\n",
       "    <tr style=\"text-align: right;\">\n",
       "      <th></th>\n",
       "      <th>Race/ethncity of owner</th>\n",
       "      <th>% businesses total</th>\n",
       "      <th>Average Revenue per employer ($1000)</th>\n",
       "      <th>Covid Survived</th>\n",
       "      <th>Covid Thrived</th>\n",
       "      <th>Estimated Businesses(2017)</th>\n",
       "      <th>Estimated Annual Receipts(2017)</th>\n",
       "      <th>Estimated Businesses(2019-2021)</th>\n",
       "      <th>Estimated Annual Receipts(2019-2021)</th>\n",
       "    </tr>\n",
       "  </thead>\n",
       "  <tbody>\n",
       "    <tr>\n",
       "      <th>0</th>\n",
       "      <td>Black-owned</td>\n",
       "      <td>2</td>\n",
       "      <td>1001</td>\n",
       "      <td>36.2</td>\n",
       "      <td>42.5</td>\n",
       "      <td>4000000.0</td>\n",
       "      <td>$130.9 billion</td>\n",
       "      <td>346,836</td>\n",
       "      <td>$463.3 billion</td>\n",
       "    </tr>\n",
       "    <tr>\n",
       "      <th>1</th>\n",
       "      <td>Hispanic-owned</td>\n",
       "      <td>7</td>\n",
       "      <td>1259</td>\n",
       "      <td>23.0</td>\n",
       "      <td>5.0</td>\n",
       "      <td>555638.0</td>\n",
       "      <td>814.8 billion</td>\n",
       "      <td>581,200</td>\n",
       "      <td>$874.6 billion</td>\n",
       "    </tr>\n",
       "    <tr>\n",
       "      <th>2</th>\n",
       "      <td>Asian-owned</td>\n",
       "      <td>11</td>\n",
       "      <td>1374</td>\n",
       "      <td>10.9</td>\n",
       "      <td>25.5</td>\n",
       "      <td>124004.0</td>\n",
       "      <td>1.03 million</td>\n",
       "      <td>134,567</td>\n",
       "      <td>$133.7 billion</td>\n",
       "    </tr>\n",
       "    <tr>\n",
       "      <th>3</th>\n",
       "      <td>American Indian and Alaska Native-owned</td>\n",
       "      <td>1</td>\n",
       "      <td>221</td>\n",
       "      <td>8.9</td>\n",
       "      <td>0.0</td>\n",
       "      <td>26064.0</td>\n",
       "      <td>NaN</td>\n",
       "      <td>26,064</td>\n",
       "      <td>$35.8 billion</td>\n",
       "    </tr>\n",
       "    <tr>\n",
       "      <th>4</th>\n",
       "      <td>Native Hawaiian and Other Pacific Islander-owned</td>\n",
       "      <td>0</td>\n",
       "      <td>55</td>\n",
       "      <td>4.9</td>\n",
       "      <td>0.0</td>\n",
       "      <td>54749.0</td>\n",
       "      <td>8.5 billion</td>\n",
       "      <td>7,331</td>\n",
       "      <td>$8.5 billion</td>\n",
       "    </tr>\n",
       "  </tbody>\n",
       "</table>\n",
       "</div>"
      ],
      "text/plain": [
       "                              Race/ethncity of owner  % businesses total  \\\n",
       "0                                        Black-owned                   2   \n",
       "1                                     Hispanic-owned                   7   \n",
       "2                                        Asian-owned                  11   \n",
       "3            American Indian and Alaska Native-owned                   1   \n",
       "4  Native Hawaiian and Other Pacific Islander-owned                    0   \n",
       "\n",
       "   Average Revenue per employer ($1000)  Covid Survived  Covid Thrived  \\\n",
       "0                                  1001            36.2           42.5   \n",
       "1                                  1259            23.0            5.0   \n",
       "2                                  1374            10.9           25.5   \n",
       "3                                   221             8.9            0.0   \n",
       "4                                    55             4.9            0.0   \n",
       "\n",
       "   Estimated Businesses(2017) Estimated Annual Receipts(2017)  \\\n",
       "0                   4000000.0                  $130.9 billion   \n",
       "1                    555638.0                   814.8 billion   \n",
       "2                    124004.0                    1.03 million   \n",
       "3                     26064.0                             NaN   \n",
       "4                     54749.0                     8.5 billion   \n",
       "\n",
       "  Estimated Businesses(2019-2021) Estimated Annual Receipts(2019-2021)  \n",
       "0                         346,836                       $463.3 billion  \n",
       "1                         581,200                       $874.6 billion  \n",
       "2                         134,567                       $133.7 billion  \n",
       "3                          26,064                        $35.8 billion  \n",
       "4                           7,331                         $8.5 billion  "
      ]
     },
     "execution_count": 70,
     "metadata": {},
     "output_type": "execute_result"
    }
   ],
   "source": [
    "Minority_owned_businesses.head()"
   ]
  },
  {
   "cell_type": "markdown",
   "id": "6ace05da",
   "metadata": {},
   "source": [
    "## Check for missing values"
   ]
  },
  {
   "cell_type": "code",
   "execution_count": 71,
   "id": "4750406a",
   "metadata": {},
   "outputs": [
    {
     "data": {
      "text/plain": [
       "1"
      ]
     },
     "execution_count": 71,
     "metadata": {},
     "output_type": "execute_result"
    }
   ],
   "source": [
    "Minority_owned_businesses['Estimated Annual Receipts(2017)'].isnull().sum()"
   ]
  },
  {
   "cell_type": "markdown",
   "id": "32c994da",
   "metadata": {},
   "source": [
    "## Check for uniques values"
   ]
  },
  {
   "cell_type": "code",
   "execution_count": 72,
   "id": "9a84bb0b",
   "metadata": {},
   "outputs": [
    {
     "data": {
      "text/plain": [
       "array(['$130.9 billion', '814.8 billion', '1.03 million', nan,\n",
       "       '8.5 billion'], dtype=object)"
      ]
     },
     "execution_count": 72,
     "metadata": {},
     "output_type": "execute_result"
    }
   ],
   "source": [
    "Minority_owned_businesses['Estimated Annual Receipts(2017)'].unique()"
   ]
  },
  {
   "cell_type": "markdown",
   "id": "25c32d8c",
   "metadata": {},
   "source": [
    "## Change Million to Values that can be use in a histogram"
   ]
  },
  {
   "cell_type": "code",
   "execution_count": 73,
   "id": "995cea0c",
   "metadata": {},
   "outputs": [],
   "source": [
    "def convert_to_numeric(value):\n",
    "    if isinstance(value, (int, float)):\n",
    "        return float(value)\n",
    "    \n",
    "    value = str(value).replace('$', '').replace(',', '')\n",
    "    if 'billion' in value:\n",
    "        return float(value.replace(' billion', '')) * 1e9\n",
    "    elif 'million' in value:\n",
    "        return float(value.replace(' million', '')) * 1e6\n",
    "    else:\n",
    "        try:\n",
    "            return float(value)\n",
    "        except ValueError:\n",
    "            return np.nan"
   ]
  },
  {
   "cell_type": "code",
   "execution_count": 74,
   "id": "2edb2405",
   "metadata": {},
   "outputs": [],
   "source": [
    "Minority_owned_businesses['Estimated Annual Receipts(2017)'] = Minority_owned_businesses['Estimated Annual Receipts(2017)'].apply(convert_to_numeric)"
   ]
  },
  {
   "cell_type": "code",
   "execution_count": 75,
   "id": "4ebc49cf",
   "metadata": {
    "scrolled": true
   },
   "outputs": [
    {
     "data": {
      "text/html": [
       "<div>\n",
       "<style scoped>\n",
       "    .dataframe tbody tr th:only-of-type {\n",
       "        vertical-align: middle;\n",
       "    }\n",
       "\n",
       "    .dataframe tbody tr th {\n",
       "        vertical-align: top;\n",
       "    }\n",
       "\n",
       "    .dataframe thead th {\n",
       "        text-align: right;\n",
       "    }\n",
       "</style>\n",
       "<table border=\"1\" class=\"dataframe\">\n",
       "  <thead>\n",
       "    <tr style=\"text-align: right;\">\n",
       "      <th></th>\n",
       "      <th>Race/ethncity of owner</th>\n",
       "      <th>% businesses total</th>\n",
       "      <th>Average Revenue per employer ($1000)</th>\n",
       "      <th>Covid Survived</th>\n",
       "      <th>Covid Thrived</th>\n",
       "      <th>Estimated Businesses(2017)</th>\n",
       "      <th>Estimated Annual Receipts(2017)</th>\n",
       "      <th>Estimated Businesses(2019-2021)</th>\n",
       "      <th>Estimated Annual Receipts(2019-2021)</th>\n",
       "    </tr>\n",
       "  </thead>\n",
       "  <tbody>\n",
       "    <tr>\n",
       "      <th>0</th>\n",
       "      <td>Black-owned</td>\n",
       "      <td>2</td>\n",
       "      <td>1001</td>\n",
       "      <td>36.2</td>\n",
       "      <td>42.5</td>\n",
       "      <td>4000000.0</td>\n",
       "      <td>1.309000e+11</td>\n",
       "      <td>346,836</td>\n",
       "      <td>$463.3 billion</td>\n",
       "    </tr>\n",
       "    <tr>\n",
       "      <th>1</th>\n",
       "      <td>Hispanic-owned</td>\n",
       "      <td>7</td>\n",
       "      <td>1259</td>\n",
       "      <td>23.0</td>\n",
       "      <td>5.0</td>\n",
       "      <td>555638.0</td>\n",
       "      <td>8.148000e+11</td>\n",
       "      <td>581,200</td>\n",
       "      <td>$874.6 billion</td>\n",
       "    </tr>\n",
       "    <tr>\n",
       "      <th>2</th>\n",
       "      <td>Asian-owned</td>\n",
       "      <td>11</td>\n",
       "      <td>1374</td>\n",
       "      <td>10.9</td>\n",
       "      <td>25.5</td>\n",
       "      <td>124004.0</td>\n",
       "      <td>1.030000e+06</td>\n",
       "      <td>134,567</td>\n",
       "      <td>$133.7 billion</td>\n",
       "    </tr>\n",
       "    <tr>\n",
       "      <th>3</th>\n",
       "      <td>American Indian and Alaska Native-owned</td>\n",
       "      <td>1</td>\n",
       "      <td>221</td>\n",
       "      <td>8.9</td>\n",
       "      <td>0.0</td>\n",
       "      <td>26064.0</td>\n",
       "      <td>NaN</td>\n",
       "      <td>26,064</td>\n",
       "      <td>$35.8 billion</td>\n",
       "    </tr>\n",
       "    <tr>\n",
       "      <th>4</th>\n",
       "      <td>Native Hawaiian and Other Pacific Islander-owned</td>\n",
       "      <td>0</td>\n",
       "      <td>55</td>\n",
       "      <td>4.9</td>\n",
       "      <td>0.0</td>\n",
       "      <td>54749.0</td>\n",
       "      <td>8.500000e+09</td>\n",
       "      <td>7,331</td>\n",
       "      <td>$8.5 billion</td>\n",
       "    </tr>\n",
       "  </tbody>\n",
       "</table>\n",
       "</div>"
      ],
      "text/plain": [
       "                              Race/ethncity of owner  % businesses total  \\\n",
       "0                                        Black-owned                   2   \n",
       "1                                     Hispanic-owned                   7   \n",
       "2                                        Asian-owned                  11   \n",
       "3            American Indian and Alaska Native-owned                   1   \n",
       "4  Native Hawaiian and Other Pacific Islander-owned                    0   \n",
       "\n",
       "   Average Revenue per employer ($1000)  Covid Survived  Covid Thrived  \\\n",
       "0                                  1001            36.2           42.5   \n",
       "1                                  1259            23.0            5.0   \n",
       "2                                  1374            10.9           25.5   \n",
       "3                                   221             8.9            0.0   \n",
       "4                                    55             4.9            0.0   \n",
       "\n",
       "   Estimated Businesses(2017)  Estimated Annual Receipts(2017)  \\\n",
       "0                   4000000.0                     1.309000e+11   \n",
       "1                    555638.0                     8.148000e+11   \n",
       "2                    124004.0                     1.030000e+06   \n",
       "3                     26064.0                              NaN   \n",
       "4                     54749.0                     8.500000e+09   \n",
       "\n",
       "  Estimated Businesses(2019-2021) Estimated Annual Receipts(2019-2021)  \n",
       "0                         346,836                       $463.3 billion  \n",
       "1                         581,200                       $874.6 billion  \n",
       "2                         134,567                       $133.7 billion  \n",
       "3                          26,064                        $35.8 billion  \n",
       "4                           7,331                         $8.5 billion  "
      ]
     },
     "execution_count": 75,
     "metadata": {},
     "output_type": "execute_result"
    }
   ],
   "source": [
    "Minority_owned_businesses.head()"
   ]
  },
  {
   "cell_type": "code",
   "execution_count": 76,
   "id": "e12157a6",
   "metadata": {},
   "outputs": [
    {
     "name": "stderr",
     "output_type": "stream",
     "text": [
      "C:\\Python3\\lib\\site-packages\\seaborn\\distributions.py:2619: FutureWarning: `distplot` is a deprecated function and will be removed in a future version. Please adapt your code to use either `displot` (a figure-level function with similar flexibility) or `histplot` (an axes-level function for histograms).\n",
      "  warnings.warn(msg, FutureWarning)\n"
     ]
    },
    {
     "data": {
      "text/plain": [
       "<AxesSubplot:xlabel='Estimated Annual Receipts(2017)', ylabel='Density'>"
      ]
     },
     "execution_count": 76,
     "metadata": {},
     "output_type": "execute_result"
    },
    {
     "data": {
      "image/png": "[encoded data removed]",
      "text/plain": [
       "<Figure size 432x288 with 1 Axes>"
      ]
     },
     "metadata": {
      "needs_background": "light"
     },
     "output_type": "display_data"
    }
   ],
   "source": [
    "sns.distplot(Minority_owned_businesses['Estimated Annual Receipts(2017)'])"
   ]
  },
  {
   "cell_type": "markdown",
   "id": "a7f203c1",
   "metadata": {},
   "source": [
    "## Recode Estimated Businesses(2019-2021) and Create Histogram"
   ]
  },
  {
   "cell_type": "code",
   "execution_count": 77,
   "id": "7eca397b",
   "metadata": {},
   "outputs": [
    {
     "data": {
      "text/html": [
       "<div>\n",
       "<style scoped>\n",
       "    .dataframe tbody tr th:only-of-type {\n",
       "        vertical-align: middle;\n",
       "    }\n",
       "\n",
       "    .dataframe tbody tr th {\n",
       "        vertical-align: top;\n",
       "    }\n",
       "\n",
       "    .dataframe thead th {\n",
       "        text-align: right;\n",
       "    }\n",
       "</style>\n",
       "<table border=\"1\" class=\"dataframe\">\n",
       "  <thead>\n",
       "    <tr style=\"text-align: right;\">\n",
       "      <th></th>\n",
       "      <th>Race/ethncity of owner</th>\n",
       "      <th>% businesses total</th>\n",
       "      <th>Average Revenue per employer ($1000)</th>\n",
       "      <th>Covid Survived</th>\n",
       "      <th>Covid Thrived</th>\n",
       "      <th>Estimated Businesses(2017)</th>\n",
       "      <th>Estimated Annual Receipts(2017)</th>\n",
       "      <th>Estimated Businesses(2019-2021)</th>\n",
       "      <th>Estimated Annual Receipts(2019-2021)</th>\n",
       "    </tr>\n",
       "  </thead>\n",
       "  <tbody>\n",
       "    <tr>\n",
       "      <th>0</th>\n",
       "      <td>Black-owned</td>\n",
       "      <td>2</td>\n",
       "      <td>1001</td>\n",
       "      <td>36.2</td>\n",
       "      <td>42.5</td>\n",
       "      <td>4000000.0</td>\n",
       "      <td>1.309000e+11</td>\n",
       "      <td>346,836</td>\n",
       "      <td>$463.3 billion</td>\n",
       "    </tr>\n",
       "    <tr>\n",
       "      <th>1</th>\n",
       "      <td>Hispanic-owned</td>\n",
       "      <td>7</td>\n",
       "      <td>1259</td>\n",
       "      <td>23.0</td>\n",
       "      <td>5.0</td>\n",
       "      <td>555638.0</td>\n",
       "      <td>8.148000e+11</td>\n",
       "      <td>581,200</td>\n",
       "      <td>$874.6 billion</td>\n",
       "    </tr>\n",
       "    <tr>\n",
       "      <th>2</th>\n",
       "      <td>Asian-owned</td>\n",
       "      <td>11</td>\n",
       "      <td>1374</td>\n",
       "      <td>10.9</td>\n",
       "      <td>25.5</td>\n",
       "      <td>124004.0</td>\n",
       "      <td>1.030000e+06</td>\n",
       "      <td>134,567</td>\n",
       "      <td>$133.7 billion</td>\n",
       "    </tr>\n",
       "    <tr>\n",
       "      <th>3</th>\n",
       "      <td>American Indian and Alaska Native-owned</td>\n",
       "      <td>1</td>\n",
       "      <td>221</td>\n",
       "      <td>8.9</td>\n",
       "      <td>0.0</td>\n",
       "      <td>26064.0</td>\n",
       "      <td>NaN</td>\n",
       "      <td>26,064</td>\n",
       "      <td>$35.8 billion</td>\n",
       "    </tr>\n",
       "    <tr>\n",
       "      <th>4</th>\n",
       "      <td>Native Hawaiian and Other Pacific Islander-owned</td>\n",
       "      <td>0</td>\n",
       "      <td>55</td>\n",
       "      <td>4.9</td>\n",
       "      <td>0.0</td>\n",
       "      <td>54749.0</td>\n",
       "      <td>8.500000e+09</td>\n",
       "      <td>7,331</td>\n",
       "      <td>$8.5 billion</td>\n",
       "    </tr>\n",
       "  </tbody>\n",
       "</table>\n",
       "</div>"
      ],
      "text/plain": [
       "                              Race/ethncity of owner  % businesses total  \\\n",
       "0                                        Black-owned                   2   \n",
       "1                                     Hispanic-owned                   7   \n",
       "2                                        Asian-owned                  11   \n",
       "3            American Indian and Alaska Native-owned                   1   \n",
       "4  Native Hawaiian and Other Pacific Islander-owned                    0   \n",
       "\n",
       "   Average Revenue per employer ($1000)  Covid Survived  Covid Thrived  \\\n",
       "0                                  1001            36.2           42.5   \n",
       "1                                  1259            23.0            5.0   \n",
       "2                                  1374            10.9           25.5   \n",
       "3                                   221             8.9            0.0   \n",
       "4                                    55             4.9            0.0   \n",
       "\n",
       "   Estimated Businesses(2017)  Estimated Annual Receipts(2017)  \\\n",
       "0                   4000000.0                     1.309000e+11   \n",
       "1                    555638.0                     8.148000e+11   \n",
       "2                    124004.0                     1.030000e+06   \n",
       "3                     26064.0                              NaN   \n",
       "4                     54749.0                     8.500000e+09   \n",
       "\n",
       "  Estimated Businesses(2019-2021) Estimated Annual Receipts(2019-2021)  \n",
       "0                         346,836                       $463.3 billion  \n",
       "1                         581,200                       $874.6 billion  \n",
       "2                         134,567                       $133.7 billion  \n",
       "3                          26,064                        $35.8 billion  \n",
       "4                           7,331                         $8.5 billion  "
      ]
     },
     "execution_count": 77,
     "metadata": {},
     "output_type": "execute_result"
    }
   ],
   "source": [
    "Minority_owned_businesses.head()"
   ]
  },
  {
   "cell_type": "markdown",
   "id": "38974ed4",
   "metadata": {},
   "source": [
    "### Remove commas from dataset"
   ]
  },
  {
   "cell_type": "code",
   "execution_count": 78,
   "id": "0f0fb743",
   "metadata": {},
   "outputs": [],
   "source": [
    "Minority_owned_businesses['Estimated Businesses(2019-2021)'] = pd.to_numeric(Minority_owned_businesses['Estimated Businesses(2019-2021)'].replace({',': ''}, regex=True), errors='coerce')"
   ]
  },
  {
   "cell_type": "code",
   "execution_count": 79,
   "id": "bad4c319",
   "metadata": {},
   "outputs": [
    {
     "data": {
      "text/html": [
       "<div>\n",
       "<style scoped>\n",
       "    .dataframe tbody tr th:only-of-type {\n",
       "        vertical-align: middle;\n",
       "    }\n",
       "\n",
       "    .dataframe tbody tr th {\n",
       "        vertical-align: top;\n",
       "    }\n",
       "\n",
       "    .dataframe thead th {\n",
       "        text-align: right;\n",
       "    }\n",
       "</style>\n",
       "<table border=\"1\" class=\"dataframe\">\n",
       "  <thead>\n",
       "    <tr style=\"text-align: right;\">\n",
       "      <th></th>\n",
       "      <th>Race/ethncity of owner</th>\n",
       "      <th>% businesses total</th>\n",
       "      <th>Average Revenue per employer ($1000)</th>\n",
       "      <th>Covid Survived</th>\n",
       "      <th>Covid Thrived</th>\n",
       "      <th>Estimated Businesses(2017)</th>\n",
       "      <th>Estimated Annual Receipts(2017)</th>\n",
       "      <th>Estimated Businesses(2019-2021)</th>\n",
       "      <th>Estimated Annual Receipts(2019-2021)</th>\n",
       "    </tr>\n",
       "  </thead>\n",
       "  <tbody>\n",
       "    <tr>\n",
       "      <th>0</th>\n",
       "      <td>Black-owned</td>\n",
       "      <td>2</td>\n",
       "      <td>1001</td>\n",
       "      <td>36.2</td>\n",
       "      <td>42.5</td>\n",
       "      <td>4000000.0</td>\n",
       "      <td>1.309000e+11</td>\n",
       "      <td>346836</td>\n",
       "      <td>$463.3 billion</td>\n",
       "    </tr>\n",
       "    <tr>\n",
       "      <th>1</th>\n",
       "      <td>Hispanic-owned</td>\n",
       "      <td>7</td>\n",
       "      <td>1259</td>\n",
       "      <td>23.0</td>\n",
       "      <td>5.0</td>\n",
       "      <td>555638.0</td>\n",
       "      <td>8.148000e+11</td>\n",
       "      <td>581200</td>\n",
       "      <td>$874.6 billion</td>\n",
       "    </tr>\n",
       "    <tr>\n",
       "      <th>2</th>\n",
       "      <td>Asian-owned</td>\n",
       "      <td>11</td>\n",
       "      <td>1374</td>\n",
       "      <td>10.9</td>\n",
       "      <td>25.5</td>\n",
       "      <td>124004.0</td>\n",
       "      <td>1.030000e+06</td>\n",
       "      <td>134567</td>\n",
       "      <td>$133.7 billion</td>\n",
       "    </tr>\n",
       "    <tr>\n",
       "      <th>3</th>\n",
       "      <td>American Indian and Alaska Native-owned</td>\n",
       "      <td>1</td>\n",
       "      <td>221</td>\n",
       "      <td>8.9</td>\n",
       "      <td>0.0</td>\n",
       "      <td>26064.0</td>\n",
       "      <td>NaN</td>\n",
       "      <td>26064</td>\n",
       "      <td>$35.8 billion</td>\n",
       "    </tr>\n",
       "    <tr>\n",
       "      <th>4</th>\n",
       "      <td>Native Hawaiian and Other Pacific Islander-owned</td>\n",
       "      <td>0</td>\n",
       "      <td>55</td>\n",
       "      <td>4.9</td>\n",
       "      <td>0.0</td>\n",
       "      <td>54749.0</td>\n",
       "      <td>8.500000e+09</td>\n",
       "      <td>7331</td>\n",
       "      <td>$8.5 billion</td>\n",
       "    </tr>\n",
       "  </tbody>\n",
       "</table>\n",
       "</div>"
      ],
      "text/plain": [
       "                              Race/ethncity of owner  % businesses total  \\\n",
       "0                                        Black-owned                   2   \n",
       "1                                     Hispanic-owned                   7   \n",
       "2                                        Asian-owned                  11   \n",
       "3            American Indian and Alaska Native-owned                   1   \n",
       "4  Native Hawaiian and Other Pacific Islander-owned                    0   \n",
       "\n",
       "   Average Revenue per employer ($1000)  Covid Survived  Covid Thrived  \\\n",
       "0                                  1001            36.2           42.5   \n",
       "1                                  1259            23.0            5.0   \n",
       "2                                  1374            10.9           25.5   \n",
       "3                                   221             8.9            0.0   \n",
       "4                                    55             4.9            0.0   \n",
       "\n",
       "   Estimated Businesses(2017)  Estimated Annual Receipts(2017)  \\\n",
       "0                   4000000.0                     1.309000e+11   \n",
       "1                    555638.0                     8.148000e+11   \n",
       "2                    124004.0                     1.030000e+06   \n",
       "3                     26064.0                              NaN   \n",
       "4                     54749.0                     8.500000e+09   \n",
       "\n",
       "   Estimated Businesses(2019-2021) Estimated Annual Receipts(2019-2021)  \n",
       "0                           346836                       $463.3 billion  \n",
       "1                           581200                       $874.6 billion  \n",
       "2                           134567                       $133.7 billion  \n",
       "3                            26064                        $35.8 billion  \n",
       "4                             7331                         $8.5 billion  "
      ]
     },
     "execution_count": 79,
     "metadata": {},
     "output_type": "execute_result"
    }
   ],
   "source": [
    "Minority_owned_businesses.head()"
   ]
  },
  {
   "cell_type": "code",
   "execution_count": 80,
   "id": "89632aa5",
   "metadata": {},
   "outputs": [
    {
     "name": "stderr",
     "output_type": "stream",
     "text": [
      "C:\\Python3\\lib\\site-packages\\seaborn\\distributions.py:2619: FutureWarning: `distplot` is a deprecated function and will be removed in a future version. Please adapt your code to use either `displot` (a figure-level function with similar flexibility) or `histplot` (an axes-level function for histograms).\n",
      "  warnings.warn(msg, FutureWarning)\n"
     ]
    },
    {
     "data": {
      "text/plain": [
       "<AxesSubplot:xlabel='Estimated Businesses(2019-2021)', ylabel='Density'>"
      ]
     },
     "execution_count": 80,
     "metadata": {},
     "output_type": "execute_result"
    },
    {
     "data": {
      "image/png": "[encoded data removed]",
      "text/plain": [
       "<Figure size 432x288 with 1 Axes>"
      ]
     },
     "metadata": {
      "needs_background": "light"
     },
     "output_type": "display_data"
    }
   ],
   "source": [
    "sns.distplot(Minority_owned_businesses['Estimated Businesses(2019-2021)'])"
   ]
  },
  {
   "cell_type": "markdown",
   "id": "7dcd9372",
   "metadata": {},
   "source": [
    "## Recode Estimated Annual Receipts(2019-2021) and Create Histogram"
   ]
  },
  {
   "cell_type": "code",
   "execution_count": 81,
   "id": "6bbee403",
   "metadata": {},
   "outputs": [
    {
     "data": {
      "text/html": [
       "<div>\n",
       "<style scoped>\n",
       "    .dataframe tbody tr th:only-of-type {\n",
       "        vertical-align: middle;\n",
       "    }\n",
       "\n",
       "    .dataframe tbody tr th {\n",
       "        vertical-align: top;\n",
       "    }\n",
       "\n",
       "    .dataframe thead th {\n",
       "        text-align: right;\n",
       "    }\n",
       "</style>\n",
       "<table border=\"1\" class=\"dataframe\">\n",
       "  <thead>\n",
       "    <tr style=\"text-align: right;\">\n",
       "      <th></th>\n",
       "      <th>Race/ethncity of owner</th>\n",
       "      <th>% businesses total</th>\n",
       "      <th>Average Revenue per employer ($1000)</th>\n",
       "      <th>Covid Survived</th>\n",
       "      <th>Covid Thrived</th>\n",
       "      <th>Estimated Businesses(2017)</th>\n",
       "      <th>Estimated Annual Receipts(2017)</th>\n",
       "      <th>Estimated Businesses(2019-2021)</th>\n",
       "      <th>Estimated Annual Receipts(2019-2021)</th>\n",
       "    </tr>\n",
       "  </thead>\n",
       "  <tbody>\n",
       "    <tr>\n",
       "      <th>0</th>\n",
       "      <td>Black-owned</td>\n",
       "      <td>2</td>\n",
       "      <td>1001</td>\n",
       "      <td>36.2</td>\n",
       "      <td>42.5</td>\n",
       "      <td>4000000.0</td>\n",
       "      <td>1.309000e+11</td>\n",
       "      <td>346836</td>\n",
       "      <td>$463.3 billion</td>\n",
       "    </tr>\n",
       "    <tr>\n",
       "      <th>1</th>\n",
       "      <td>Hispanic-owned</td>\n",
       "      <td>7</td>\n",
       "      <td>1259</td>\n",
       "      <td>23.0</td>\n",
       "      <td>5.0</td>\n",
       "      <td>555638.0</td>\n",
       "      <td>8.148000e+11</td>\n",
       "      <td>581200</td>\n",
       "      <td>$874.6 billion</td>\n",
       "    </tr>\n",
       "    <tr>\n",
       "      <th>2</th>\n",
       "      <td>Asian-owned</td>\n",
       "      <td>11</td>\n",
       "      <td>1374</td>\n",
       "      <td>10.9</td>\n",
       "      <td>25.5</td>\n",
       "      <td>124004.0</td>\n",
       "      <td>1.030000e+06</td>\n",
       "      <td>134567</td>\n",
       "      <td>$133.7 billion</td>\n",
       "    </tr>\n",
       "    <tr>\n",
       "      <th>3</th>\n",
       "      <td>American Indian and Alaska Native-owned</td>\n",
       "      <td>1</td>\n",
       "      <td>221</td>\n",
       "      <td>8.9</td>\n",
       "      <td>0.0</td>\n",
       "      <td>26064.0</td>\n",
       "      <td>NaN</td>\n",
       "      <td>26064</td>\n",
       "      <td>$35.8 billion</td>\n",
       "    </tr>\n",
       "    <tr>\n",
       "      <th>4</th>\n",
       "      <td>Native Hawaiian and Other Pacific Islander-owned</td>\n",
       "      <td>0</td>\n",
       "      <td>55</td>\n",
       "      <td>4.9</td>\n",
       "      <td>0.0</td>\n",
       "      <td>54749.0</td>\n",
       "      <td>8.500000e+09</td>\n",
       "      <td>7331</td>\n",
       "      <td>$8.5 billion</td>\n",
       "    </tr>\n",
       "  </tbody>\n",
       "</table>\n",
       "</div>"
      ],
      "text/plain": [
       "                              Race/ethncity of owner  % businesses total  \\\n",
       "0                                        Black-owned                   2   \n",
       "1                                     Hispanic-owned                   7   \n",
       "2                                        Asian-owned                  11   \n",
       "3            American Indian and Alaska Native-owned                   1   \n",
       "4  Native Hawaiian and Other Pacific Islander-owned                    0   \n",
       "\n",
       "   Average Revenue per employer ($1000)  Covid Survived  Covid Thrived  \\\n",
       "0                                  1001            36.2           42.5   \n",
       "1                                  1259            23.0            5.0   \n",
       "2                                  1374            10.9           25.5   \n",
       "3                                   221             8.9            0.0   \n",
       "4                                    55             4.9            0.0   \n",
       "\n",
       "   Estimated Businesses(2017)  Estimated Annual Receipts(2017)  \\\n",
       "0                   4000000.0                     1.309000e+11   \n",
       "1                    555638.0                     8.148000e+11   \n",
       "2                    124004.0                     1.030000e+06   \n",
       "3                     26064.0                              NaN   \n",
       "4                     54749.0                     8.500000e+09   \n",
       "\n",
       "   Estimated Businesses(2019-2021) Estimated Annual Receipts(2019-2021)  \n",
       "0                           346836                       $463.3 billion  \n",
       "1                           581200                       $874.6 billion  \n",
       "2                           134567                       $133.7 billion  \n",
       "3                            26064                        $35.8 billion  \n",
       "4                             7331                         $8.5 billion  "
      ]
     },
     "execution_count": 81,
     "metadata": {},
     "output_type": "execute_result"
    }
   ],
   "source": [
    "Minority_owned_businesses.head()"
   ]
  },
  {
   "cell_type": "code",
   "execution_count": 82,
   "id": "797d46e3",
   "metadata": {},
   "outputs": [
    {
     "data": {
      "text/plain": [
       "array(['$463.3 billion', '$874.6 billion', '$133.7 billion',\n",
       "       '$35.8 billion', '$8.5 billion'], dtype=object)"
      ]
     },
     "execution_count": 82,
     "metadata": {},
     "output_type": "execute_result"
    }
   ],
   "source": [
    "Minority_owned_businesses['Estimated Annual Receipts(2019-2021)'].unique()"
   ]
  },
  {
   "cell_type": "code",
   "execution_count": 83,
   "id": "2eb83905",
   "metadata": {},
   "outputs": [],
   "source": [
    "def convert_to_numeric(value):\n",
    "    if isinstance(value, (int, float)):\n",
    "        return float(value)\n",
    "    \n",
    "    value = str(value).replace('$', '').replace(',', '')\n",
    "    if 'billion' in value:\n",
    "        return float(value.replace(' billion', '')) * 1e9\n",
    "    else:\n",
    "        try:\n",
    "            return float(value)\n",
    "        except ValueError:\n",
    "            return np.nan"
   ]
  },
  {
   "cell_type": "code",
   "execution_count": 84,
   "id": "a2a23cbe",
   "metadata": {},
   "outputs": [],
   "source": [
    "Minority_owned_businesses['Estimated Annual Receipts(2019-2021)'] = Minority_owned_businesses['Estimated Annual Receipts(2019-2021)'].apply(convert_to_numeric)"
   ]
  },
  {
   "cell_type": "code",
   "execution_count": 85,
   "id": "8c7c9a95",
   "metadata": {},
   "outputs": [
    {
     "data": {
      "text/html": [
       "<div>\n",
       "<style scoped>\n",
       "    .dataframe tbody tr th:only-of-type {\n",
       "        vertical-align: middle;\n",
       "    }\n",
       "\n",
       "    .dataframe tbody tr th {\n",
       "        vertical-align: top;\n",
       "    }\n",
       "\n",
       "    .dataframe thead th {\n",
       "        text-align: right;\n",
       "    }\n",
       "</style>\n",
       "<table border=\"1\" class=\"dataframe\">\n",
       "  <thead>\n",
       "    <tr style=\"text-align: right;\">\n",
       "      <th></th>\n",
       "      <th>Race/ethncity of owner</th>\n",
       "      <th>% businesses total</th>\n",
       "      <th>Average Revenue per employer ($1000)</th>\n",
       "      <th>Covid Survived</th>\n",
       "      <th>Covid Thrived</th>\n",
       "      <th>Estimated Businesses(2017)</th>\n",
       "      <th>Estimated Annual Receipts(2017)</th>\n",
       "      <th>Estimated Businesses(2019-2021)</th>\n",
       "      <th>Estimated Annual Receipts(2019-2021)</th>\n",
       "    </tr>\n",
       "  </thead>\n",
       "  <tbody>\n",
       "    <tr>\n",
       "      <th>0</th>\n",
       "      <td>Black-owned</td>\n",
       "      <td>2</td>\n",
       "      <td>1001</td>\n",
       "      <td>36.2</td>\n",
       "      <td>42.5</td>\n",
       "      <td>4000000.0</td>\n",
       "      <td>1.309000e+11</td>\n",
       "      <td>346836</td>\n",
       "      <td>4.633000e+11</td>\n",
       "    </tr>\n",
       "    <tr>\n",
       "      <th>1</th>\n",
       "      <td>Hispanic-owned</td>\n",
       "      <td>7</td>\n",
       "      <td>1259</td>\n",
       "      <td>23.0</td>\n",
       "      <td>5.0</td>\n",
       "      <td>555638.0</td>\n",
       "      <td>8.148000e+11</td>\n",
       "      <td>581200</td>\n",
       "      <td>8.746000e+11</td>\n",
       "    </tr>\n",
       "    <tr>\n",
       "      <th>2</th>\n",
       "      <td>Asian-owned</td>\n",
       "      <td>11</td>\n",
       "      <td>1374</td>\n",
       "      <td>10.9</td>\n",
       "      <td>25.5</td>\n",
       "      <td>124004.0</td>\n",
       "      <td>1.030000e+06</td>\n",
       "      <td>134567</td>\n",
       "      <td>1.337000e+11</td>\n",
       "    </tr>\n",
       "    <tr>\n",
       "      <th>3</th>\n",
       "      <td>American Indian and Alaska Native-owned</td>\n",
       "      <td>1</td>\n",
       "      <td>221</td>\n",
       "      <td>8.9</td>\n",
       "      <td>0.0</td>\n",
       "      <td>26064.0</td>\n",
       "      <td>NaN</td>\n",
       "      <td>26064</td>\n",
       "      <td>3.580000e+10</td>\n",
       "    </tr>\n",
       "    <tr>\n",
       "      <th>4</th>\n",
       "      <td>Native Hawaiian and Other Pacific Islander-owned</td>\n",
       "      <td>0</td>\n",
       "      <td>55</td>\n",
       "      <td>4.9</td>\n",
       "      <td>0.0</td>\n",
       "      <td>54749.0</td>\n",
       "      <td>8.500000e+09</td>\n",
       "      <td>7331</td>\n",
       "      <td>8.500000e+09</td>\n",
       "    </tr>\n",
       "  </tbody>\n",
       "</table>\n",
       "</div>"
      ],
      "text/plain": [
       "                              Race/ethncity of owner  % businesses total  \\\n",
       "0                                        Black-owned                   2   \n",
       "1                                     Hispanic-owned                   7   \n",
       "2                                        Asian-owned                  11   \n",
       "3            American Indian and Alaska Native-owned                   1   \n",
       "4  Native Hawaiian and Other Pacific Islander-owned                    0   \n",
       "\n",
       "   Average Revenue per employer ($1000)  Covid Survived  Covid Thrived  \\\n",
       "0                                  1001            36.2           42.5   \n",
       "1                                  1259            23.0            5.0   \n",
       "2                                  1374            10.9           25.5   \n",
       "3                                   221             8.9            0.0   \n",
       "4                                    55             4.9            0.0   \n",
       "\n",
       "   Estimated Businesses(2017)  Estimated Annual Receipts(2017)  \\\n",
       "0                   4000000.0                     1.309000e+11   \n",
       "1                    555638.0                     8.148000e+11   \n",
       "2                    124004.0                     1.030000e+06   \n",
       "3                     26064.0                              NaN   \n",
       "4                     54749.0                     8.500000e+09   \n",
       "\n",
       "   Estimated Businesses(2019-2021)  Estimated Annual Receipts(2019-2021)  \n",
       "0                           346836                          4.633000e+11  \n",
       "1                           581200                          8.746000e+11  \n",
       "2                           134567                          1.337000e+11  \n",
       "3                            26064                          3.580000e+10  \n",
       "4                             7331                          8.500000e+09  "
      ]
     },
     "execution_count": 85,
     "metadata": {},
     "output_type": "execute_result"
    }
   ],
   "source": [
    "Minority_owned_businesses.head()"
   ]
  },
  {
   "cell_type": "code",
   "execution_count": 86,
   "id": "1073dc8f",
   "metadata": {},
   "outputs": [
    {
     "name": "stderr",
     "output_type": "stream",
     "text": [
      "C:\\Python3\\lib\\site-packages\\seaborn\\distributions.py:2619: FutureWarning: `distplot` is a deprecated function and will be removed in a future version. Please adapt your code to use either `displot` (a figure-level function with similar flexibility) or `histplot` (an axes-level function for histograms).\n",
      "  warnings.warn(msg, FutureWarning)\n"
     ]
    },
    {
     "data": {
      "text/plain": [
       "<AxesSubplot:xlabel='Estimated Annual Receipts(2019-2021)', ylabel='Density'>"
      ]
     },
     "execution_count": 86,
     "metadata": {},
     "output_type": "execute_result"
    },
    {
     "data": {
      "image/png": "[encoded data removed]",
      "text/plain": [
       "<Figure size 432x288 with 1 Axes>"
      ]
     },
     "metadata": {
      "needs_background": "light"
     },
     "output_type": "display_data"
    }
   ],
   "source": [
    "sns.distplot(Minority_owned_businesses['Estimated Annual Receipts(2019-2021)'])"
   ]
  },
  {
   "cell_type": "code",
   "execution_count": 87,
   "id": "d05415e6",
   "metadata": {},
   "outputs": [
    {
     "data": {
      "text/plain": [
       "array([[<AxesSubplot:title={'center':'% businesses total'}>,\n",
       "        <AxesSubplot:title={'center':'Average Revenue per employer ($1000)'}>,\n",
       "        <AxesSubplot:title={'center':'Covid Survived'}>],\n",
       "       [<AxesSubplot:title={'center':'Covid Thrived'}>,\n",
       "        <AxesSubplot:title={'center':'Estimated Businesses(2017)'}>,\n",
       "        <AxesSubplot:title={'center':'Estimated Annual Receipts(2017)'}>],\n",
       "       [<AxesSubplot:title={'center':'Estimated Businesses(2019-2021)'}>,\n",
       "        <AxesSubplot:title={'center':'Estimated Annual Receipts(2019-2021)'}>,\n",
       "        <AxesSubplot:>]], dtype=object)"
      ]
     },
     "execution_count": 87,
     "metadata": {},
     "output_type": "execute_result"
    },
    {
     "data": {
      "image/png": "[encoded data removed]",
      "text/plain": [
       "<Figure size 432x288 with 9 Axes>"
      ]
     },
     "metadata": {
      "needs_background": "light"
     },
     "output_type": "display_data"
    }
   ],
   "source": [
    "Minority_owned_businesses.hist()"
   ]
  },
  {
   "cell_type": "code",
   "execution_count": 88,
   "id": "e1f822f1",
   "metadata": {},
   "outputs": [
    {
     "data": {
      "text/plain": [
       "<seaborn.axisgrid.PairGrid at 0x208f8a8b850>"
      ]
     },
     "execution_count": 88,
     "metadata": {},
     "output_type": "execute_result"
    },
    {
     "data": {
      "image/png": "[encoded data removed]",
      "text/plain": [
       "<Figure size 1440x1440 with 72 Axes>"
      ]
     },
     "metadata": {
      "needs_background": "light"
     },
     "output_type": "display_data"
    }
   ],
   "source": [
    "sns.pairplot(Minority_owned_businesses)"
   ]
  },
  {
   "cell_type": "markdown",
   "id": "0d64e4a8",
   "metadata": {},
   "source": [
    "### Create Labels later"
   ]
  },
  {
   "cell_type": "markdown",
   "id": "f99a6c23",
   "metadata": {},
   "source": [
    "# Create Graphs to use in Powerpoint."
   ]
  },
  {
   "cell_type": "code",
   "execution_count": 89,
   "id": "4afbdde6",
   "metadata": {
    "scrolled": true
   },
   "outputs": [
    {
     "data": {
      "text/html": [
       "<div>\n",
       "<style scoped>\n",
       "    .dataframe tbody tr th:only-of-type {\n",
       "        vertical-align: middle;\n",
       "    }\n",
       "\n",
       "    .dataframe tbody tr th {\n",
       "        vertical-align: top;\n",
       "    }\n",
       "\n",
       "    .dataframe thead th {\n",
       "        text-align: right;\n",
       "    }\n",
       "</style>\n",
       "<table border=\"1\" class=\"dataframe\">\n",
       "  <thead>\n",
       "    <tr style=\"text-align: right;\">\n",
       "      <th></th>\n",
       "      <th>Race/ethncity of owner</th>\n",
       "      <th>% businesses total</th>\n",
       "      <th>Average Revenue per employer ($1000)</th>\n",
       "      <th>Covid Survived</th>\n",
       "      <th>Covid Thrived</th>\n",
       "      <th>Estimated Businesses(2017)</th>\n",
       "      <th>Estimated Annual Receipts(2017)</th>\n",
       "      <th>Estimated Businesses(2019-2021)</th>\n",
       "      <th>Estimated Annual Receipts(2019-2021)</th>\n",
       "    </tr>\n",
       "  </thead>\n",
       "  <tbody>\n",
       "    <tr>\n",
       "      <th>0</th>\n",
       "      <td>Black-owned</td>\n",
       "      <td>2</td>\n",
       "      <td>1001</td>\n",
       "      <td>36.2</td>\n",
       "      <td>42.5</td>\n",
       "      <td>4000000.0</td>\n",
       "      <td>1.309000e+11</td>\n",
       "      <td>346836</td>\n",
       "      <td>4.633000e+11</td>\n",
       "    </tr>\n",
       "    <tr>\n",
       "      <th>1</th>\n",
       "      <td>Hispanic-owned</td>\n",
       "      <td>7</td>\n",
       "      <td>1259</td>\n",
       "      <td>23.0</td>\n",
       "      <td>5.0</td>\n",
       "      <td>555638.0</td>\n",
       "      <td>8.148000e+11</td>\n",
       "      <td>581200</td>\n",
       "      <td>8.746000e+11</td>\n",
       "    </tr>\n",
       "    <tr>\n",
       "      <th>2</th>\n",
       "      <td>Asian-owned</td>\n",
       "      <td>11</td>\n",
       "      <td>1374</td>\n",
       "      <td>10.9</td>\n",
       "      <td>25.5</td>\n",
       "      <td>124004.0</td>\n",
       "      <td>1.030000e+06</td>\n",
       "      <td>134567</td>\n",
       "      <td>1.337000e+11</td>\n",
       "    </tr>\n",
       "    <tr>\n",
       "      <th>3</th>\n",
       "      <td>American Indian and Alaska Native-owned</td>\n",
       "      <td>1</td>\n",
       "      <td>221</td>\n",
       "      <td>8.9</td>\n",
       "      <td>0.0</td>\n",
       "      <td>26064.0</td>\n",
       "      <td>NaN</td>\n",
       "      <td>26064</td>\n",
       "      <td>3.580000e+10</td>\n",
       "    </tr>\n",
       "    <tr>\n",
       "      <th>4</th>\n",
       "      <td>Native Hawaiian and Other Pacific Islander-owned</td>\n",
       "      <td>0</td>\n",
       "      <td>55</td>\n",
       "      <td>4.9</td>\n",
       "      <td>0.0</td>\n",
       "      <td>54749.0</td>\n",
       "      <td>8.500000e+09</td>\n",
       "      <td>7331</td>\n",
       "      <td>8.500000e+09</td>\n",
       "    </tr>\n",
       "  </tbody>\n",
       "</table>\n",
       "</div>"
      ],
      "text/plain": [
       "                              Race/ethncity of owner  % businesses total  \\\n",
       "0                                        Black-owned                   2   \n",
       "1                                     Hispanic-owned                   7   \n",
       "2                                        Asian-owned                  11   \n",
       "3            American Indian and Alaska Native-owned                   1   \n",
       "4  Native Hawaiian and Other Pacific Islander-owned                    0   \n",
       "\n",
       "   Average Revenue per employer ($1000)  Covid Survived  Covid Thrived  \\\n",
       "0                                  1001            36.2           42.5   \n",
       "1                                  1259            23.0            5.0   \n",
       "2                                  1374            10.9           25.5   \n",
       "3                                   221             8.9            0.0   \n",
       "4                                    55             4.9            0.0   \n",
       "\n",
       "   Estimated Businesses(2017)  Estimated Annual Receipts(2017)  \\\n",
       "0                   4000000.0                     1.309000e+11   \n",
       "1                    555638.0                     8.148000e+11   \n",
       "2                    124004.0                     1.030000e+06   \n",
       "3                     26064.0                              NaN   \n",
       "4                     54749.0                     8.500000e+09   \n",
       "\n",
       "   Estimated Businesses(2019-2021)  Estimated Annual Receipts(2019-2021)  \n",
       "0                           346836                          4.633000e+11  \n",
       "1                           581200                          8.746000e+11  \n",
       "2                           134567                          1.337000e+11  \n",
       "3                            26064                          3.580000e+10  \n",
       "4                             7331                          8.500000e+09  "
      ]
     },
     "execution_count": 89,
     "metadata": {},
     "output_type": "execute_result"
    }
   ],
   "source": [
    "Minority_owned_businesses.head()"
   ]
  },
  {
   "cell_type": "markdown",
   "id": "99d41874",
   "metadata": {},
   "source": [
    "# Bar Graph for % Businesses total 2020"
   ]
  },
  {
   "cell_type": "code",
   "execution_count": 90,
   "id": "2435e07d",
   "metadata": {},
   "outputs": [],
   "source": [
    "Minority_owned_businessdf = {\n",
    "    'Race/ethncity of owner': ['Black-owned', 'Hispanic-owned', 'Asian-owned', 'American Indian and Alaska Native-owned', 'Native Hawaiian and Other Pacific Islander-owned'],\n",
    "    '% businesses total': [2, 7, 11, 1, 0]\n",
    "}"
   ]
  },
  {
   "cell_type": "code",
   "execution_count": 91,
   "id": "cbba861f",
   "metadata": {},
   "outputs": [],
   "source": [
    "Businesses_Percentage = pd.DataFrame(Minority_owned_businessdf)"
   ]
  },
  {
   "cell_type": "code",
   "execution_count": 92,
   "id": "b1e486a7",
   "metadata": {
    "scrolled": false
   },
   "outputs": [
    {
     "data": {
      "text/html": [
       "<div>\n",
       "<style scoped>\n",
       "    .dataframe tbody tr th:only-of-type {\n",
       "        vertical-align: middle;\n",
       "    }\n",
       "\n",
       "    .dataframe tbody tr th {\n",
       "        vertical-align: top;\n",
       "    }\n",
       "\n",
       "    .dataframe thead th {\n",
       "        text-align: right;\n",
       "    }\n",
       "</style>\n",
       "<table border=\"1\" class=\"dataframe\">\n",
       "  <thead>\n",
       "    <tr style=\"text-align: right;\">\n",
       "      <th></th>\n",
       "      <th>Race/ethncity of owner</th>\n",
       "      <th>% businesses total</th>\n",
       "    </tr>\n",
       "  </thead>\n",
       "  <tbody>\n",
       "    <tr>\n",
       "      <th>0</th>\n",
       "      <td>Black-owned</td>\n",
       "      <td>2</td>\n",
       "    </tr>\n",
       "    <tr>\n",
       "      <th>1</th>\n",
       "      <td>Hispanic-owned</td>\n",
       "      <td>7</td>\n",
       "    </tr>\n",
       "    <tr>\n",
       "      <th>2</th>\n",
       "      <td>Asian-owned</td>\n",
       "      <td>11</td>\n",
       "    </tr>\n",
       "    <tr>\n",
       "      <th>3</th>\n",
       "      <td>American Indian and Alaska Native-owned</td>\n",
       "      <td>1</td>\n",
       "    </tr>\n",
       "    <tr>\n",
       "      <th>4</th>\n",
       "      <td>Native Hawaiian and Other Pacific Islander-owned</td>\n",
       "      <td>0</td>\n",
       "    </tr>\n",
       "  </tbody>\n",
       "</table>\n",
       "</div>"
      ],
      "text/plain": [
       "                             Race/ethncity of owner  % businesses total\n",
       "0                                       Black-owned                   2\n",
       "1                                    Hispanic-owned                   7\n",
       "2                                       Asian-owned                  11\n",
       "3           American Indian and Alaska Native-owned                   1\n",
       "4  Native Hawaiian and Other Pacific Islander-owned                   0"
      ]
     },
     "execution_count": 92,
     "metadata": {},
     "output_type": "execute_result"
    }
   ],
   "source": [
    "Businesses_Percentage.head()"
   ]
  },
  {
   "cell_type": "code",
   "execution_count": 93,
   "id": "c3074c76",
   "metadata": {
    "scrolled": false
   },
   "outputs": [
    {
     "data": {
      "text/plain": [
       "Text(0.5, 1.0, 'Minority-Owned total % of Businesses')"
      ]
     },
     "execution_count": 93,
     "metadata": {},
     "output_type": "execute_result"
    },
    {
     "data": {
      "image/png": "[encoded data removed]",
      "text/plain": [
       "<Figure size 432x288 with 1 Axes>"
      ]
     },
     "metadata": {
      "needs_background": "light"
     },
     "output_type": "display_data"
    }
   ],
   "source": [
    "plt.bar(Businesses_Percentage['Race/ethncity of owner'], Businesses_Percentage['% businesses total'])\n",
    "plt.xlabel('Race/ethncity of owner')\n",
    "plt.ylabel('% businesses total')\n",
    "plt.title('Minority-Owned total % of Businesses')"
   ]
  },
  {
   "cell_type": "code",
   "execution_count": 94,
   "id": "70636a92",
   "metadata": {
    "scrolled": true
   },
   "outputs": [
    {
     "data": {
      "text/html": [
       "<div>\n",
       "<style scoped>\n",
       "    .dataframe tbody tr th:only-of-type {\n",
       "        vertical-align: middle;\n",
       "    }\n",
       "\n",
       "    .dataframe tbody tr th {\n",
       "        vertical-align: top;\n",
       "    }\n",
       "\n",
       "    .dataframe thead th {\n",
       "        text-align: right;\n",
       "    }\n",
       "</style>\n",
       "<table border=\"1\" class=\"dataframe\">\n",
       "  <thead>\n",
       "    <tr style=\"text-align: right;\">\n",
       "      <th></th>\n",
       "      <th>Race/ethncity of owner</th>\n",
       "      <th>% businesses total</th>\n",
       "      <th>Average Revenue per employer ($1000)</th>\n",
       "      <th>Covid Survived</th>\n",
       "      <th>Covid Thrived</th>\n",
       "      <th>Estimated Businesses(2017)</th>\n",
       "      <th>Estimated Annual Receipts(2017)</th>\n",
       "      <th>Estimated Businesses(2019-2021)</th>\n",
       "      <th>Estimated Annual Receipts(2019-2021)</th>\n",
       "    </tr>\n",
       "  </thead>\n",
       "  <tbody>\n",
       "    <tr>\n",
       "      <th>0</th>\n",
       "      <td>Black-owned</td>\n",
       "      <td>2</td>\n",
       "      <td>1001</td>\n",
       "      <td>36.2</td>\n",
       "      <td>42.5</td>\n",
       "      <td>4000000.0</td>\n",
       "      <td>1.309000e+11</td>\n",
       "      <td>346836</td>\n",
       "      <td>4.633000e+11</td>\n",
       "    </tr>\n",
       "    <tr>\n",
       "      <th>1</th>\n",
       "      <td>Hispanic-owned</td>\n",
       "      <td>7</td>\n",
       "      <td>1259</td>\n",
       "      <td>23.0</td>\n",
       "      <td>5.0</td>\n",
       "      <td>555638.0</td>\n",
       "      <td>8.148000e+11</td>\n",
       "      <td>581200</td>\n",
       "      <td>8.746000e+11</td>\n",
       "    </tr>\n",
       "    <tr>\n",
       "      <th>2</th>\n",
       "      <td>Asian-owned</td>\n",
       "      <td>11</td>\n",
       "      <td>1374</td>\n",
       "      <td>10.9</td>\n",
       "      <td>25.5</td>\n",
       "      <td>124004.0</td>\n",
       "      <td>1.030000e+06</td>\n",
       "      <td>134567</td>\n",
       "      <td>1.337000e+11</td>\n",
       "    </tr>\n",
       "    <tr>\n",
       "      <th>3</th>\n",
       "      <td>American Indian and Alaska Native-owned</td>\n",
       "      <td>1</td>\n",
       "      <td>221</td>\n",
       "      <td>8.9</td>\n",
       "      <td>0.0</td>\n",
       "      <td>26064.0</td>\n",
       "      <td>NaN</td>\n",
       "      <td>26064</td>\n",
       "      <td>3.580000e+10</td>\n",
       "    </tr>\n",
       "    <tr>\n",
       "      <th>4</th>\n",
       "      <td>Native Hawaiian and Other Pacific Islander-owned</td>\n",
       "      <td>0</td>\n",
       "      <td>55</td>\n",
       "      <td>4.9</td>\n",
       "      <td>0.0</td>\n",
       "      <td>54749.0</td>\n",
       "      <td>8.500000e+09</td>\n",
       "      <td>7331</td>\n",
       "      <td>8.500000e+09</td>\n",
       "    </tr>\n",
       "  </tbody>\n",
       "</table>\n",
       "</div>"
      ],
      "text/plain": [
       "                              Race/ethncity of owner  % businesses total  \\\n",
       "0                                        Black-owned                   2   \n",
       "1                                     Hispanic-owned                   7   \n",
       "2                                        Asian-owned                  11   \n",
       "3            American Indian and Alaska Native-owned                   1   \n",
       "4  Native Hawaiian and Other Pacific Islander-owned                    0   \n",
       "\n",
       "   Average Revenue per employer ($1000)  Covid Survived  Covid Thrived  \\\n",
       "0                                  1001            36.2           42.5   \n",
       "1                                  1259            23.0            5.0   \n",
       "2                                  1374            10.9           25.5   \n",
       "3                                   221             8.9            0.0   \n",
       "4                                    55             4.9            0.0   \n",
       "\n",
       "   Estimated Businesses(2017)  Estimated Annual Receipts(2017)  \\\n",
       "0                   4000000.0                     1.309000e+11   \n",
       "1                    555638.0                     8.148000e+11   \n",
       "2                    124004.0                     1.030000e+06   \n",
       "3                     26064.0                              NaN   \n",
       "4                     54749.0                     8.500000e+09   \n",
       "\n",
       "   Estimated Businesses(2019-2021)  Estimated Annual Receipts(2019-2021)  \n",
       "0                           346836                          4.633000e+11  \n",
       "1                           581200                          8.746000e+11  \n",
       "2                           134567                          1.337000e+11  \n",
       "3                            26064                          3.580000e+10  \n",
       "4                             7331                          8.500000e+09  "
      ]
     },
     "execution_count": 94,
     "metadata": {},
     "output_type": "execute_result"
    }
   ],
   "source": [
    "Minority_owned_businesses.head()"
   ]
  },
  {
   "cell_type": "markdown",
   "id": "66225392",
   "metadata": {},
   "source": [
    "# Bar Graph comparing Estimated Businesses from 2017 to 2021"
   ]
  },
  {
   "cell_type": "code",
   "execution_count": 133,
   "id": "d60eb62f",
   "metadata": {},
   "outputs": [
    {
     "data": {
      "text/plain": [
       "<matplotlib.legend.Legend at 0x208854cf130>"
      ]
     },
     "execution_count": 133,
     "metadata": {},
     "output_type": "execute_result"
    },
    {
     "data": {
      "image/png": "[encoded data removed]",
      "text/plain": [
       "<Figure size 720x4320 with 1 Axes>"
      ]
     },
     "metadata": {},
     "output_type": "display_data"
    }
   ],
   "source": [
    "categories = ['Black-owned', 'Hispanic-owned', 'Asian-owned', 'American Indian and Alaska Native-owned', 'Native Hawaiian and Other Pacific Islander-owned']\n",
    "data_set1 = [4000000, 555638, 124004, 26064, 54749]\n",
    "data_set2 = [346836, 581200, 134567, 26064, 7331]\n",
    "x = np.arange(len(categories))\n",
    "width = 0.35\n",
    "plt.bar(x - width/2, data_set1, width, label='Estimated Businesses(2017)')\n",
    "plt.bar(x + width/2, data_set2, width, label='Estimated Businesses(2019-2021)')\n",
    "plt.xlabel('Race/ethncity of owner')\n",
    "plt.ylabel('Estimated Businesses(2017-2021)')\n",
    "plt.title('Estimated Businesses')\n",
    "plt.xticks(x, categories)\n",
    "plt.legend()"
   ]
  },
  {
   "cell_type": "markdown",
   "id": "8e2d6049",
   "metadata": {},
   "source": [
    "## Smaller bar graph"
   ]
  },
  {
   "cell_type": "code",
   "execution_count": 120,
   "id": "d328208e",
   "metadata": {
    "scrolled": true
   },
   "outputs": [
    {
     "data": {
      "image/png": "[encoded data removed]",
      "text/plain": [
       "<Figure size 720x4320 with 1 Axes>"
      ]
     },
     "metadata": {},
     "output_type": "display_data"
    }
   ],
   "source": [
    "bar_width = 0.5\n",
    "index = np.arange(len(Minority_owned_businesses))\n",
    "plt.bar(index, Minority_owned_businesses['Estimated Annual Receipts(2017)'], bar_width, label='2017')\n",
    "plt.bar(index + bar_width, Minority_owned_businesses['Estimated Annual Receipts(2019-2021)'], bar_width, label='2019-2021')\n",
    "plt.xlabel('Race/ethnicity of owner')\n",
    "plt.ylabel('Annual Receipts')\n",
    "plt.title('Minority-Owned Businesses Annual Receipts by Year')\n",
    "plt.xticks(index + bar_width / 2, Minority_owned_businesses['Race/ethncity of owner'], rotation=45)\n",
    "plt.legend()\n",
    "plt.tight_layout()\n",
    "plt.show()"
   ]
  },
  {
   "cell_type": "markdown",
   "id": "5aca007a",
   "metadata": {},
   "source": [
    "# Bar Graph comparing Covid Survived and Covid Thrived for 2019-2020"
   ]
  },
  {
   "cell_type": "code",
   "execution_count": 121,
   "id": "1415198c",
   "metadata": {},
   "outputs": [
    {
     "data": {
      "text/html": [
       "<div>\n",
       "<style scoped>\n",
       "    .dataframe tbody tr th:only-of-type {\n",
       "        vertical-align: middle;\n",
       "    }\n",
       "\n",
       "    .dataframe tbody tr th {\n",
       "        vertical-align: top;\n",
       "    }\n",
       "\n",
       "    .dataframe thead th {\n",
       "        text-align: right;\n",
       "    }\n",
       "</style>\n",
       "<table border=\"1\" class=\"dataframe\">\n",
       "  <thead>\n",
       "    <tr style=\"text-align: right;\">\n",
       "      <th></th>\n",
       "      <th>Race/ethncity of owner</th>\n",
       "      <th>% businesses total</th>\n",
       "      <th>Average Revenue per employer ($1000)</th>\n",
       "      <th>Covid Survived</th>\n",
       "      <th>Covid Thrived</th>\n",
       "      <th>Estimated Businesses(2017)</th>\n",
       "      <th>Estimated Annual Receipts(2017)</th>\n",
       "      <th>Estimated Businesses(2019-2021)</th>\n",
       "      <th>Estimated Annual Receipts(2019-2021)</th>\n",
       "      <th>total</th>\n",
       "    </tr>\n",
       "  </thead>\n",
       "  <tbody>\n",
       "    <tr>\n",
       "      <th>0</th>\n",
       "      <td>Black-owned</td>\n",
       "      <td>2</td>\n",
       "      <td>1001</td>\n",
       "      <td>36.2</td>\n",
       "      <td>42.5</td>\n",
       "      <td>4000000.0</td>\n",
       "      <td>1.309000e+11</td>\n",
       "      <td>346836</td>\n",
       "      <td>4.633000e+11</td>\n",
       "      <td>1.309003e+11</td>\n",
       "    </tr>\n",
       "    <tr>\n",
       "      <th>1</th>\n",
       "      <td>Hispanic-owned</td>\n",
       "      <td>7</td>\n",
       "      <td>1259</td>\n",
       "      <td>23.0</td>\n",
       "      <td>5.0</td>\n",
       "      <td>555638.0</td>\n",
       "      <td>8.148000e+11</td>\n",
       "      <td>581200</td>\n",
       "      <td>8.746000e+11</td>\n",
       "      <td>8.148006e+11</td>\n",
       "    </tr>\n",
       "    <tr>\n",
       "      <th>2</th>\n",
       "      <td>Asian-owned</td>\n",
       "      <td>11</td>\n",
       "      <td>1374</td>\n",
       "      <td>10.9</td>\n",
       "      <td>25.5</td>\n",
       "      <td>124004.0</td>\n",
       "      <td>1.030000e+06</td>\n",
       "      <td>134567</td>\n",
       "      <td>1.337000e+11</td>\n",
       "      <td>1.164567e+06</td>\n",
       "    </tr>\n",
       "    <tr>\n",
       "      <th>3</th>\n",
       "      <td>American Indian and Alaska Native-owned</td>\n",
       "      <td>1</td>\n",
       "      <td>221</td>\n",
       "      <td>8.9</td>\n",
       "      <td>0.0</td>\n",
       "      <td>26064.0</td>\n",
       "      <td>NaN</td>\n",
       "      <td>26064</td>\n",
       "      <td>3.580000e+10</td>\n",
       "      <td>NaN</td>\n",
       "    </tr>\n",
       "    <tr>\n",
       "      <th>4</th>\n",
       "      <td>Native Hawaiian and Other Pacific Islander-owned</td>\n",
       "      <td>0</td>\n",
       "      <td>55</td>\n",
       "      <td>4.9</td>\n",
       "      <td>0.0</td>\n",
       "      <td>54749.0</td>\n",
       "      <td>8.500000e+09</td>\n",
       "      <td>7331</td>\n",
       "      <td>8.500000e+09</td>\n",
       "      <td>8.500007e+09</td>\n",
       "    </tr>\n",
       "  </tbody>\n",
       "</table>\n",
       "</div>"
      ],
      "text/plain": [
       "                              Race/ethncity of owner  % businesses total  \\\n",
       "0                                        Black-owned                   2   \n",
       "1                                     Hispanic-owned                   7   \n",
       "2                                        Asian-owned                  11   \n",
       "3            American Indian and Alaska Native-owned                   1   \n",
       "4  Native Hawaiian and Other Pacific Islander-owned                    0   \n",
       "\n",
       "   Average Revenue per employer ($1000)  Covid Survived  Covid Thrived  \\\n",
       "0                                  1001            36.2           42.5   \n",
       "1                                  1259            23.0            5.0   \n",
       "2                                  1374            10.9           25.5   \n",
       "3                                   221             8.9            0.0   \n",
       "4                                    55             4.9            0.0   \n",
       "\n",
       "   Estimated Businesses(2017)  Estimated Annual Receipts(2017)  \\\n",
       "0                   4000000.0                     1.309000e+11   \n",
       "1                    555638.0                     8.148000e+11   \n",
       "2                    124004.0                     1.030000e+06   \n",
       "3                     26064.0                              NaN   \n",
       "4                     54749.0                     8.500000e+09   \n",
       "\n",
       "   Estimated Businesses(2019-2021)  Estimated Annual Receipts(2019-2021)  \\\n",
       "0                           346836                          4.633000e+11   \n",
       "1                           581200                          8.746000e+11   \n",
       "2                           134567                          1.337000e+11   \n",
       "3                            26064                          3.580000e+10   \n",
       "4                             7331                          8.500000e+09   \n",
       "\n",
       "          total  \n",
       "0  1.309003e+11  \n",
       "1  8.148006e+11  \n",
       "2  1.164567e+06  \n",
       "3           NaN  \n",
       "4  8.500007e+09  "
      ]
     },
     "execution_count": 121,
     "metadata": {},
     "output_type": "execute_result"
    }
   ],
   "source": [
    "Minority_owned_businesses.head()"
   ]
  },
  {
   "cell_type": "code",
   "execution_count": 124,
   "id": "feb97ae0",
   "metadata": {},
   "outputs": [
    {
     "data": {
      "text/plain": [
       "<matplotlib.legend.Legend at 0x20884ae7a60>"
      ]
     },
     "execution_count": 124,
     "metadata": {},
     "output_type": "execute_result"
    },
    {
     "data": {
      "image/png": "[encoded data removed]",
      "text/plain": [
       "<Figure size 720x4320 with 1 Axes>"
      ]
     },
     "metadata": {},
     "output_type": "display_data"
    }
   ],
   "source": [
    "categories = ['Black-owned', 'Hispanic-owned', 'Asian-owned', 'American Indian and Alaska Native-owned', 'Native Hawaiian and Other Pacific Islander-owned']\n",
    "data_set1 = [36.2, 23, 10.9, 8.9, 4.9]\n",
    "data_set2 = [42.5, 5, 25.5, 0, 0]\n",
    "x = np.arange(len(categories))\n",
    "width = 0.35\n",
    "plt.bar(x - width/2, data_set1, width, label='Covid Survived')\n",
    "plt.bar(x + width/2, data_set2, width, label='Covid Thrived')\n",
    "plt.xlabel('Race/ethncity of owner')\n",
    "plt.ylabel('Covid Survival (%)')\n",
    "plt.title('Covid Survival rate 2019-2020')\n",
    "plt.xticks(x, categories)\n",
    "plt.legend()"
   ]
  },
  {
   "cell_type": "markdown",
   "id": "cabb4df7",
   "metadata": {},
   "source": [
    "# Bar Graph Comparing Estimated Annual Receipts from 2017 to 2021"
   ]
  },
  {
   "cell_type": "code",
   "execution_count": 125,
   "id": "18b97225",
   "metadata": {},
   "outputs": [
    {
     "data": {
      "text/html": [
       "<div>\n",
       "<style scoped>\n",
       "    .dataframe tbody tr th:only-of-type {\n",
       "        vertical-align: middle;\n",
       "    }\n",
       "\n",
       "    .dataframe tbody tr th {\n",
       "        vertical-align: top;\n",
       "    }\n",
       "\n",
       "    .dataframe thead th {\n",
       "        text-align: right;\n",
       "    }\n",
       "</style>\n",
       "<table border=\"1\" class=\"dataframe\">\n",
       "  <thead>\n",
       "    <tr style=\"text-align: right;\">\n",
       "      <th></th>\n",
       "      <th>Race/ethncity of owner</th>\n",
       "      <th>% businesses total</th>\n",
       "      <th>Average Revenue per employer ($1000)</th>\n",
       "      <th>Covid Survived</th>\n",
       "      <th>Covid Thrived</th>\n",
       "      <th>Estimated Businesses(2017)</th>\n",
       "      <th>Estimated Annual Receipts(2017)</th>\n",
       "      <th>Estimated Businesses(2019-2021)</th>\n",
       "      <th>Estimated Annual Receipts(2019-2021)</th>\n",
       "      <th>total</th>\n",
       "    </tr>\n",
       "  </thead>\n",
       "  <tbody>\n",
       "    <tr>\n",
       "      <th>0</th>\n",
       "      <td>Black-owned</td>\n",
       "      <td>2</td>\n",
       "      <td>1001</td>\n",
       "      <td>36.2</td>\n",
       "      <td>42.5</td>\n",
       "      <td>4000000.0</td>\n",
       "      <td>1.309000e+11</td>\n",
       "      <td>346836</td>\n",
       "      <td>4.633000e+11</td>\n",
       "      <td>1.309003e+11</td>\n",
       "    </tr>\n",
       "    <tr>\n",
       "      <th>1</th>\n",
       "      <td>Hispanic-owned</td>\n",
       "      <td>7</td>\n",
       "      <td>1259</td>\n",
       "      <td>23.0</td>\n",
       "      <td>5.0</td>\n",
       "      <td>555638.0</td>\n",
       "      <td>8.148000e+11</td>\n",
       "      <td>581200</td>\n",
       "      <td>8.746000e+11</td>\n",
       "      <td>8.148006e+11</td>\n",
       "    </tr>\n",
       "    <tr>\n",
       "      <th>2</th>\n",
       "      <td>Asian-owned</td>\n",
       "      <td>11</td>\n",
       "      <td>1374</td>\n",
       "      <td>10.9</td>\n",
       "      <td>25.5</td>\n",
       "      <td>124004.0</td>\n",
       "      <td>1.030000e+06</td>\n",
       "      <td>134567</td>\n",
       "      <td>1.337000e+11</td>\n",
       "      <td>1.164567e+06</td>\n",
       "    </tr>\n",
       "    <tr>\n",
       "      <th>3</th>\n",
       "      <td>American Indian and Alaska Native-owned</td>\n",
       "      <td>1</td>\n",
       "      <td>221</td>\n",
       "      <td>8.9</td>\n",
       "      <td>0.0</td>\n",
       "      <td>26064.0</td>\n",
       "      <td>NaN</td>\n",
       "      <td>26064</td>\n",
       "      <td>3.580000e+10</td>\n",
       "      <td>NaN</td>\n",
       "    </tr>\n",
       "    <tr>\n",
       "      <th>4</th>\n",
       "      <td>Native Hawaiian and Other Pacific Islander-owned</td>\n",
       "      <td>0</td>\n",
       "      <td>55</td>\n",
       "      <td>4.9</td>\n",
       "      <td>0.0</td>\n",
       "      <td>54749.0</td>\n",
       "      <td>8.500000e+09</td>\n",
       "      <td>7331</td>\n",
       "      <td>8.500000e+09</td>\n",
       "      <td>8.500007e+09</td>\n",
       "    </tr>\n",
       "  </tbody>\n",
       "</table>\n",
       "</div>"
      ],
      "text/plain": [
       "                              Race/ethncity of owner  % businesses total  \\\n",
       "0                                        Black-owned                   2   \n",
       "1                                     Hispanic-owned                   7   \n",
       "2                                        Asian-owned                  11   \n",
       "3            American Indian and Alaska Native-owned                   1   \n",
       "4  Native Hawaiian and Other Pacific Islander-owned                    0   \n",
       "\n",
       "   Average Revenue per employer ($1000)  Covid Survived  Covid Thrived  \\\n",
       "0                                  1001            36.2           42.5   \n",
       "1                                  1259            23.0            5.0   \n",
       "2                                  1374            10.9           25.5   \n",
       "3                                   221             8.9            0.0   \n",
       "4                                    55             4.9            0.0   \n",
       "\n",
       "   Estimated Businesses(2017)  Estimated Annual Receipts(2017)  \\\n",
       "0                   4000000.0                     1.309000e+11   \n",
       "1                    555638.0                     8.148000e+11   \n",
       "2                    124004.0                     1.030000e+06   \n",
       "3                     26064.0                              NaN   \n",
       "4                     54749.0                     8.500000e+09   \n",
       "\n",
       "   Estimated Businesses(2019-2021)  Estimated Annual Receipts(2019-2021)  \\\n",
       "0                           346836                          4.633000e+11   \n",
       "1                           581200                          8.746000e+11   \n",
       "2                           134567                          1.337000e+11   \n",
       "3                            26064                          3.580000e+10   \n",
       "4                             7331                          8.500000e+09   \n",
       "\n",
       "          total  \n",
       "0  1.309003e+11  \n",
       "1  8.148006e+11  \n",
       "2  1.164567e+06  \n",
       "3           NaN  \n",
       "4  8.500007e+09  "
      ]
     },
     "execution_count": 125,
     "metadata": {},
     "output_type": "execute_result"
    }
   ],
   "source": [
    "Minority_owned_businesses.head()"
   ]
  },
  {
   "cell_type": "code",
   "execution_count": 130,
   "id": "d8b2fc49",
   "metadata": {},
   "outputs": [
    {
     "data": {
      "text/plain": [
       "<matplotlib.legend.Legend at 0x208867333a0>"
      ]
     },
     "execution_count": 130,
     "metadata": {},
     "output_type": "execute_result"
    },
    {
     "data": {
      "image/png": "[encoded data removed]",
      "text/plain": [
       "<Figure size 720x4320 with 1 Axes>"
      ]
     },
     "metadata": {},
     "output_type": "display_data"
    }
   ],
   "source": [
    "categories = ['Black-owned', 'Hispanic-owned', 'Asian-owned', 'American Indian and Alaska Native-owned', 'Native Hawaiian and Other Pacific Islander-owned']\n",
    "data_set1 = [1.30900000000000000, 8.14800000000000000, 1.030000000000, 0, 8.500000000000000]\n",
    "data_set2 = [4.63300000000000000, 8.7600000000000000, 1.33700000000000000, 3.5800000000000000, 8.00000000000000]\n",
    "x = np.arange(len(categories))\n",
    "width = 0.4\n",
    "plt.bar(x - width/2, data_set1, width, label='Estimated Annual Receipts(2017)')\n",
    "plt.bar(x + width/2, data_set2, width, label='Estimated Annual Receipts(2019-2021)')\n",
    "plt.xlabel('Race/ethncity of owner')\n",
    "plt.ylabel('Estimated Annual Receipts(2017-2021)')\n",
    "plt.title('Estimated Annual Receipts')\n",
    "plt.xticks(x, categories)\n",
    "plt.legend()"
   ]
  },
  {
   "cell_type": "code",
   "execution_count": null,
   "id": "fc74f212",
   "metadata": {},
   "outputs": [],
   "source": []
  },
  {
   "cell_type": "markdown",
   "id": "bde658a4",
   "metadata": {},
   "source": [
    "# Scatter Plots"
   ]
  },
  {
   "cell_type": "code",
   "execution_count": 176,
   "id": "1a89180a",
   "metadata": {},
   "outputs": [
    {
     "data": {
      "text/html": [
       "<div>\n",
       "<style scoped>\n",
       "    .dataframe tbody tr th:only-of-type {\n",
       "        vertical-align: middle;\n",
       "    }\n",
       "\n",
       "    .dataframe tbody tr th {\n",
       "        vertical-align: top;\n",
       "    }\n",
       "\n",
       "    .dataframe thead th {\n",
       "        text-align: right;\n",
       "    }\n",
       "</style>\n",
       "<table border=\"1\" class=\"dataframe\">\n",
       "  <thead>\n",
       "    <tr style=\"text-align: right;\">\n",
       "      <th></th>\n",
       "      <th>Race/ethncity of owner</th>\n",
       "      <th>% businesses total</th>\n",
       "      <th>Average Revenue per employer ($1000)</th>\n",
       "      <th>Covid Survived</th>\n",
       "      <th>Covid Thrived</th>\n",
       "      <th>Estimated Businesses(2017)</th>\n",
       "      <th>Estimated Annual Receipts(2017)</th>\n",
       "      <th>Estimated Businesses(2019-2021)</th>\n",
       "      <th>Estimated Annual Receipts(2019-2021)</th>\n",
       "    </tr>\n",
       "  </thead>\n",
       "  <tbody>\n",
       "    <tr>\n",
       "      <th>0</th>\n",
       "      <td>Black-owned</td>\n",
       "      <td>2</td>\n",
       "      <td>1001</td>\n",
       "      <td>36.2</td>\n",
       "      <td>42.5</td>\n",
       "      <td>4000000.0</td>\n",
       "      <td>1.309000e+11</td>\n",
       "      <td>346836</td>\n",
       "      <td>4.633000e+11</td>\n",
       "    </tr>\n",
       "    <tr>\n",
       "      <th>1</th>\n",
       "      <td>Hispanic-owned</td>\n",
       "      <td>7</td>\n",
       "      <td>1259</td>\n",
       "      <td>23.0</td>\n",
       "      <td>5.0</td>\n",
       "      <td>555638.0</td>\n",
       "      <td>8.148000e+11</td>\n",
       "      <td>581200</td>\n",
       "      <td>8.746000e+11</td>\n",
       "    </tr>\n",
       "    <tr>\n",
       "      <th>2</th>\n",
       "      <td>Asian-owned</td>\n",
       "      <td>11</td>\n",
       "      <td>1374</td>\n",
       "      <td>10.9</td>\n",
       "      <td>25.5</td>\n",
       "      <td>124004.0</td>\n",
       "      <td>1.030000e+06</td>\n",
       "      <td>134567</td>\n",
       "      <td>1.337000e+11</td>\n",
       "    </tr>\n",
       "    <tr>\n",
       "      <th>3</th>\n",
       "      <td>American Indian and Alaska Native-owned</td>\n",
       "      <td>1</td>\n",
       "      <td>221</td>\n",
       "      <td>8.9</td>\n",
       "      <td>0.0</td>\n",
       "      <td>26064.0</td>\n",
       "      <td>NaN</td>\n",
       "      <td>26064</td>\n",
       "      <td>3.580000e+10</td>\n",
       "    </tr>\n",
       "    <tr>\n",
       "      <th>4</th>\n",
       "      <td>Native Hawaiian and Other Pacific Islander-owned</td>\n",
       "      <td>0</td>\n",
       "      <td>55</td>\n",
       "      <td>4.9</td>\n",
       "      <td>0.0</td>\n",
       "      <td>54749.0</td>\n",
       "      <td>8.500000e+09</td>\n",
       "      <td>7331</td>\n",
       "      <td>8.500000e+09</td>\n",
       "    </tr>\n",
       "  </tbody>\n",
       "</table>\n",
       "</div>"
      ],
      "text/plain": [
       "                              Race/ethncity of owner  % businesses total  \\\n",
       "0                                        Black-owned                   2   \n",
       "1                                     Hispanic-owned                   7   \n",
       "2                                        Asian-owned                  11   \n",
       "3            American Indian and Alaska Native-owned                   1   \n",
       "4  Native Hawaiian and Other Pacific Islander-owned                    0   \n",
       "\n",
       "   Average Revenue per employer ($1000)  Covid Survived  Covid Thrived  \\\n",
       "0                                  1001            36.2           42.5   \n",
       "1                                  1259            23.0            5.0   \n",
       "2                                  1374            10.9           25.5   \n",
       "3                                   221             8.9            0.0   \n",
       "4                                    55             4.9            0.0   \n",
       "\n",
       "   Estimated Businesses(2017)  Estimated Annual Receipts(2017)  \\\n",
       "0                   4000000.0                     1.309000e+11   \n",
       "1                    555638.0                     8.148000e+11   \n",
       "2                    124004.0                     1.030000e+06   \n",
       "3                     26064.0                              NaN   \n",
       "4                     54749.0                     8.500000e+09   \n",
       "\n",
       "   Estimated Businesses(2019-2021)  Estimated Annual Receipts(2019-2021)  \n",
       "0                           346836                          4.633000e+11  \n",
       "1                           581200                          8.746000e+11  \n",
       "2                           134567                          1.337000e+11  \n",
       "3                            26064                          3.580000e+10  \n",
       "4                             7331                          8.500000e+09  "
      ]
     },
     "execution_count": 176,
     "metadata": {},
     "output_type": "execute_result"
    }
   ],
   "source": [
    "Minority_owned_businesses.head()"
   ]
  },
  {
   "cell_type": "code",
   "execution_count": 182,
   "id": "6aaeb0e1",
   "metadata": {},
   "outputs": [
    {
     "data": {
      "text/plain": [
       "Text(0, 0.5, 'Covid Survived')"
      ]
     },
     "execution_count": 182,
     "metadata": {},
     "output_type": "execute_result"
    },
    {
     "data": {
      "image/png": "[encoded data removed]",
      "text/plain": [
       "<Figure size 432x288 with 1 Axes>"
      ]
     },
     "metadata": {
      "needs_background": "light"
     },
     "output_type": "display_data"
    }
   ],
   "source": [
    "Plot = Minority_owned_businesses.plot(x='Covid Thrived', y='Covid Survived', kind='scatter')\n",
    "Plot.set_title(\"Covid Survival Rate\")\n",
    "Plot.set_xlabel(\"Covid Thrived\")\n",
    "Plot.set_ylabel(\"Covid Survived\")"
   ]
  },
  {
   "cell_type": "code",
   "execution_count": 180,
   "id": "c089f5ce",
   "metadata": {},
   "outputs": [
    {
     "data": {
      "text/plain": [
       "(5, 9)"
      ]
     },
     "execution_count": 180,
     "metadata": {},
     "output_type": "execute_result"
    }
   ],
   "source": [
    "Minority_owned_businesses.shape"
   ]
  },
  {
   "cell_type": "code",
   "execution_count": 178,
   "id": "9a06782f",
   "metadata": {},
   "outputs": [
    {
     "data": {
      "text/plain": [
       "Text(0, 0.5, 'Estimated Annual Receipts(2017)')"
      ]
     },
     "execution_count": 178,
     "metadata": {},
     "output_type": "execute_result"
    },
    {
     "data": {
      "image/png": "[encoded data removed]",
      "text/plain": [
       "<Figure size 432x288 with 1 Axes>"
      ]
     },
     "metadata": {
      "needs_background": "light"
     },
     "output_type": "display_data"
    }
   ],
   "source": [
    "Plot = Minority_owned_businesses.plot(x='Estimated Annual Receipts(2019-2021)', y='Estimated Annual Receipts(2017)', kind='scatter')\n",
    "Plot.set_title(\"Estimated Annual Receipts(2017-2021)\")\n",
    "Plot.set_xlabel(\"Estimated Annual Receipts(2019-2021)\")\n",
    "Plot.set_ylabel(\"Estimated Annual Receipts(2017)\")"
   ]
  },
  {
   "cell_type": "code",
   "execution_count": 131,
   "id": "65ef8a1b",
   "metadata": {},
   "outputs": [
    {
     "data": {
      "text/plain": [
       "Text(0, 0.5, 'Estimated Annual Receipts(2019-2021)')"
      ]
     },
     "execution_count": 131,
     "metadata": {},
     "output_type": "execute_result"
    },
    {
     "data": {
      "image/png": "[encoded data removed]",
      "text/plain": [
       "<Figure size 720x4320 with 1 Axes>"
      ]
     },
     "metadata": {},
     "output_type": "display_data"
    }
   ],
   "source": [
    "Plot = Minority_owned_businesses.plot(x='Estimated Businesses(2017)', y='Estimated Businesses(2019-2021)', kind='scatter')\n",
    "Plot.set_title(\"Estimated Businesses(2017-2021)\")\n",
    "Plot.set_xlabel(\"Estimated Annual Receipts(2017)\")\n",
    "Plot.set_ylabel(\"Estimated Annual Receipts(2019-2021)\")"
   ]
  },
  {
   "cell_type": "markdown",
   "id": "2ff32a0b",
   "metadata": {},
   "source": [
    "## Line Graphs"
   ]
  },
  {
   "cell_type": "code",
   "execution_count": 110,
   "id": "c75a22ad",
   "metadata": {},
   "outputs": [
    {
     "data": {
      "text/html": [
       "<div>\n",
       "<style scoped>\n",
       "    .dataframe tbody tr th:only-of-type {\n",
       "        vertical-align: middle;\n",
       "    }\n",
       "\n",
       "    .dataframe tbody tr th {\n",
       "        vertical-align: top;\n",
       "    }\n",
       "\n",
       "    .dataframe thead th {\n",
       "        text-align: right;\n",
       "    }\n",
       "</style>\n",
       "<table border=\"1\" class=\"dataframe\">\n",
       "  <thead>\n",
       "    <tr style=\"text-align: right;\">\n",
       "      <th></th>\n",
       "      <th>Race/ethncity of owner</th>\n",
       "      <th>% businesses total</th>\n",
       "      <th>Average Revenue per employer ($1000)</th>\n",
       "      <th>Covid Survived</th>\n",
       "      <th>Covid Thrived</th>\n",
       "      <th>Estimated Businesses(2017)</th>\n",
       "      <th>Estimated Annual Receipts(2017)</th>\n",
       "      <th>Estimated Businesses(2019-2021)</th>\n",
       "      <th>Estimated Annual Receipts(2019-2021)</th>\n",
       "    </tr>\n",
       "  </thead>\n",
       "  <tbody>\n",
       "    <tr>\n",
       "      <th>0</th>\n",
       "      <td>Black-owned</td>\n",
       "      <td>2</td>\n",
       "      <td>1001</td>\n",
       "      <td>36.2</td>\n",
       "      <td>42.5</td>\n",
       "      <td>NaN</td>\n",
       "      <td>1.309000e+11</td>\n",
       "      <td>346836</td>\n",
       "      <td>1.309000e+11</td>\n",
       "    </tr>\n",
       "    <tr>\n",
       "      <th>1</th>\n",
       "      <td>Hispanic-owned</td>\n",
       "      <td>7</td>\n",
       "      <td>1259</td>\n",
       "      <td>23.0</td>\n",
       "      <td>5.0</td>\n",
       "      <td>NaN</td>\n",
       "      <td>8.148000e+11</td>\n",
       "      <td>581200</td>\n",
       "      <td>8.148000e+11</td>\n",
       "    </tr>\n",
       "    <tr>\n",
       "      <th>2</th>\n",
       "      <td>Asian-owned</td>\n",
       "      <td>11</td>\n",
       "      <td>1374</td>\n",
       "      <td>10.9</td>\n",
       "      <td>25.5</td>\n",
       "      <td>NaN</td>\n",
       "      <td>1.030000e+06</td>\n",
       "      <td>134567</td>\n",
       "      <td>1.030000e+06</td>\n",
       "    </tr>\n",
       "    <tr>\n",
       "      <th>3</th>\n",
       "      <td>American Indian and Alaska Native-owned</td>\n",
       "      <td>1</td>\n",
       "      <td>221</td>\n",
       "      <td>8.9</td>\n",
       "      <td>0.0</td>\n",
       "      <td>NaN</td>\n",
       "      <td>NaN</td>\n",
       "      <td>26064</td>\n",
       "      <td>NaN</td>\n",
       "    </tr>\n",
       "    <tr>\n",
       "      <th>4</th>\n",
       "      <td>Native Hawaiian and Other Pacific Islander-owned</td>\n",
       "      <td>0</td>\n",
       "      <td>55</td>\n",
       "      <td>4.9</td>\n",
       "      <td>0.0</td>\n",
       "      <td>NaN</td>\n",
       "      <td>8.500000e+09</td>\n",
       "      <td>7331</td>\n",
       "      <td>8.500000e+09</td>\n",
       "    </tr>\n",
       "  </tbody>\n",
       "</table>\n",
       "</div>"
      ],
      "text/plain": [
       "                              Race/ethncity of owner  % businesses total  \\\n",
       "0                                        Black-owned                   2   \n",
       "1                                     Hispanic-owned                   7   \n",
       "2                                        Asian-owned                  11   \n",
       "3            American Indian and Alaska Native-owned                   1   \n",
       "4  Native Hawaiian and Other Pacific Islander-owned                    0   \n",
       "\n",
       "   Average Revenue per employer ($1000)  Covid Survived  Covid Thrived  \\\n",
       "0                                  1001            36.2           42.5   \n",
       "1                                  1259            23.0            5.0   \n",
       "2                                  1374            10.9           25.5   \n",
       "3                                   221             8.9            0.0   \n",
       "4                                    55             4.9            0.0   \n",
       "\n",
       "   Estimated Businesses(2017)  Estimated Annual Receipts(2017)  \\\n",
       "0                         NaN                     1.309000e+11   \n",
       "1                         NaN                     8.148000e+11   \n",
       "2                         NaN                     1.030000e+06   \n",
       "3                         NaN                              NaN   \n",
       "4                         NaN                     8.500000e+09   \n",
       "\n",
       "   Estimated Businesses(2019-2021)  Estimated Annual Receipts(2019-2021)  \n",
       "0                           346836                          1.309000e+11  \n",
       "1                           581200                          8.148000e+11  \n",
       "2                           134567                          1.030000e+06  \n",
       "3                            26064                                   NaN  \n",
       "4                             7331                          8.500000e+09  "
      ]
     },
     "execution_count": 110,
     "metadata": {},
     "output_type": "execute_result"
    }
   ],
   "source": [
    "Minority_owned_businesses.head()"
   ]
  },
  {
   "cell_type": "code",
   "execution_count": 132,
   "id": "d932f074",
   "metadata": {},
   "outputs": [
    {
     "data": {
      "text/plain": [
       "Text(0.5, 1.0, 'Scatter Plot of Estimated Annual Receipts')"
      ]
     },
     "execution_count": 132,
     "metadata": {},
     "output_type": "execute_result"
    },
    {
     "data": {
      "image/png": "[encoded data removed]",
      "text/plain": [
       "<Figure size 720x4320 with 1 Axes>"
      ]
     },
     "metadata": {},
     "output_type": "display_data"
    }
   ],
   "source": [
    "plt.plot(Minority_owned_businesses['Estimated Annual Receipts(2017)'], Minority_owned_businesses['Estimated Annual Receipts(2019-2021)'])\n",
    "plt.xlabel('Estimated Annual Receipts(2017)')\n",
    "plt.ylabel('Estimated Annual Receipts(2019-2021)')\n",
    "plt.title('Scatter Plot of Estimated Annual Receipts')"
   ]
  },
  {
   "cell_type": "code",
   "execution_count": 256,
   "id": "9c70b9fd",
   "metadata": {},
   "outputs": [
    {
     "data": {
      "text/plain": [
       "[<matplotlib.lines.Line2D at 0x2578a6929e0>]"
      ]
     },
     "execution_count": 256,
     "metadata": {},
     "output_type": "execute_result"
    },
    {
     "data": {
      "image/png": "[encoded data removed]",
      "text/plain": [
       "<Figure size 432x288 with 1 Axes>"
      ]
     },
     "metadata": {
      "needs_background": "light"
     },
     "output_type": "display_data"
    }
   ],
   "source": [
    "plt.plot(Minority_owned_businesses['Estimated Annual Receipts(2017)'], Minority_owned_businesses['Race/ethncity of owner'])"
   ]
  },
  {
   "cell_type": "code",
   "execution_count": 120,
   "id": "dcaf973f",
   "metadata": {},
   "outputs": [
    {
     "data": {
      "text/plain": [
       "Text(0.5, 1.0, 'Estimated Annual Receipts(2017)')"
      ]
     },
     "execution_count": 120,
     "metadata": {},
     "output_type": "execute_result"
    },
    {
     "data": {
      "image/png": "[encoded data removed]",
      "text/plain": [
       "<Figure size 432x288 with 1 Axes>"
      ]
     },
     "metadata": {
      "needs_background": "light"
     },
     "output_type": "display_data"
    }
   ],
   "source": [
    "plt.plot(Minority_owned_businesses['Estimated Annual Receipts(2017)'], Minority_owned_businesses['Race/ethncity of owner'])\n",
    "plt.xlabel('Estimated Annual Receipts(2017)')\n",
    "plt.ylabel('Race/ethncity of owner')\n",
    "plt.title(\"Estimated Annual Receipts(2017)\")"
   ]
  },
  {
   "cell_type": "code",
   "execution_count": null,
   "id": "16f7970b",
   "metadata": {},
   "outputs": [],
   "source": []
  }
 ],
 "metadata": {
  "kernelspec": {
   "display_name": "Python 3 (ipykernel)",
   "language": "python",
   "name": "python3"
  },
  "language_info": {
   "codemirror_mode": {
    "name": "ipython",
    "version": 3
   },
   "file_extension": ".py",
   "mimetype": "text/x-python",
   "name": "python",
   "nbconvert_exporter": "python",
   "pygments_lexer": "ipython3",
   "version": "3.10.2"
  }
 },
 "nbformat": 4,
 "nbformat_minor": 5
}
