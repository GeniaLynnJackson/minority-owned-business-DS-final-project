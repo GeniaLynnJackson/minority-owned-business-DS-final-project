{
 "cells": [
  {
   "cell_type": "code",
   "execution_count": 1,
   "id": "07f8dd6d-0418-47ad-b391-a1fbf44d3562",
   "metadata": {
    "tags": []
   },
   "outputs": [],
   "source": [
    "import seaborn as sns\n",
    "from sklearn.utils import shuffle\n",
    "from sklearn.linear_model import LinearRegression\n",
    "from sklearn.model_selection import train_test_split\n",
    "import matplotlib.pyplot as plt\n",
    "get_ipython().run_line_magic('matplotlib', 'inline')\n",
    "from sklearn import metrics\n",
    "import numpy as np\n",
    "import pandas as pd"
   ]
  },
  {
   "cell_type": "code",
   "execution_count": 4,
   "id": "68d301ef-d341-43b6-b0da-7cfe7f23d777",
   "metadata": {
    "tags": []
   },
   "outputs": [],
   "source": [
    "IL_Black_Businesses_Annual_Revenue_Impact_By_COVID_19_Pandemic_Since_2020 = pd.read_csv(\"/Users/rachelhawkins/Desktop/Data-Science-Program/DS110-Final Project/Illinois/IL Black Businesses Annual Revenue Impact by COVID-19 Pandemic since 2020.csv\")"
   ]
  },
  {
   "cell_type": "code",
   "execution_count": 5,
   "id": "2307cffe-4227-44c7-8114-040d9f6c4c75",
   "metadata": {
    "tags": []
   },
   "outputs": [
    {
     "data": {
      "text/html": [
       "<div>\n",
       "<style scoped>\n",
       "    .dataframe tbody tr th:only-of-type {\n",
       "        vertical-align: middle;\n",
       "    }\n",
       "\n",
       "    .dataframe tbody tr th {\n",
       "        vertical-align: top;\n",
       "    }\n",
       "\n",
       "    .dataframe thead th {\n",
       "        text-align: right;\n",
       "    }\n",
       "</style>\n",
       "<table border=\"1\" class=\"dataframe\">\n",
       "  <thead>\n",
       "    <tr style=\"text-align: right;\">\n",
       "      <th></th>\n",
       "      <th>Unnamed: 0</th>\n",
       "      <th>Unnamed: 1</th>\n",
       "    </tr>\n",
       "  </thead>\n",
       "  <tbody>\n",
       "    <tr>\n",
       "      <th>0</th>\n",
       "      <td>Over $50,000 decrease</td>\n",
       "      <td>18.27%</td>\n",
       "    </tr>\n",
       "    <tr>\n",
       "      <th>1</th>\n",
       "      <td>$24,999-$50,000 decrease</td>\n",
       "      <td>11.30%</td>\n",
       "    </tr>\n",
       "    <tr>\n",
       "      <th>2</th>\n",
       "      <td>$10,000-$24,999 decrease</td>\n",
       "      <td>18.77%</td>\n",
       "    </tr>\n",
       "    <tr>\n",
       "      <th>3</th>\n",
       "      <td>$10,000 decrease</td>\n",
       "      <td>18.44%</td>\n",
       "    </tr>\n",
       "    <tr>\n",
       "      <th>4</th>\n",
       "      <td>No impact</td>\n",
       "      <td>17.44%</td>\n",
       "    </tr>\n",
       "  </tbody>\n",
       "</table>\n",
       "</div>"
      ],
      "text/plain": [
       "                 Unnamed: 0 Unnamed: 1\n",
       "0     Over $50,000 decrease     18.27%\n",
       "1  $24,999-$50,000 decrease     11.30%\n",
       "2  $10,000-$24,999 decrease     18.77%\n",
       "3          $10,000 decrease     18.44%\n",
       "4                 No impact     17.44%"
      ]
     },
     "execution_count": 5,
     "metadata": {},
     "output_type": "execute_result"
    }
   ],
   "source": [
    "IL_Black_Businesses_Annual_Revenue_Impact_By_COVID_19_Pandemic_Since_2020.head()"
   ]
  },
  {
   "cell_type": "code",
   "execution_count": 6,
   "id": "74199742-ff2d-435f-93f3-b4625c28f4f0",
   "metadata": {
    "tags": []
   },
   "outputs": [],
   "source": [
    "IL_Black_Businesses_Annual_Revenue_Impact_By_COVID_19_Pandemic_Since_2020.rename(columns={'Unnamed: 0':'Status'}, inplace=True)"
   ]
  },
  {
   "cell_type": "code",
   "execution_count": 7,
   "id": "49ae4ee3-c2ef-45a8-8a0e-2203de10f837",
   "metadata": {
    "tags": []
   },
   "outputs": [],
   "source": [
    "IL_Black_Businesses_Annual_Revenue_Impact_By_COVID_19_Pandemic_Since_2020.rename(columns={'Unnamed: 1':'Percentage'}, inplace=True)"
   ]
  },
  {
   "cell_type": "code",
   "execution_count": 8,
   "id": "aa10498c-3675-4956-8187-5f97d1475693",
   "metadata": {
    "tags": []
   },
   "outputs": [
    {
     "data": {
      "text/html": [
       "<div>\n",
       "<style scoped>\n",
       "    .dataframe tbody tr th:only-of-type {\n",
       "        vertical-align: middle;\n",
       "    }\n",
       "\n",
       "    .dataframe tbody tr th {\n",
       "        vertical-align: top;\n",
       "    }\n",
       "\n",
       "    .dataframe thead th {\n",
       "        text-align: right;\n",
       "    }\n",
       "</style>\n",
       "<table border=\"1\" class=\"dataframe\">\n",
       "  <thead>\n",
       "    <tr style=\"text-align: right;\">\n",
       "      <th></th>\n",
       "      <th>Status</th>\n",
       "      <th>Percentage</th>\n",
       "    </tr>\n",
       "  </thead>\n",
       "  <tbody>\n",
       "    <tr>\n",
       "      <th>0</th>\n",
       "      <td>Over $50,000 decrease</td>\n",
       "      <td>18.27%</td>\n",
       "    </tr>\n",
       "    <tr>\n",
       "      <th>1</th>\n",
       "      <td>$24,999-$50,000 decrease</td>\n",
       "      <td>11.30%</td>\n",
       "    </tr>\n",
       "    <tr>\n",
       "      <th>2</th>\n",
       "      <td>$10,000-$24,999 decrease</td>\n",
       "      <td>18.77%</td>\n",
       "    </tr>\n",
       "    <tr>\n",
       "      <th>3</th>\n",
       "      <td>$10,000 decrease</td>\n",
       "      <td>18.44%</td>\n",
       "    </tr>\n",
       "    <tr>\n",
       "      <th>4</th>\n",
       "      <td>No impact</td>\n",
       "      <td>17.44%</td>\n",
       "    </tr>\n",
       "  </tbody>\n",
       "</table>\n",
       "</div>"
      ],
      "text/plain": [
       "                     Status Percentage\n",
       "0     Over $50,000 decrease     18.27%\n",
       "1  $24,999-$50,000 decrease     11.30%\n",
       "2  $10,000-$24,999 decrease     18.77%\n",
       "3          $10,000 decrease     18.44%\n",
       "4                 No impact     17.44%"
      ]
     },
     "execution_count": 8,
     "metadata": {},
     "output_type": "execute_result"
    }
   ],
   "source": [
    "IL_Black_Businesses_Annual_Revenue_Impact_By_COVID_19_Pandemic_Since_2020.head()"
   ]
  },
  {
   "cell_type": "code",
   "execution_count": null,
   "id": "1bc42ea4-1ec9-413f-8135-822a1e74dc37",
   "metadata": {},
   "outputs": [],
   "source": []
  }
 ],
 "metadata": {
  "kernelspec": {
   "display_name": "Python 3 (ipykernel)",
   "language": "python",
   "name": "python3"
  },
  "language_info": {
   "codemirror_mode": {
    "name": "ipython",
    "version": 3
   },
   "file_extension": ".py",
   "mimetype": "text/x-python",
   "name": "python",
   "nbconvert_exporter": "python",
   "pygments_lexer": "ipython3",
   "version": "3.11.4"
  }
 },
 "nbformat": 4,
 "nbformat_minor": 5
}
