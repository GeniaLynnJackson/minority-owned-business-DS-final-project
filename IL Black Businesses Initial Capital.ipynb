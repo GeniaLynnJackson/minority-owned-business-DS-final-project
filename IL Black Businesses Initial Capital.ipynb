{
 "cells": [
  {
   "cell_type": "code",
   "execution_count": 1,
   "id": "98445ef2-bc2c-4df7-99bc-23c50e3a5a41",
   "metadata": {
    "tags": []
   },
   "outputs": [],
   "source": [
    "import seaborn as sns\n",
    "from sklearn.utils import shuffle\n",
    "from sklearn.linear_model import LinearRegression\n",
    "from sklearn.model_selection import train_test_split\n",
    "import matplotlib.pyplot as plt\n",
    "get_ipython().run_line_magic('matplotlib', 'inline')\n",
    "from sklearn import metrics\n",
    "import numpy as np\n",
    "import pandas as pd"
   ]
  },
  {
   "cell_type": "code",
   "execution_count": 2,
   "id": "3a844d16-1ef3-41d3-a902-90bc74a1f9d1",
   "metadata": {
    "tags": []
   },
   "outputs": [],
   "source": [
    "IL_Black_Businesses_Initial_Capital = pd.read_csv(\"/Users/rachelhawkins/Desktop/Data-Science-Program/DS110-Final Project/Illinois/IL Black Businesses Initial Capital.csv\")"
   ]
  },
  {
   "cell_type": "code",
   "execution_count": 3,
   "id": "679deada-7e5a-4895-b273-757e77c02bb1",
   "metadata": {
    "tags": []
   },
   "outputs": [
    {
     "data": {
      "text/html": [
       "<div>\n",
       "<style scoped>\n",
       "    .dataframe tbody tr th:only-of-type {\n",
       "        vertical-align: middle;\n",
       "    }\n",
       "\n",
       "    .dataframe tbody tr th {\n",
       "        vertical-align: top;\n",
       "    }\n",
       "\n",
       "    .dataframe thead th {\n",
       "        text-align: right;\n",
       "    }\n",
       "</style>\n",
       "<table border=\"1\" class=\"dataframe\">\n",
       "  <thead>\n",
       "    <tr style=\"text-align: right;\">\n",
       "      <th></th>\n",
       "      <th>Field</th>\n",
       "      <th>Count</th>\n",
       "      <th>Percentage</th>\n",
       "    </tr>\n",
       "  </thead>\n",
       "  <tbody>\n",
       "    <tr>\n",
       "      <th>0</th>\n",
       "      <td>Under $1,000</td>\n",
       "      <td>74</td>\n",
       "      <td>10.90%</td>\n",
       "    </tr>\n",
       "    <tr>\n",
       "      <th>1</th>\n",
       "      <td>$1,000-$4,999</td>\n",
       "      <td>162</td>\n",
       "      <td>23.86%</td>\n",
       "    </tr>\n",
       "    <tr>\n",
       "      <th>2</th>\n",
       "      <td>$5,000-$9,999</td>\n",
       "      <td>106</td>\n",
       "      <td>15.61%</td>\n",
       "    </tr>\n",
       "    <tr>\n",
       "      <th>3</th>\n",
       "      <td>$10,000-$19,999</td>\n",
       "      <td>119</td>\n",
       "      <td>17.53%</td>\n",
       "    </tr>\n",
       "    <tr>\n",
       "      <th>4</th>\n",
       "      <td>$20,000-$49,999</td>\n",
       "      <td>94</td>\n",
       "      <td>13.84%</td>\n",
       "    </tr>\n",
       "  </tbody>\n",
       "</table>\n",
       "</div>"
      ],
      "text/plain": [
       "             Field  Count Percentage\n",
       "0     Under $1,000     74     10.90%\n",
       "1    $1,000-$4,999    162     23.86%\n",
       "2    $5,000-$9,999    106     15.61%\n",
       "3  $10,000-$19,999    119     17.53%\n",
       "4  $20,000-$49,999     94     13.84%"
      ]
     },
     "execution_count": 3,
     "metadata": {},
     "output_type": "execute_result"
    }
   ],
   "source": [
    "IL_Black_Businesses_Initial_Capital.head()"
   ]
  },
  {
   "cell_type": "code",
   "execution_count": 4,
   "id": "a7e88db5-6eca-4410-b739-d1fd236038dd",
   "metadata": {
    "tags": []
   },
   "outputs": [],
   "source": [
    "IL_Black_Businesses_Initial_Capital.rename(columns={'Field':'Amount'}, inplace=True)"
   ]
  },
  {
   "cell_type": "code",
   "execution_count": 5,
   "id": "d4bbff98-b3a5-4a3a-a68a-60313a4a66ec",
   "metadata": {
    "tags": []
   },
   "outputs": [
    {
     "data": {
      "text/html": [
       "<div>\n",
       "<style scoped>\n",
       "    .dataframe tbody tr th:only-of-type {\n",
       "        vertical-align: middle;\n",
       "    }\n",
       "\n",
       "    .dataframe tbody tr th {\n",
       "        vertical-align: top;\n",
       "    }\n",
       "\n",
       "    .dataframe thead th {\n",
       "        text-align: right;\n",
       "    }\n",
       "</style>\n",
       "<table border=\"1\" class=\"dataframe\">\n",
       "  <thead>\n",
       "    <tr style=\"text-align: right;\">\n",
       "      <th></th>\n",
       "      <th>Amount</th>\n",
       "      <th>Count</th>\n",
       "      <th>Percentage</th>\n",
       "    </tr>\n",
       "  </thead>\n",
       "  <tbody>\n",
       "    <tr>\n",
       "      <th>0</th>\n",
       "      <td>Under $1,000</td>\n",
       "      <td>74</td>\n",
       "      <td>10.90%</td>\n",
       "    </tr>\n",
       "    <tr>\n",
       "      <th>1</th>\n",
       "      <td>$1,000-$4,999</td>\n",
       "      <td>162</td>\n",
       "      <td>23.86%</td>\n",
       "    </tr>\n",
       "    <tr>\n",
       "      <th>2</th>\n",
       "      <td>$5,000-$9,999</td>\n",
       "      <td>106</td>\n",
       "      <td>15.61%</td>\n",
       "    </tr>\n",
       "    <tr>\n",
       "      <th>3</th>\n",
       "      <td>$10,000-$19,999</td>\n",
       "      <td>119</td>\n",
       "      <td>17.53%</td>\n",
       "    </tr>\n",
       "    <tr>\n",
       "      <th>4</th>\n",
       "      <td>$20,000-$49,999</td>\n",
       "      <td>94</td>\n",
       "      <td>13.84%</td>\n",
       "    </tr>\n",
       "  </tbody>\n",
       "</table>\n",
       "</div>"
      ],
      "text/plain": [
       "            Amount  Count Percentage\n",
       "0     Under $1,000     74     10.90%\n",
       "1    $1,000-$4,999    162     23.86%\n",
       "2    $5,000-$9,999    106     15.61%\n",
       "3  $10,000-$19,999    119     17.53%\n",
       "4  $20,000-$49,999     94     13.84%"
      ]
     },
     "execution_count": 5,
     "metadata": {},
     "output_type": "execute_result"
    }
   ],
   "source": [
    "IL_Black_Businesses_Initial_Capital.head()"
   ]
  },
  {
   "cell_type": "code",
   "execution_count": null,
   "id": "0787ecd2-0a1e-4d8f-a522-88aaa7cfba61",
   "metadata": {},
   "outputs": [],
   "source": []
  }
 ],
 "metadata": {
  "kernelspec": {
   "display_name": "Python 3 (ipykernel)",
   "language": "python",
   "name": "python3"
  },
  "language_info": {
   "codemirror_mode": {
    "name": "ipython",
    "version": 3
   },
   "file_extension": ".py",
   "mimetype": "text/x-python",
   "name": "python",
   "nbconvert_exporter": "python",
   "pygments_lexer": "ipython3",
   "version": "3.11.4"
  }
 },
 "nbformat": 4,
 "nbformat_minor": 5
}
