{
 "cells": [
  {
   "cell_type": "code",
   "execution_count": 1,
   "id": "b805e815-99f0-43bf-bf52-8f29a2242ea4",
   "metadata": {
    "tags": []
   },
   "outputs": [],
   "source": [
    "import seaborn as sns\n",
    "from sklearn.utils import shuffle\n",
    "from sklearn.linear_model import LinearRegression\n",
    "from sklearn.model_selection import train_test_split\n",
    "import matplotlib.pyplot as plt\n",
    "get_ipython().run_line_magic('matplotlib', 'inline')\n",
    "from sklearn import metrics\n",
    "import numpy as np\n",
    "import pandas as pd"
   ]
  },
  {
   "cell_type": "code",
   "execution_count": 2,
   "id": "8085dc7c-c269-448f-8b85-d375156b7c10",
   "metadata": {
    "tags": []
   },
   "outputs": [],
   "source": [
    "IL_Black_Businesses_Emergency_Relief = pd.read_csv(\"/Users/rachelhawkins/Desktop/Data-Science-Program/DS110-Final Project/Illinois/IL Black Businesses Emergency Relief.csv\")"
   ]
  },
  {
   "cell_type": "code",
   "execution_count": 3,
   "id": "0fdbcc67-926a-4a54-9797-66018e8dbb98",
   "metadata": {
    "tags": []
   },
   "outputs": [
    {
     "data": {
      "text/html": [
       "<div>\n",
       "<style scoped>\n",
       "    .dataframe tbody tr th:only-of-type {\n",
       "        vertical-align: middle;\n",
       "    }\n",
       "\n",
       "    .dataframe tbody tr th {\n",
       "        vertical-align: top;\n",
       "    }\n",
       "\n",
       "    .dataframe thead th {\n",
       "        text-align: right;\n",
       "    }\n",
       "</style>\n",
       "<table border=\"1\" class=\"dataframe\">\n",
       "  <thead>\n",
       "    <tr style=\"text-align: right;\">\n",
       "      <th></th>\n",
       "      <th>Field</th>\n",
       "      <th>Percentage</th>\n",
       "    </tr>\n",
       "  </thead>\n",
       "  <tbody>\n",
       "    <tr>\n",
       "      <th>0</th>\n",
       "      <td>SBA Paycheck Protection Program (PPP)</td>\n",
       "      <td>27.49%</td>\n",
       "    </tr>\n",
       "    <tr>\n",
       "      <th>1</th>\n",
       "      <td>SBA Economic Injury Disaster Loan (EIDL)</td>\n",
       "      <td>23.78%</td>\n",
       "    </tr>\n",
       "    <tr>\n",
       "      <th>2</th>\n",
       "      <td>State of IL or local government grant (BIG Gra...</td>\n",
       "      <td>12.87%</td>\n",
       "    </tr>\n",
       "    <tr>\n",
       "      <th>3</th>\n",
       "      <td>Private grants or donations</td>\n",
       "      <td>7.50%</td>\n",
       "    </tr>\n",
       "    <tr>\n",
       "      <th>4</th>\n",
       "      <td>Other</td>\n",
       "      <td>4.58%</td>\n",
       "    </tr>\n",
       "  </tbody>\n",
       "</table>\n",
       "</div>"
      ],
      "text/plain": [
       "                                               Field Percentage\n",
       "0              SBA Paycheck Protection Program (PPP)     27.49%\n",
       "1           SBA Economic Injury Disaster Loan (EIDL)     23.78%\n",
       "2  State of IL or local government grant (BIG Gra...     12.87%\n",
       "3                        Private grants or donations      7.50%\n",
       "4                                              Other      4.58%"
      ]
     },
     "execution_count": 3,
     "metadata": {},
     "output_type": "execute_result"
    }
   ],
   "source": [
    "IL_Black_Businesses_Emergency_Relief.head()"
   ]
  },
  {
   "cell_type": "code",
   "execution_count": 4,
   "id": "fffe0bef-5b68-40a3-83b1-39f35e621185",
   "metadata": {
    "tags": []
   },
   "outputs": [],
   "source": [
    "IL_Black_Businesses_Emergency_Relief.rename(columns={'Field':'Aid'}, inplace=True)"
   ]
  },
  {
   "cell_type": "code",
   "execution_count": 5,
   "id": "0aa94567-a00b-4974-ad6b-36eee44e0863",
   "metadata": {
    "tags": []
   },
   "outputs": [
    {
     "data": {
      "text/html": [
       "<div>\n",
       "<style scoped>\n",
       "    .dataframe tbody tr th:only-of-type {\n",
       "        vertical-align: middle;\n",
       "    }\n",
       "\n",
       "    .dataframe tbody tr th {\n",
       "        vertical-align: top;\n",
       "    }\n",
       "\n",
       "    .dataframe thead th {\n",
       "        text-align: right;\n",
       "    }\n",
       "</style>\n",
       "<table border=\"1\" class=\"dataframe\">\n",
       "  <thead>\n",
       "    <tr style=\"text-align: right;\">\n",
       "      <th></th>\n",
       "      <th>Aid</th>\n",
       "      <th>Percentage</th>\n",
       "    </tr>\n",
       "  </thead>\n",
       "  <tbody>\n",
       "    <tr>\n",
       "      <th>0</th>\n",
       "      <td>SBA Paycheck Protection Program (PPP)</td>\n",
       "      <td>27.49%</td>\n",
       "    </tr>\n",
       "    <tr>\n",
       "      <th>1</th>\n",
       "      <td>SBA Economic Injury Disaster Loan (EIDL)</td>\n",
       "      <td>23.78%</td>\n",
       "    </tr>\n",
       "    <tr>\n",
       "      <th>2</th>\n",
       "      <td>State of IL or local government grant (BIG Gra...</td>\n",
       "      <td>12.87%</td>\n",
       "    </tr>\n",
       "    <tr>\n",
       "      <th>3</th>\n",
       "      <td>Private grants or donations</td>\n",
       "      <td>7.50%</td>\n",
       "    </tr>\n",
       "    <tr>\n",
       "      <th>4</th>\n",
       "      <td>Other</td>\n",
       "      <td>4.58%</td>\n",
       "    </tr>\n",
       "  </tbody>\n",
       "</table>\n",
       "</div>"
      ],
      "text/plain": [
       "                                                 Aid Percentage\n",
       "0              SBA Paycheck Protection Program (PPP)     27.49%\n",
       "1           SBA Economic Injury Disaster Loan (EIDL)     23.78%\n",
       "2  State of IL or local government grant (BIG Gra...     12.87%\n",
       "3                        Private grants or donations      7.50%\n",
       "4                                              Other      4.58%"
      ]
     },
     "execution_count": 5,
     "metadata": {},
     "output_type": "execute_result"
    }
   ],
   "source": [
    "IL_Black_Businesses_Emergency_Relief.head()"
   ]
  },
  {
   "cell_type": "code",
   "execution_count": null,
   "id": "7c78e54e-ec3f-4e5b-b0f5-90e418a22565",
   "metadata": {},
   "outputs": [],
   "source": []
  }
 ],
 "metadata": {
  "kernelspec": {
   "display_name": "Python 3 (ipykernel)",
   "language": "python",
   "name": "python3"
  },
  "language_info": {
   "codemirror_mode": {
    "name": "ipython",
    "version": 3
   },
   "file_extension": ".py",
   "mimetype": "text/x-python",
   "name": "python",
   "nbconvert_exporter": "python",
   "pygments_lexer": "ipython3",
   "version": "3.11.4"
  }
 },
 "nbformat": 4,
 "nbformat_minor": 5
}
